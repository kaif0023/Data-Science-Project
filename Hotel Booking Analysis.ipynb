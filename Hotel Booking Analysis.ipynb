{
 "cells": [
  {
   "cell_type": "markdown",
   "id": "d2af10cb",
   "metadata": {},
   "source": [
    "## Loading Necessary Libraries.."
   ]
  },
  {
   "cell_type": "code",
   "execution_count": 1,
   "id": "ca7543cc",
   "metadata": {},
   "outputs": [],
   "source": [
    "import pandas as pd\n",
    "import numpy as np\n",
    "import matplotlib.pyplot as plt\n",
    "import seaborn  as sns\n",
    "from datetime import datetime as dt"
   ]
  },
  {
   "cell_type": "markdown",
   "id": "d9323909",
   "metadata": {},
   "source": [
    "## Loading The Dataset Of Hotel Booking."
   ]
  },
  {
   "cell_type": "code",
   "execution_count": 2,
   "id": "3d14a221",
   "metadata": {},
   "outputs": [],
   "source": [
    "hotel=pd.read_csv(\"C:\\\\Users\\\\md kaif\\\\Downloads\\\\archive\\\\hotel_bookings.csv\")"
   ]
  },
  {
   "cell_type": "markdown",
   "id": "c8cde9bb",
   "metadata": {},
   "source": [
    "## Reading The Top 10 Rows."
   ]
  },
  {
   "cell_type": "code",
   "execution_count": 3,
   "id": "bd27723a",
   "metadata": {},
   "outputs": [
    {
     "data": {
      "text/html": [
       "<div>\n",
       "<style scoped>\n",
       "    .dataframe tbody tr th:only-of-type {\n",
       "        vertical-align: middle;\n",
       "    }\n",
       "\n",
       "    .dataframe tbody tr th {\n",
       "        vertical-align: top;\n",
       "    }\n",
       "\n",
       "    .dataframe thead th {\n",
       "        text-align: right;\n",
       "    }\n",
       "</style>\n",
       "<table border=\"1\" class=\"dataframe\">\n",
       "  <thead>\n",
       "    <tr style=\"text-align: right;\">\n",
       "      <th></th>\n",
       "      <th>hotel</th>\n",
       "      <th>is_canceled</th>\n",
       "      <th>lead_time</th>\n",
       "      <th>arrival_date_year</th>\n",
       "      <th>arrival_date_month</th>\n",
       "      <th>arrival_date_week_number</th>\n",
       "      <th>arrival_date_day_of_month</th>\n",
       "      <th>stays_in_weekend_nights</th>\n",
       "      <th>stays_in_week_nights</th>\n",
       "      <th>adults</th>\n",
       "      <th>...</th>\n",
       "      <th>deposit_type</th>\n",
       "      <th>agent</th>\n",
       "      <th>company</th>\n",
       "      <th>days_in_waiting_list</th>\n",
       "      <th>customer_type</th>\n",
       "      <th>adr</th>\n",
       "      <th>required_car_parking_spaces</th>\n",
       "      <th>total_of_special_requests</th>\n",
       "      <th>reservation_status</th>\n",
       "      <th>reservation_status_date</th>\n",
       "    </tr>\n",
       "  </thead>\n",
       "  <tbody>\n",
       "    <tr>\n",
       "      <th>0</th>\n",
       "      <td>Resort Hotel</td>\n",
       "      <td>0</td>\n",
       "      <td>342</td>\n",
       "      <td>2015</td>\n",
       "      <td>July</td>\n",
       "      <td>27</td>\n",
       "      <td>1</td>\n",
       "      <td>0</td>\n",
       "      <td>0</td>\n",
       "      <td>2</td>\n",
       "      <td>...</td>\n",
       "      <td>No Deposit</td>\n",
       "      <td>NaN</td>\n",
       "      <td>NaN</td>\n",
       "      <td>0</td>\n",
       "      <td>Transient</td>\n",
       "      <td>0.0</td>\n",
       "      <td>0</td>\n",
       "      <td>0</td>\n",
       "      <td>Check-Out</td>\n",
       "      <td>2015-07-01</td>\n",
       "    </tr>\n",
       "    <tr>\n",
       "      <th>1</th>\n",
       "      <td>Resort Hotel</td>\n",
       "      <td>0</td>\n",
       "      <td>737</td>\n",
       "      <td>2015</td>\n",
       "      <td>July</td>\n",
       "      <td>27</td>\n",
       "      <td>1</td>\n",
       "      <td>0</td>\n",
       "      <td>0</td>\n",
       "      <td>2</td>\n",
       "      <td>...</td>\n",
       "      <td>No Deposit</td>\n",
       "      <td>NaN</td>\n",
       "      <td>NaN</td>\n",
       "      <td>0</td>\n",
       "      <td>Transient</td>\n",
       "      <td>0.0</td>\n",
       "      <td>0</td>\n",
       "      <td>0</td>\n",
       "      <td>Check-Out</td>\n",
       "      <td>2015-07-01</td>\n",
       "    </tr>\n",
       "    <tr>\n",
       "      <th>2</th>\n",
       "      <td>Resort Hotel</td>\n",
       "      <td>0</td>\n",
       "      <td>7</td>\n",
       "      <td>2015</td>\n",
       "      <td>July</td>\n",
       "      <td>27</td>\n",
       "      <td>1</td>\n",
       "      <td>0</td>\n",
       "      <td>1</td>\n",
       "      <td>1</td>\n",
       "      <td>...</td>\n",
       "      <td>No Deposit</td>\n",
       "      <td>NaN</td>\n",
       "      <td>NaN</td>\n",
       "      <td>0</td>\n",
       "      <td>Transient</td>\n",
       "      <td>75.0</td>\n",
       "      <td>0</td>\n",
       "      <td>0</td>\n",
       "      <td>Check-Out</td>\n",
       "      <td>2015-07-02</td>\n",
       "    </tr>\n",
       "    <tr>\n",
       "      <th>3</th>\n",
       "      <td>Resort Hotel</td>\n",
       "      <td>0</td>\n",
       "      <td>13</td>\n",
       "      <td>2015</td>\n",
       "      <td>July</td>\n",
       "      <td>27</td>\n",
       "      <td>1</td>\n",
       "      <td>0</td>\n",
       "      <td>1</td>\n",
       "      <td>1</td>\n",
       "      <td>...</td>\n",
       "      <td>No Deposit</td>\n",
       "      <td>304.0</td>\n",
       "      <td>NaN</td>\n",
       "      <td>0</td>\n",
       "      <td>Transient</td>\n",
       "      <td>75.0</td>\n",
       "      <td>0</td>\n",
       "      <td>0</td>\n",
       "      <td>Check-Out</td>\n",
       "      <td>2015-07-02</td>\n",
       "    </tr>\n",
       "    <tr>\n",
       "      <th>4</th>\n",
       "      <td>Resort Hotel</td>\n",
       "      <td>0</td>\n",
       "      <td>14</td>\n",
       "      <td>2015</td>\n",
       "      <td>July</td>\n",
       "      <td>27</td>\n",
       "      <td>1</td>\n",
       "      <td>0</td>\n",
       "      <td>2</td>\n",
       "      <td>2</td>\n",
       "      <td>...</td>\n",
       "      <td>No Deposit</td>\n",
       "      <td>240.0</td>\n",
       "      <td>NaN</td>\n",
       "      <td>0</td>\n",
       "      <td>Transient</td>\n",
       "      <td>98.0</td>\n",
       "      <td>0</td>\n",
       "      <td>1</td>\n",
       "      <td>Check-Out</td>\n",
       "      <td>2015-07-03</td>\n",
       "    </tr>\n",
       "    <tr>\n",
       "      <th>5</th>\n",
       "      <td>Resort Hotel</td>\n",
       "      <td>0</td>\n",
       "      <td>14</td>\n",
       "      <td>2015</td>\n",
       "      <td>July</td>\n",
       "      <td>27</td>\n",
       "      <td>1</td>\n",
       "      <td>0</td>\n",
       "      <td>2</td>\n",
       "      <td>2</td>\n",
       "      <td>...</td>\n",
       "      <td>No Deposit</td>\n",
       "      <td>240.0</td>\n",
       "      <td>NaN</td>\n",
       "      <td>0</td>\n",
       "      <td>Transient</td>\n",
       "      <td>98.0</td>\n",
       "      <td>0</td>\n",
       "      <td>1</td>\n",
       "      <td>Check-Out</td>\n",
       "      <td>2015-07-03</td>\n",
       "    </tr>\n",
       "    <tr>\n",
       "      <th>6</th>\n",
       "      <td>Resort Hotel</td>\n",
       "      <td>0</td>\n",
       "      <td>0</td>\n",
       "      <td>2015</td>\n",
       "      <td>July</td>\n",
       "      <td>27</td>\n",
       "      <td>1</td>\n",
       "      <td>0</td>\n",
       "      <td>2</td>\n",
       "      <td>2</td>\n",
       "      <td>...</td>\n",
       "      <td>No Deposit</td>\n",
       "      <td>NaN</td>\n",
       "      <td>NaN</td>\n",
       "      <td>0</td>\n",
       "      <td>Transient</td>\n",
       "      <td>107.0</td>\n",
       "      <td>0</td>\n",
       "      <td>0</td>\n",
       "      <td>Check-Out</td>\n",
       "      <td>2015-07-03</td>\n",
       "    </tr>\n",
       "    <tr>\n",
       "      <th>7</th>\n",
       "      <td>Resort Hotel</td>\n",
       "      <td>0</td>\n",
       "      <td>9</td>\n",
       "      <td>2015</td>\n",
       "      <td>July</td>\n",
       "      <td>27</td>\n",
       "      <td>1</td>\n",
       "      <td>0</td>\n",
       "      <td>2</td>\n",
       "      <td>2</td>\n",
       "      <td>...</td>\n",
       "      <td>No Deposit</td>\n",
       "      <td>303.0</td>\n",
       "      <td>NaN</td>\n",
       "      <td>0</td>\n",
       "      <td>Transient</td>\n",
       "      <td>103.0</td>\n",
       "      <td>0</td>\n",
       "      <td>1</td>\n",
       "      <td>Check-Out</td>\n",
       "      <td>2015-07-03</td>\n",
       "    </tr>\n",
       "    <tr>\n",
       "      <th>8</th>\n",
       "      <td>Resort Hotel</td>\n",
       "      <td>1</td>\n",
       "      <td>85</td>\n",
       "      <td>2015</td>\n",
       "      <td>July</td>\n",
       "      <td>27</td>\n",
       "      <td>1</td>\n",
       "      <td>0</td>\n",
       "      <td>3</td>\n",
       "      <td>2</td>\n",
       "      <td>...</td>\n",
       "      <td>No Deposit</td>\n",
       "      <td>240.0</td>\n",
       "      <td>NaN</td>\n",
       "      <td>0</td>\n",
       "      <td>Transient</td>\n",
       "      <td>82.0</td>\n",
       "      <td>0</td>\n",
       "      <td>1</td>\n",
       "      <td>Canceled</td>\n",
       "      <td>2015-05-06</td>\n",
       "    </tr>\n",
       "    <tr>\n",
       "      <th>9</th>\n",
       "      <td>Resort Hotel</td>\n",
       "      <td>1</td>\n",
       "      <td>75</td>\n",
       "      <td>2015</td>\n",
       "      <td>July</td>\n",
       "      <td>27</td>\n",
       "      <td>1</td>\n",
       "      <td>0</td>\n",
       "      <td>3</td>\n",
       "      <td>2</td>\n",
       "      <td>...</td>\n",
       "      <td>No Deposit</td>\n",
       "      <td>15.0</td>\n",
       "      <td>NaN</td>\n",
       "      <td>0</td>\n",
       "      <td>Transient</td>\n",
       "      <td>105.5</td>\n",
       "      <td>0</td>\n",
       "      <td>0</td>\n",
       "      <td>Canceled</td>\n",
       "      <td>2015-04-22</td>\n",
       "    </tr>\n",
       "  </tbody>\n",
       "</table>\n",
       "<p>10 rows × 32 columns</p>\n",
       "</div>"
      ],
      "text/plain": [
       "          hotel  is_canceled  lead_time  arrival_date_year arrival_date_month  \\\n",
       "0  Resort Hotel            0        342               2015               July   \n",
       "1  Resort Hotel            0        737               2015               July   \n",
       "2  Resort Hotel            0          7               2015               July   \n",
       "3  Resort Hotel            0         13               2015               July   \n",
       "4  Resort Hotel            0         14               2015               July   \n",
       "5  Resort Hotel            0         14               2015               July   \n",
       "6  Resort Hotel            0          0               2015               July   \n",
       "7  Resort Hotel            0          9               2015               July   \n",
       "8  Resort Hotel            1         85               2015               July   \n",
       "9  Resort Hotel            1         75               2015               July   \n",
       "\n",
       "   arrival_date_week_number  arrival_date_day_of_month  \\\n",
       "0                        27                          1   \n",
       "1                        27                          1   \n",
       "2                        27                          1   \n",
       "3                        27                          1   \n",
       "4                        27                          1   \n",
       "5                        27                          1   \n",
       "6                        27                          1   \n",
       "7                        27                          1   \n",
       "8                        27                          1   \n",
       "9                        27                          1   \n",
       "\n",
       "   stays_in_weekend_nights  stays_in_week_nights  adults  ...  deposit_type  \\\n",
       "0                        0                     0       2  ...    No Deposit   \n",
       "1                        0                     0       2  ...    No Deposit   \n",
       "2                        0                     1       1  ...    No Deposit   \n",
       "3                        0                     1       1  ...    No Deposit   \n",
       "4                        0                     2       2  ...    No Deposit   \n",
       "5                        0                     2       2  ...    No Deposit   \n",
       "6                        0                     2       2  ...    No Deposit   \n",
       "7                        0                     2       2  ...    No Deposit   \n",
       "8                        0                     3       2  ...    No Deposit   \n",
       "9                        0                     3       2  ...    No Deposit   \n",
       "\n",
       "   agent company days_in_waiting_list customer_type    adr  \\\n",
       "0    NaN     NaN                    0     Transient    0.0   \n",
       "1    NaN     NaN                    0     Transient    0.0   \n",
       "2    NaN     NaN                    0     Transient   75.0   \n",
       "3  304.0     NaN                    0     Transient   75.0   \n",
       "4  240.0     NaN                    0     Transient   98.0   \n",
       "5  240.0     NaN                    0     Transient   98.0   \n",
       "6    NaN     NaN                    0     Transient  107.0   \n",
       "7  303.0     NaN                    0     Transient  103.0   \n",
       "8  240.0     NaN                    0     Transient   82.0   \n",
       "9   15.0     NaN                    0     Transient  105.5   \n",
       "\n",
       "   required_car_parking_spaces  total_of_special_requests  reservation_status  \\\n",
       "0                            0                          0           Check-Out   \n",
       "1                            0                          0           Check-Out   \n",
       "2                            0                          0           Check-Out   \n",
       "3                            0                          0           Check-Out   \n",
       "4                            0                          1           Check-Out   \n",
       "5                            0                          1           Check-Out   \n",
       "6                            0                          0           Check-Out   \n",
       "7                            0                          1           Check-Out   \n",
       "8                            0                          1            Canceled   \n",
       "9                            0                          0            Canceled   \n",
       "\n",
       "  reservation_status_date  \n",
       "0              2015-07-01  \n",
       "1              2015-07-01  \n",
       "2              2015-07-02  \n",
       "3              2015-07-02  \n",
       "4              2015-07-03  \n",
       "5              2015-07-03  \n",
       "6              2015-07-03  \n",
       "7              2015-07-03  \n",
       "8              2015-05-06  \n",
       "9              2015-04-22  \n",
       "\n",
       "[10 rows x 32 columns]"
      ]
     },
     "execution_count": 3,
     "metadata": {},
     "output_type": "execute_result"
    }
   ],
   "source": [
    "hotel.head(10)"
   ]
  },
  {
   "cell_type": "markdown",
   "id": "50b26533",
   "metadata": {},
   "source": [
    "## Reading  The Bottom 10 Rows."
   ]
  },
  {
   "cell_type": "code",
   "execution_count": 4,
   "id": "e4709f87",
   "metadata": {},
   "outputs": [
    {
     "data": {
      "text/html": [
       "<div>\n",
       "<style scoped>\n",
       "    .dataframe tbody tr th:only-of-type {\n",
       "        vertical-align: middle;\n",
       "    }\n",
       "\n",
       "    .dataframe tbody tr th {\n",
       "        vertical-align: top;\n",
       "    }\n",
       "\n",
       "    .dataframe thead th {\n",
       "        text-align: right;\n",
       "    }\n",
       "</style>\n",
       "<table border=\"1\" class=\"dataframe\">\n",
       "  <thead>\n",
       "    <tr style=\"text-align: right;\">\n",
       "      <th></th>\n",
       "      <th>hotel</th>\n",
       "      <th>is_canceled</th>\n",
       "      <th>lead_time</th>\n",
       "      <th>arrival_date_year</th>\n",
       "      <th>arrival_date_month</th>\n",
       "      <th>arrival_date_week_number</th>\n",
       "      <th>arrival_date_day_of_month</th>\n",
       "      <th>stays_in_weekend_nights</th>\n",
       "      <th>stays_in_week_nights</th>\n",
       "      <th>adults</th>\n",
       "      <th>...</th>\n",
       "      <th>deposit_type</th>\n",
       "      <th>agent</th>\n",
       "      <th>company</th>\n",
       "      <th>days_in_waiting_list</th>\n",
       "      <th>customer_type</th>\n",
       "      <th>adr</th>\n",
       "      <th>required_car_parking_spaces</th>\n",
       "      <th>total_of_special_requests</th>\n",
       "      <th>reservation_status</th>\n",
       "      <th>reservation_status_date</th>\n",
       "    </tr>\n",
       "  </thead>\n",
       "  <tbody>\n",
       "    <tr>\n",
       "      <th>119380</th>\n",
       "      <td>City Hotel</td>\n",
       "      <td>0</td>\n",
       "      <td>44</td>\n",
       "      <td>2017</td>\n",
       "      <td>August</td>\n",
       "      <td>35</td>\n",
       "      <td>31</td>\n",
       "      <td>1</td>\n",
       "      <td>3</td>\n",
       "      <td>2</td>\n",
       "      <td>...</td>\n",
       "      <td>No Deposit</td>\n",
       "      <td>9.0</td>\n",
       "      <td>NaN</td>\n",
       "      <td>0</td>\n",
       "      <td>Transient</td>\n",
       "      <td>140.75</td>\n",
       "      <td>0</td>\n",
       "      <td>1</td>\n",
       "      <td>Check-Out</td>\n",
       "      <td>2017-09-04</td>\n",
       "    </tr>\n",
       "    <tr>\n",
       "      <th>119381</th>\n",
       "      <td>City Hotel</td>\n",
       "      <td>0</td>\n",
       "      <td>188</td>\n",
       "      <td>2017</td>\n",
       "      <td>August</td>\n",
       "      <td>35</td>\n",
       "      <td>31</td>\n",
       "      <td>2</td>\n",
       "      <td>3</td>\n",
       "      <td>2</td>\n",
       "      <td>...</td>\n",
       "      <td>No Deposit</td>\n",
       "      <td>14.0</td>\n",
       "      <td>NaN</td>\n",
       "      <td>0</td>\n",
       "      <td>Transient</td>\n",
       "      <td>99.00</td>\n",
       "      <td>0</td>\n",
       "      <td>0</td>\n",
       "      <td>Check-Out</td>\n",
       "      <td>2017-09-05</td>\n",
       "    </tr>\n",
       "    <tr>\n",
       "      <th>119382</th>\n",
       "      <td>City Hotel</td>\n",
       "      <td>0</td>\n",
       "      <td>135</td>\n",
       "      <td>2017</td>\n",
       "      <td>August</td>\n",
       "      <td>35</td>\n",
       "      <td>30</td>\n",
       "      <td>2</td>\n",
       "      <td>4</td>\n",
       "      <td>3</td>\n",
       "      <td>...</td>\n",
       "      <td>No Deposit</td>\n",
       "      <td>7.0</td>\n",
       "      <td>NaN</td>\n",
       "      <td>0</td>\n",
       "      <td>Transient</td>\n",
       "      <td>209.00</td>\n",
       "      <td>0</td>\n",
       "      <td>0</td>\n",
       "      <td>Check-Out</td>\n",
       "      <td>2017-09-05</td>\n",
       "    </tr>\n",
       "    <tr>\n",
       "      <th>119383</th>\n",
       "      <td>City Hotel</td>\n",
       "      <td>0</td>\n",
       "      <td>164</td>\n",
       "      <td>2017</td>\n",
       "      <td>August</td>\n",
       "      <td>35</td>\n",
       "      <td>31</td>\n",
       "      <td>2</td>\n",
       "      <td>4</td>\n",
       "      <td>2</td>\n",
       "      <td>...</td>\n",
       "      <td>No Deposit</td>\n",
       "      <td>42.0</td>\n",
       "      <td>NaN</td>\n",
       "      <td>0</td>\n",
       "      <td>Transient</td>\n",
       "      <td>87.60</td>\n",
       "      <td>0</td>\n",
       "      <td>0</td>\n",
       "      <td>Check-Out</td>\n",
       "      <td>2017-09-06</td>\n",
       "    </tr>\n",
       "    <tr>\n",
       "      <th>119384</th>\n",
       "      <td>City Hotel</td>\n",
       "      <td>0</td>\n",
       "      <td>21</td>\n",
       "      <td>2017</td>\n",
       "      <td>August</td>\n",
       "      <td>35</td>\n",
       "      <td>30</td>\n",
       "      <td>2</td>\n",
       "      <td>5</td>\n",
       "      <td>2</td>\n",
       "      <td>...</td>\n",
       "      <td>No Deposit</td>\n",
       "      <td>394.0</td>\n",
       "      <td>NaN</td>\n",
       "      <td>0</td>\n",
       "      <td>Transient</td>\n",
       "      <td>96.14</td>\n",
       "      <td>0</td>\n",
       "      <td>2</td>\n",
       "      <td>Check-Out</td>\n",
       "      <td>2017-09-06</td>\n",
       "    </tr>\n",
       "    <tr>\n",
       "      <th>119385</th>\n",
       "      <td>City Hotel</td>\n",
       "      <td>0</td>\n",
       "      <td>23</td>\n",
       "      <td>2017</td>\n",
       "      <td>August</td>\n",
       "      <td>35</td>\n",
       "      <td>30</td>\n",
       "      <td>2</td>\n",
       "      <td>5</td>\n",
       "      <td>2</td>\n",
       "      <td>...</td>\n",
       "      <td>No Deposit</td>\n",
       "      <td>394.0</td>\n",
       "      <td>NaN</td>\n",
       "      <td>0</td>\n",
       "      <td>Transient</td>\n",
       "      <td>96.14</td>\n",
       "      <td>0</td>\n",
       "      <td>0</td>\n",
       "      <td>Check-Out</td>\n",
       "      <td>2017-09-06</td>\n",
       "    </tr>\n",
       "    <tr>\n",
       "      <th>119386</th>\n",
       "      <td>City Hotel</td>\n",
       "      <td>0</td>\n",
       "      <td>102</td>\n",
       "      <td>2017</td>\n",
       "      <td>August</td>\n",
       "      <td>35</td>\n",
       "      <td>31</td>\n",
       "      <td>2</td>\n",
       "      <td>5</td>\n",
       "      <td>3</td>\n",
       "      <td>...</td>\n",
       "      <td>No Deposit</td>\n",
       "      <td>9.0</td>\n",
       "      <td>NaN</td>\n",
       "      <td>0</td>\n",
       "      <td>Transient</td>\n",
       "      <td>225.43</td>\n",
       "      <td>0</td>\n",
       "      <td>2</td>\n",
       "      <td>Check-Out</td>\n",
       "      <td>2017-09-07</td>\n",
       "    </tr>\n",
       "    <tr>\n",
       "      <th>119387</th>\n",
       "      <td>City Hotel</td>\n",
       "      <td>0</td>\n",
       "      <td>34</td>\n",
       "      <td>2017</td>\n",
       "      <td>August</td>\n",
       "      <td>35</td>\n",
       "      <td>31</td>\n",
       "      <td>2</td>\n",
       "      <td>5</td>\n",
       "      <td>2</td>\n",
       "      <td>...</td>\n",
       "      <td>No Deposit</td>\n",
       "      <td>9.0</td>\n",
       "      <td>NaN</td>\n",
       "      <td>0</td>\n",
       "      <td>Transient</td>\n",
       "      <td>157.71</td>\n",
       "      <td>0</td>\n",
       "      <td>4</td>\n",
       "      <td>Check-Out</td>\n",
       "      <td>2017-09-07</td>\n",
       "    </tr>\n",
       "    <tr>\n",
       "      <th>119388</th>\n",
       "      <td>City Hotel</td>\n",
       "      <td>0</td>\n",
       "      <td>109</td>\n",
       "      <td>2017</td>\n",
       "      <td>August</td>\n",
       "      <td>35</td>\n",
       "      <td>31</td>\n",
       "      <td>2</td>\n",
       "      <td>5</td>\n",
       "      <td>2</td>\n",
       "      <td>...</td>\n",
       "      <td>No Deposit</td>\n",
       "      <td>89.0</td>\n",
       "      <td>NaN</td>\n",
       "      <td>0</td>\n",
       "      <td>Transient</td>\n",
       "      <td>104.40</td>\n",
       "      <td>0</td>\n",
       "      <td>0</td>\n",
       "      <td>Check-Out</td>\n",
       "      <td>2017-09-07</td>\n",
       "    </tr>\n",
       "    <tr>\n",
       "      <th>119389</th>\n",
       "      <td>City Hotel</td>\n",
       "      <td>0</td>\n",
       "      <td>205</td>\n",
       "      <td>2017</td>\n",
       "      <td>August</td>\n",
       "      <td>35</td>\n",
       "      <td>29</td>\n",
       "      <td>2</td>\n",
       "      <td>7</td>\n",
       "      <td>2</td>\n",
       "      <td>...</td>\n",
       "      <td>No Deposit</td>\n",
       "      <td>9.0</td>\n",
       "      <td>NaN</td>\n",
       "      <td>0</td>\n",
       "      <td>Transient</td>\n",
       "      <td>151.20</td>\n",
       "      <td>0</td>\n",
       "      <td>2</td>\n",
       "      <td>Check-Out</td>\n",
       "      <td>2017-09-07</td>\n",
       "    </tr>\n",
       "  </tbody>\n",
       "</table>\n",
       "<p>10 rows × 32 columns</p>\n",
       "</div>"
      ],
      "text/plain": [
       "             hotel  is_canceled  lead_time  arrival_date_year  \\\n",
       "119380  City Hotel            0         44               2017   \n",
       "119381  City Hotel            0        188               2017   \n",
       "119382  City Hotel            0        135               2017   \n",
       "119383  City Hotel            0        164               2017   \n",
       "119384  City Hotel            0         21               2017   \n",
       "119385  City Hotel            0         23               2017   \n",
       "119386  City Hotel            0        102               2017   \n",
       "119387  City Hotel            0         34               2017   \n",
       "119388  City Hotel            0        109               2017   \n",
       "119389  City Hotel            0        205               2017   \n",
       "\n",
       "       arrival_date_month  arrival_date_week_number  \\\n",
       "119380             August                        35   \n",
       "119381             August                        35   \n",
       "119382             August                        35   \n",
       "119383             August                        35   \n",
       "119384             August                        35   \n",
       "119385             August                        35   \n",
       "119386             August                        35   \n",
       "119387             August                        35   \n",
       "119388             August                        35   \n",
       "119389             August                        35   \n",
       "\n",
       "        arrival_date_day_of_month  stays_in_weekend_nights  \\\n",
       "119380                         31                        1   \n",
       "119381                         31                        2   \n",
       "119382                         30                        2   \n",
       "119383                         31                        2   \n",
       "119384                         30                        2   \n",
       "119385                         30                        2   \n",
       "119386                         31                        2   \n",
       "119387                         31                        2   \n",
       "119388                         31                        2   \n",
       "119389                         29                        2   \n",
       "\n",
       "        stays_in_week_nights  adults  ...  deposit_type  agent company  \\\n",
       "119380                     3       2  ...    No Deposit    9.0     NaN   \n",
       "119381                     3       2  ...    No Deposit   14.0     NaN   \n",
       "119382                     4       3  ...    No Deposit    7.0     NaN   \n",
       "119383                     4       2  ...    No Deposit   42.0     NaN   \n",
       "119384                     5       2  ...    No Deposit  394.0     NaN   \n",
       "119385                     5       2  ...    No Deposit  394.0     NaN   \n",
       "119386                     5       3  ...    No Deposit    9.0     NaN   \n",
       "119387                     5       2  ...    No Deposit    9.0     NaN   \n",
       "119388                     5       2  ...    No Deposit   89.0     NaN   \n",
       "119389                     7       2  ...    No Deposit    9.0     NaN   \n",
       "\n",
       "       days_in_waiting_list customer_type     adr  \\\n",
       "119380                    0     Transient  140.75   \n",
       "119381                    0     Transient   99.00   \n",
       "119382                    0     Transient  209.00   \n",
       "119383                    0     Transient   87.60   \n",
       "119384                    0     Transient   96.14   \n",
       "119385                    0     Transient   96.14   \n",
       "119386                    0     Transient  225.43   \n",
       "119387                    0     Transient  157.71   \n",
       "119388                    0     Transient  104.40   \n",
       "119389                    0     Transient  151.20   \n",
       "\n",
       "        required_car_parking_spaces  total_of_special_requests  \\\n",
       "119380                            0                          1   \n",
       "119381                            0                          0   \n",
       "119382                            0                          0   \n",
       "119383                            0                          0   \n",
       "119384                            0                          2   \n",
       "119385                            0                          0   \n",
       "119386                            0                          2   \n",
       "119387                            0                          4   \n",
       "119388                            0                          0   \n",
       "119389                            0                          2   \n",
       "\n",
       "        reservation_status reservation_status_date  \n",
       "119380           Check-Out              2017-09-04  \n",
       "119381           Check-Out              2017-09-05  \n",
       "119382           Check-Out              2017-09-05  \n",
       "119383           Check-Out              2017-09-06  \n",
       "119384           Check-Out              2017-09-06  \n",
       "119385           Check-Out              2017-09-06  \n",
       "119386           Check-Out              2017-09-07  \n",
       "119387           Check-Out              2017-09-07  \n",
       "119388           Check-Out              2017-09-07  \n",
       "119389           Check-Out              2017-09-07  \n",
       "\n",
       "[10 rows x 32 columns]"
      ]
     },
     "execution_count": 4,
     "metadata": {},
     "output_type": "execute_result"
    }
   ],
   "source": [
    "hotel.tail(10)"
   ]
  },
  {
   "cell_type": "markdown",
   "id": "1f2cfdef",
   "metadata": {},
   "source": [
    "## Checking For Null Values."
   ]
  },
  {
   "cell_type": "code",
   "execution_count": 5,
   "id": "453ff47d",
   "metadata": {},
   "outputs": [
    {
     "data": {
      "text/plain": [
       "hotel                                  0\n",
       "is_canceled                            0\n",
       "lead_time                              0\n",
       "arrival_date_year                      0\n",
       "arrival_date_month                     0\n",
       "arrival_date_week_number               0\n",
       "arrival_date_day_of_month              0\n",
       "stays_in_weekend_nights                0\n",
       "stays_in_week_nights                   0\n",
       "adults                                 0\n",
       "children                               4\n",
       "babies                                 0\n",
       "meal                                   0\n",
       "country                              488\n",
       "market_segment                         0\n",
       "distribution_channel                   0\n",
       "is_repeated_guest                      0\n",
       "previous_cancellations                 0\n",
       "previous_bookings_not_canceled         0\n",
       "reserved_room_type                     0\n",
       "assigned_room_type                     0\n",
       "booking_changes                        0\n",
       "deposit_type                           0\n",
       "agent                              16340\n",
       "company                           112593\n",
       "days_in_waiting_list                   0\n",
       "customer_type                          0\n",
       "adr                                    0\n",
       "required_car_parking_spaces            0\n",
       "total_of_special_requests              0\n",
       "reservation_status                     0\n",
       "reservation_status_date                0\n",
       "dtype: int64"
      ]
     },
     "execution_count": 5,
     "metadata": {},
     "output_type": "execute_result"
    }
   ],
   "source": [
    "hotel.isnull().sum()"
   ]
  },
  {
   "cell_type": "markdown",
   "id": "d5d86bf3",
   "metadata": {},
   "source": [
    "#### From The Above Output We Found Out That Columns Named Children,Country,Agent and Company have Null Values. So We Have To Fill Them..."
   ]
  },
  {
   "cell_type": "markdown",
   "id": "134a9e67",
   "metadata": {},
   "source": [
    "## Checking The Data types  OF The Columns."
   ]
  },
  {
   "cell_type": "code",
   "execution_count": 6,
   "id": "b872ebf0",
   "metadata": {},
   "outputs": [
    {
     "name": "stdout",
     "output_type": "stream",
     "text": [
      "<class 'pandas.core.frame.DataFrame'>\n",
      "RangeIndex: 119390 entries, 0 to 119389\n",
      "Data columns (total 32 columns):\n",
      " #   Column                          Non-Null Count   Dtype  \n",
      "---  ------                          --------------   -----  \n",
      " 0   hotel                           119390 non-null  object \n",
      " 1   is_canceled                     119390 non-null  int64  \n",
      " 2   lead_time                       119390 non-null  int64  \n",
      " 3   arrival_date_year               119390 non-null  int64  \n",
      " 4   arrival_date_month              119390 non-null  object \n",
      " 5   arrival_date_week_number        119390 non-null  int64  \n",
      " 6   arrival_date_day_of_month       119390 non-null  int64  \n",
      " 7   stays_in_weekend_nights         119390 non-null  int64  \n",
      " 8   stays_in_week_nights            119390 non-null  int64  \n",
      " 9   adults                          119390 non-null  int64  \n",
      " 10  children                        119386 non-null  float64\n",
      " 11  babies                          119390 non-null  int64  \n",
      " 12  meal                            119390 non-null  object \n",
      " 13  country                         118902 non-null  object \n",
      " 14  market_segment                  119390 non-null  object \n",
      " 15  distribution_channel            119390 non-null  object \n",
      " 16  is_repeated_guest               119390 non-null  int64  \n",
      " 17  previous_cancellations          119390 non-null  int64  \n",
      " 18  previous_bookings_not_canceled  119390 non-null  int64  \n",
      " 19  reserved_room_type              119390 non-null  object \n",
      " 20  assigned_room_type              119390 non-null  object \n",
      " 21  booking_changes                 119390 non-null  int64  \n",
      " 22  deposit_type                    119390 non-null  object \n",
      " 23  agent                           103050 non-null  float64\n",
      " 24  company                         6797 non-null    float64\n",
      " 25  days_in_waiting_list            119390 non-null  int64  \n",
      " 26  customer_type                   119390 non-null  object \n",
      " 27  adr                             119390 non-null  float64\n",
      " 28  required_car_parking_spaces     119390 non-null  int64  \n",
      " 29  total_of_special_requests       119390 non-null  int64  \n",
      " 30  reservation_status              119390 non-null  object \n",
      " 31  reservation_status_date         119390 non-null  object \n",
      "dtypes: float64(4), int64(16), object(12)\n",
      "memory usage: 29.1+ MB\n"
     ]
    }
   ],
   "source": [
    "hotel.info()"
   ]
  },
  {
   "cell_type": "markdown",
   "id": "7f67794b",
   "metadata": {},
   "source": [
    "## Checking For Outliers."
   ]
  },
  {
   "cell_type": "code",
   "execution_count": 7,
   "id": "0dbf3ad5",
   "metadata": {},
   "outputs": [
    {
     "data": {
      "text/plain": [
       "<AxesSubplot:>"
      ]
     },
     "execution_count": 7,
     "metadata": {},
     "output_type": "execute_result"
    },
    {
     "data": {
      "image/png": "[encoded data removed]",
      "text/plain": [
       "<Figure size 640x480 with 3 Axes>"
      ]
     },
     "metadata": {},
     "output_type": "display_data"
    }
   ],
   "source": [
    "plt.subplot(1,3,1)\n",
    "sns.boxplot(hotel[\"company\"])\n",
    "plt.subplot(1,3,2)\n",
    "sns.boxplot(hotel[\"agent\"])\n",
    "plt.subplot(1,3,3)\n",
    "sns.boxplot(hotel[\"children\"])\n"
   ]
  },
  {
   "cell_type": "markdown",
   "id": "77783aa0",
   "metadata": {},
   "source": [
    "## Checking The Unique Values Of Each Columns"
   ]
  },
  {
   "cell_type": "code",
   "execution_count": 8,
   "id": "c72c1f1e",
   "metadata": {},
   "outputs": [
    {
     "name": "stdout",
     "output_type": "stream",
     "text": [
      "hotel  -*-*-*-  ['Resort Hotel' 'City Hotel']\n",
      "is_canceled  -*-*-*-  [0 1]\n",
      "lead_time  -*-*-*-  [342 737   7  13  14   0   9  85  75  23  35  68  18  37  12  72 127  78\n",
      "  48  60  77  99 118  95  96  69  45  40  15  36  43  70  16 107  47 113\n",
      "  90  50  93  76   3   1  10   5  17  51  71  63  62 101   2  81 368 364\n",
      " 324  79  21 109 102   4  98  92  26  73 115  86  52  29  30  33  32   8\n",
      " 100  44  80  97  64  39  34  27  82  94 110 111  84  66 104  28 258 112\n",
      "  65  67  55  88  54 292  83 105 280 394  24 103 366 249  22  91  11 108\n",
      " 106  31  87  41 304 117  59  53  58 116  42 321  38  56  49 317   6  57\n",
      "  19  25 315 123  46  89  61 312 299 130  74 298 119  20 286 136 129 124\n",
      " 327 131 460 140 114 139 122 137 126 120 128 135 150 143 151 132 125 157\n",
      " 147 138 156 164 346 159 160 161 333 381 149 154 297 163 314 155 323 340\n",
      " 356 142 328 144 336 248 302 175 344 382 146 170 166 338 167 310 148 165\n",
      " 172 171 145 121 178 305 173 152 354 347 158 185 349 183 352 177 200 192\n",
      " 361 207 174 330 134 350 334 283 153 197 133 241 193 235 194 261 260 216\n",
      " 169 209 238 215 141 189 187 223 284 214 202 211 168 230 203 188 232 709\n",
      " 219 162 196 190 259 228 176 250 201 186 199 180 206 205 224 222 182 210\n",
      " 275 212 229 218 208 191 181 179 246 255 226 288 253 252 262 236 256 234\n",
      " 254 468 213 237 198 195 239 263 265 274 217 220 307 221 233 257 227 276\n",
      " 225 264 311 277 204 290 266 270 294 319 282 251 322 291 269 240 271 184\n",
      " 231 268 247 273 300 301 267 244 306 293 309 272 242 295 285 243 308 398\n",
      " 303 245 424 279 331 281 339 434 357 325 329 278 332 343 345 360 348 367\n",
      " 353 373 374 406 400 326 379 399 316 341 320 385 355 363 358 296 422 390\n",
      " 335 370 376 375 397 289 542 403 383 384 359 393 337 362 365 435 386 378\n",
      " 313 351 287 471 462 411 450 318 372 371 454 532 445 389 388 407 443 437\n",
      " 451 391 405 412 419 420 426 433 440 429 418 447 461 605 457 475 464 482\n",
      " 626 489 496 503 510 517 524 531 538 545 552 559 566 573 580 587 594 601\n",
      " 608 615 622 629 396 410 395 423 408 409 448 465 387 414 476 479 467 490\n",
      " 493 478 504 507 458 518 521 377 444 380 463]\n",
      "arrival_date_year  -*-*-*-  [2015 2016 2017]\n",
      "arrival_date_month  -*-*-*-  ['July' 'August' 'September' 'October' 'November' 'December' 'January'\n",
      " 'February' 'March' 'April' 'May' 'June']\n",
      "arrival_date_week_number  -*-*-*-  [27 28 29 30 31 32 33 34 35 36 37 38 39 40 41 42 43 44 45 46 47 48 49 50\n",
      " 51 52 53  1  2  3  4  5  6  7  8  9 10 11 12 13 14 15 16 17 18 19 20 21\n",
      " 22 23 24 25 26]\n",
      "arrival_date_day_of_month  -*-*-*-  [ 1  2  3  4  5  6  7  8  9 10 11 12 13 14 15 16 17 18 19 20 21 22 23 24\n",
      " 25 26 27 28 29 30 31]\n",
      "stays_in_weekend_nights  -*-*-*-  [ 0  1  2  4  3  6 13  8  5  7 12  9 16 18 19 10 14]\n",
      "stays_in_week_nights  -*-*-*-  [ 0  1  2  3  4  5 10 11  8  6  7 15  9 12 33 20 14 16 21 13 30 19 24 40\n",
      " 22 42 50 25 17 32 26 18 34 35 41]\n",
      "adults  -*-*-*-  [ 2  1  3  4 40 26 50 27 55  0 20  6  5 10]\n",
      "children  -*-*-*-  [ 0.  1.  2. 10.  3. nan]\n",
      "babies  -*-*-*-  [ 0  1  2 10  9]\n",
      "meal  -*-*-*-  ['BB' 'FB' 'HB' 'SC' 'Undefined']\n",
      "country  -*-*-*-  ['PRT' 'GBR' 'USA' 'ESP' 'IRL' 'FRA' nan 'ROU' 'NOR' 'OMN' 'ARG' 'POL'\n",
      " 'DEU' 'BEL' 'CHE' 'CN' 'GRC' 'ITA' 'NLD' 'DNK' 'RUS' 'SWE' 'AUS' 'EST'\n",
      " 'CZE' 'BRA' 'FIN' 'MOZ' 'BWA' 'LUX' 'SVN' 'ALB' 'IND' 'CHN' 'MEX' 'MAR'\n",
      " 'UKR' 'SMR' 'LVA' 'PRI' 'SRB' 'CHL' 'AUT' 'BLR' 'LTU' 'TUR' 'ZAF' 'AGO'\n",
      " 'ISR' 'CYM' 'ZMB' 'CPV' 'ZWE' 'DZA' 'KOR' 'CRI' 'HUN' 'ARE' 'TUN' 'JAM'\n",
      " 'HRV' 'HKG' 'IRN' 'GEO' 'AND' 'GIB' 'URY' 'JEY' 'CAF' 'CYP' 'COL' 'GGY'\n",
      " 'KWT' 'NGA' 'MDV' 'VEN' 'SVK' 'FJI' 'KAZ' 'PAK' 'IDN' 'LBN' 'PHL' 'SEN'\n",
      " 'SYC' 'AZE' 'BHR' 'NZL' 'THA' 'DOM' 'MKD' 'MYS' 'ARM' 'JPN' 'LKA' 'CUB'\n",
      " 'CMR' 'BIH' 'MUS' 'COM' 'SUR' 'UGA' 'BGR' 'CIV' 'JOR' 'SYR' 'SGP' 'BDI'\n",
      " 'SAU' 'VNM' 'PLW' 'QAT' 'EGY' 'PER' 'MLT' 'MWI' 'ECU' 'MDG' 'ISL' 'UZB'\n",
      " 'NPL' 'BHS' 'MAC' 'TGO' 'TWN' 'DJI' 'STP' 'KNA' 'ETH' 'IRQ' 'HND' 'RWA'\n",
      " 'KHM' 'MCO' 'BGD' 'IMN' 'TJK' 'NIC' 'BEN' 'VGB' 'TZA' 'GAB' 'GHA' 'TMP'\n",
      " 'GLP' 'KEN' 'LIE' 'GNB' 'MNE' 'UMI' 'MYT' 'FRO' 'MMR' 'PAN' 'BFA' 'LBY'\n",
      " 'MLI' 'NAM' 'BOL' 'PRY' 'BRB' 'ABW' 'AIA' 'SLV' 'DMA' 'PYF' 'GUY' 'LCA'\n",
      " 'ATA' 'GTM' 'ASM' 'MRT' 'NCL' 'KIR' 'SDN' 'ATF' 'SLE' 'LAO']\n",
      "market_segment  -*-*-*-  ['Direct' 'Corporate' 'Online TA' 'Offline TA/TO' 'Complementary' 'Groups'\n",
      " 'Undefined' 'Aviation']\n",
      "distribution_channel  -*-*-*-  ['Direct' 'Corporate' 'TA/TO' 'Undefined' 'GDS']\n",
      "is_repeated_guest  -*-*-*-  [0 1]\n",
      "previous_cancellations  -*-*-*-  [ 0  1  2  3 26 25 14  4 24 19  5 21  6 13 11]\n",
      "previous_bookings_not_canceled  -*-*-*-  [ 0  1  2  3  4  5  6  7  8  9 10 11 12 13 14 15 16 17 18 20 21 22 23 24\n",
      " 25 27 28 29 30 19 26 31 32 33 34 35 36 37 38 39 40 41 42 43 44 45 46 47\n",
      " 48 49 50 51 52 53 54 55 56 57 58 59 60 61 62 63 64 65 66 67 68 69 70 71\n",
      " 72]\n",
      "reserved_room_type  -*-*-*-  ['C' 'A' 'D' 'E' 'G' 'F' 'H' 'L' 'P' 'B']\n",
      "assigned_room_type  -*-*-*-  ['C' 'A' 'D' 'E' 'G' 'F' 'I' 'B' 'H' 'P' 'L' 'K']\n",
      "booking_changes  -*-*-*-  [ 3  4  0  1  2  5 17  6  8  7 10 16  9 13 12 20 14 15 11 21 18]\n",
      "deposit_type  -*-*-*-  ['No Deposit' 'Refundable' 'Non Refund']\n",
      "agent  -*-*-*-  [ nan 304. 240. 303.  15. 241.   8. 250. 115.   5. 175. 134. 156. 243.\n",
      " 242.   3. 105.  40. 147. 306. 184.  96.   2. 127.  95. 146.   9. 177.\n",
      "   6. 143. 244. 149. 167. 300. 171. 305.  67. 196. 152. 142. 261. 104.\n",
      "  36.  26.  29. 258. 110.  71. 181.  88. 251. 275.  69. 248. 208. 256.\n",
      " 314. 126. 281. 273. 253. 185. 330. 334. 328. 326. 321. 324. 313.  38.\n",
      " 155.  68. 335. 308. 332.  94. 348. 310. 339. 375.  66. 327. 387. 298.\n",
      "  91. 245. 385. 257. 393. 168. 405. 249. 315.  75. 128. 307.  11. 436.\n",
      "   1. 201. 183. 223. 368. 336. 291. 464. 411. 481.  10. 154. 468. 410.\n",
      " 390. 440. 495. 492. 493. 434.  57. 531. 420. 483. 526. 472. 429.  16.\n",
      " 446.  34.  78. 139. 252. 270.  47. 114. 301. 193. 182. 135. 350. 195.\n",
      " 352. 355. 159. 363. 384. 360. 331. 367.  64. 406. 163. 414. 333. 427.\n",
      " 431. 430. 426. 438. 433. 418. 441. 282. 432.  72. 450. 180. 454. 455.\n",
      "  59. 451. 254. 358. 469. 165. 467. 510. 337. 476. 502. 527. 479. 508.\n",
      " 535. 302. 497. 187.  13.   7.  27.  14.  22.  17.  28.  42.  20.  19.\n",
      "  45.  37.  61.  39.  21.  24.  41.  50.  30.  54.  52.  12.  44.  31.\n",
      "  83.  32.  63.  60.  55.  56.  89.  87. 118.  86.  85. 210. 214. 129.\n",
      " 179. 138. 174. 170. 153.  93. 151. 119.  35. 173.  58.  53. 133.  79.\n",
      " 235. 192. 191. 236. 162. 215. 157. 287. 132. 234.  98.  77. 103. 107.\n",
      " 262. 220. 121. 205. 378.  23. 296. 290. 229.  33. 286. 276. 425. 484.\n",
      " 323. 403. 219. 394. 509. 111. 423.   4.  70.  82.  81.  74.  92.  99.\n",
      "  90. 112. 117. 106. 148. 158. 144. 211. 213. 216. 232. 150. 267. 227.\n",
      " 247. 278. 280. 285. 289. 269. 295. 265. 288. 122. 294. 325. 341. 344.\n",
      " 346. 359. 283. 364. 370. 371.  25. 141. 391. 397. 416. 404. 299. 197.\n",
      "  73. 354. 444. 408. 461. 388. 453. 459. 474. 475. 480. 449.]\n",
      "company  -*-*-*-  [ nan 110. 113. 270. 178. 240. 154. 144. 307. 268.  59. 204. 312. 318.\n",
      "  94. 174. 274. 195. 223. 317. 281. 118.  53. 286.  12.  47. 324. 342.\n",
      " 373. 371. 383.  86.  82. 218.  88.  31. 397. 392. 405. 331. 367.  20.\n",
      "  83. 416.  51. 395. 102.  34.  84. 360. 394. 457. 382. 461. 478. 386.\n",
      " 112. 486. 421.   9. 308. 135. 224. 504. 269. 356. 498. 390. 513. 203.\n",
      " 263. 477. 521. 169. 515. 445. 337. 251. 428. 292. 388. 130. 250. 355.\n",
      " 254. 543. 531. 528.  62. 120.  42.  81. 116. 530. 103.  39.  16.  92.\n",
      "  61. 501. 165. 291. 290.  43. 325. 192. 108. 200. 465. 287. 297. 490.\n",
      " 482. 207. 282. 437. 225. 329. 272.  28.  77. 338.  72. 246. 319. 146.\n",
      " 159. 380. 323. 511. 407. 278.  80. 403. 399.  14. 137. 343. 346. 347.\n",
      " 349. 289. 351. 353.  54.  99. 358. 361. 362. 366. 372. 365. 277. 109.\n",
      " 377. 379.  22. 378. 330. 364. 401. 232. 255. 384. 167. 212. 514. 391.\n",
      " 400. 376. 402. 396. 302. 398.   6. 370. 369. 409. 168. 104. 408. 413.\n",
      " 148.  10. 333. 419. 415. 424. 425. 423. 422. 435. 439. 442. 448. 443.\n",
      " 454. 444.  52. 459. 458. 456. 460. 447. 470. 466. 484. 184. 485.  32.\n",
      " 487. 491. 494. 193. 516. 496. 499.  29.  78. 520. 507. 506. 512. 126.\n",
      "  64. 242. 518. 523. 539. 534. 436. 525. 541.  40. 455. 410.  45.  38.\n",
      "  49.  48.  67.  68.  65.  91.  37.   8. 179. 209. 219. 221. 227. 153.\n",
      " 186. 253. 202. 216. 275. 233. 280. 309. 321.  93. 316.  85. 107. 350.\n",
      " 279. 334. 348. 150.  73. 385. 418. 197. 450. 452. 115.  46.  76.  96.\n",
      " 100. 105. 101. 122.  11. 139. 142. 127. 143. 140. 149. 163. 160. 180.\n",
      " 238. 183. 222. 185. 217. 215. 213. 237. 230. 234.  35. 245. 158. 258.\n",
      " 259. 260. 411. 257. 271.  18. 106. 210. 273.  71. 284. 301. 305. 293.\n",
      " 264. 311. 304. 313. 288. 320. 314. 332. 341. 352. 243. 368. 393. 132.\n",
      " 220. 412. 420. 426. 417. 429. 433. 446. 357. 479. 483. 489. 229. 481.\n",
      " 497. 451. 492.]\n",
      "days_in_waiting_list  -*-*-*-  [  0  50  47  65 122  75 101 150 125  14  60  34 100  22 121  61  39   5\n",
      "   1   8 107  43  52   2  11 142 116  13  44  97  83   4 113  18  20 185\n",
      "  93 109   6  37 105 154  64  99  38  48  33  77  21  80  59  40  58  89\n",
      "  53  49  69  87  91  57 111  79  98  85  63  15   3  41 224  31  56 187\n",
      " 176  71  55  96 236 259 207 215 160 120  30  32  27  62  24 108 147 379\n",
      "  70  35 178 330 223 174 162 391  68 193  10  76  16  28   9 165  17  25\n",
      "  46   7  84 175 183  23 117  12  54  26  73  45  19  42  72  81  92  74\n",
      " 167  36]\n",
      "customer_type  -*-*-*-  ['Transient' 'Contract' 'Transient-Party' 'Group']\n",
      "adr  -*-*-*-  [  0.    75.    98.   ... 266.75 209.25 157.71]\n",
      "required_car_parking_spaces  -*-*-*-  [0 1 2 8 3]\n",
      "total_of_special_requests  -*-*-*-  [0 1 3 2 4 5]\n",
      "reservation_status  -*-*-*-  ['Check-Out' 'Canceled' 'No-Show']\n",
      "reservation_status_date  -*-*-*-  ['2015-07-01' '2015-07-02' '2015-07-03' '2015-05-06' '2015-04-22'\n",
      " '2015-06-23' '2015-07-05' '2015-07-06' '2015-07-07' '2015-07-08'\n",
      " '2015-05-11' '2015-07-15' '2015-07-16' '2015-05-29' '2015-05-19'\n",
      " '2015-06-19' '2015-05-23' '2015-05-18' '2015-07-09' '2015-06-02'\n",
      " '2015-07-13' '2015-07-04' '2015-06-29' '2015-06-16' '2015-06-18'\n",
      " '2015-06-12' '2015-06-09' '2015-05-26' '2015-07-11' '2015-07-12'\n",
      " '2015-07-17' '2015-04-15' '2015-05-13' '2015-07-10' '2015-05-20'\n",
      " '2015-05-12' '2015-07-14' '2015-06-17' '2015-05-01' '2015-03-30'\n",
      " '2015-07-19' '2015-06-03' '2015-06-26' '2015-05-14' '2015-07-20'\n",
      " '2015-05-07' '2015-05-28' '2015-04-13' '2015-03-25' '2015-07-21'\n",
      " '2015-06-27' '2015-07-18' '2015-07-23' '2015-06-08' '2015-06-22'\n",
      " '2015-06-24' '2015-03-05' '2015-06-01' '2015-04-24' '2015-07-22'\n",
      " '2015-05-27' '2015-04-06' '2015-04-11' '2015-07-25' '2015-07-28'\n",
      " '2015-07-29' '2015-06-25' '2015-07-24' '2015-06-05' '2015-06-30'\n",
      " '2015-06-13' '2015-06-11' '2015-07-30' '2015-07-27' '2015-04-29'\n",
      " '2015-06-04' '2015-07-26' '2015-08-01' '2015-08-02' '2015-06-15'\n",
      " '2015-04-23' '2015-07-31' '2015-05-25' '2015-08-03' '2015-04-17'\n",
      " '2015-08-04' '2015-08-06' '2015-05-15' '2015-05-09' '2015-03-17'\n",
      " '2015-05-22' '2015-08-07' '2015-04-04' '2015-08-05' '2015-08-08'\n",
      " '2015-08-10' '2015-05-04' '2015-06-06' '2015-08-09' '2015-08-15'\n",
      " '2015-08-11' '2015-03-28' '2015-08-14' '2015-08-12' '2015-08-16'\n",
      " '2015-05-16' '2015-08-21' '2015-08-13' '2015-08-17' '2015-04-20'\n",
      " '2015-08-18' '2015-08-23' '2015-08-22' '2015-08-19' '2015-08-20'\n",
      " '2015-08-29' '2015-03-31' '2015-05-30' '2015-08-25' '2015-04-14'\n",
      " '2015-08-24' '2015-03-24' '2015-05-21' '2015-08-28' '2015-08-26'\n",
      " '2015-08-27' '2015-08-30' '2015-08-31' '2015-09-06' '2015-09-03'\n",
      " '2015-09-04' '2015-09-02' '2015-09-01' '2015-09-05' '2015-06-20'\n",
      " '2015-09-07' '2015-09-10' '2015-09-11' '2015-09-08' '2015-09-09'\n",
      " '2015-09-13' '2015-09-15' '2015-04-10' '2015-01-02' '2014-11-18'\n",
      " '2015-09-12' '2015-09-17' '2015-09-14' '2015-04-07' '2015-09-19'\n",
      " '2015-09-16' '2015-09-20' '2015-01-18' '2015-10-23' '2015-01-22'\n",
      " '2015-01-01' '2015-09-22' '2015-09-24' '2015-09-18' '2015-09-21'\n",
      " '2015-09-30' '2015-09-25' '2015-09-27' '2015-09-28' '2015-10-12'\n",
      " '2015-09-29' '2015-09-23' '2015-10-01' '2015-09-26' '2015-04-18'\n",
      " '2015-10-02' '2015-10-04' '2015-10-08' '2015-10-03' '2015-10-07'\n",
      " '2015-10-09' '2015-10-11' '2015-10-05' '2015-10-06' '2015-10-10'\n",
      " '2015-10-14' '2015-10-15' '2015-10-18' '2015-10-13' '2015-10-20'\n",
      " '2015-10-19' '2015-10-31' '2015-10-16' '2015-10-21' '2015-10-22'\n",
      " '2015-10-17' '2015-10-24' '2015-10-25' '2015-10-28' '2015-10-27'\n",
      " '2015-10-26' '2015-10-30' '2015-11-05' '2015-10-29' '2015-11-03'\n",
      " '2015-11-07' '2015-11-04' '2015-11-01' '2015-11-02' '2015-11-17'\n",
      " '2015-11-06' '2015-11-10' '2015-11-08' '2015-11-09' '2015-11-15'\n",
      " '2015-11-16' '2015-11-11' '2015-11-12' '2015-11-14' '2015-11-13'\n",
      " '2015-11-18' '2015-11-22' '2015-11-19' '2015-11-21' '2015-11-20'\n",
      " '2015-11-24' '2015-11-25' '2015-11-23' '2015-11-28' '2015-11-26'\n",
      " '2015-11-27' '2015-11-29' '2015-12-04' '2015-12-01' '2015-12-06'\n",
      " '2015-12-08' '2015-12-02' '2015-12-03' '2015-12-31' '2015-12-05'\n",
      " '2015-12-10' '2015-12-17' '2015-11-30' '2015-12-12' '2015-12-07'\n",
      " '2016-01-05' '2015-12-11' '2015-12-13' '2015-12-15' '2015-12-16'\n",
      " '2015-12-19' '2015-12-18' '2015-12-26' '2015-12-27' '2015-12-22'\n",
      " '2015-12-23' '2015-12-24' '2015-12-29' '2015-12-28' '2015-12-20'\n",
      " '2015-12-30' '2016-01-02' '2016-01-01' '2015-12-25' '2016-01-03'\n",
      " '2016-01-04' '2016-01-11' '2016-01-07' '2015-12-21' '2016-01-09'\n",
      " '2016-01-10' '2016-01-08' '2016-01-06' '2016-01-12' '2016-01-13'\n",
      " '2016-01-23' '2016-02-09' '2016-01-15' '2016-01-16' '2016-01-17'\n",
      " '2016-01-19' '2016-01-18' '2016-01-21' '2016-01-24' '2016-01-22'\n",
      " '2016-01-29' '2016-01-27' '2016-01-25' '2016-03-08' '2016-01-26'\n",
      " '2016-01-20' '2016-01-30' '2016-02-01' '2016-02-02' '2016-02-08'\n",
      " '2016-02-07' '2016-01-28' '2016-02-05' '2016-02-03' '2016-02-13'\n",
      " '2016-02-10' '2016-02-04' '2016-02-12' '2016-02-11' '2016-02-16'\n",
      " '2016-02-14' '2016-02-15' '2016-02-20' '2016-02-06' '2016-01-14'\n",
      " '2016-02-17' '2016-02-21' '2016-02-24' '2016-02-25' '2016-02-19'\n",
      " '2016-02-18' '2016-02-26' '2016-02-23' '2016-03-05' '2016-02-22'\n",
      " '2016-02-27' '2016-03-03' '2016-03-24' '2016-03-04' '2016-02-29'\n",
      " '2016-03-01' '2016-03-02' '2016-03-30' '2016-03-07' '2016-03-14'\n",
      " '2016-03-21' '2016-03-09' '2016-03-12' '2016-03-22' '2016-03-10'\n",
      " '2016-03-11' '2016-03-20' '2016-03-15' '2016-03-17' '2016-03-16'\n",
      " '2016-03-19' '2016-03-27' '2016-03-18' '2016-03-26' '2016-03-31'\n",
      " '2016-03-28' '2016-03-29' '2016-04-01' '2016-03-23' '2016-04-02'\n",
      " '2016-03-25' '2016-03-13' '2016-04-04' '2016-04-03' '2016-04-05'\n",
      " '2016-04-08' '2016-04-06' '2016-04-09' '2016-04-12' '2016-04-16'\n",
      " '2016-04-17' '2016-04-27' '2016-04-14' '2016-04-18' '2016-04-21'\n",
      " '2016-04-19' '2016-04-20' '2016-04-10' '2016-04-13' '2016-04-11'\n",
      " '2016-04-07' '2016-04-15' '2016-04-22' '2016-04-23' '2016-04-26'\n",
      " '2016-04-28' '2016-04-24' '2016-04-25' '2016-04-29' '2016-04-30'\n",
      " '2016-05-01' '2016-05-10' '2016-05-02' '2016-05-07' '2016-05-08'\n",
      " '2016-05-12' '2016-05-04' '2016-05-06' '2016-05-03' '2016-05-09'\n",
      " '2016-05-05' '2016-05-13' '2016-05-14' '2016-05-18' '2016-05-19'\n",
      " '2016-05-15' '2016-05-16' '2016-05-11' '2016-05-21' '2016-05-22'\n",
      " '2016-05-20' '2016-05-24' '2016-05-25' '2016-05-26' '2016-05-23'\n",
      " '2016-05-27' '2016-05-17' '2016-05-29' '2016-05-28' '2016-05-30'\n",
      " '2016-05-31' '2016-06-01' '2016-06-03' '2016-06-08' '2016-06-02'\n",
      " '2016-06-05' '2016-06-06' '2016-06-13' '2016-06-07' '2016-06-10'\n",
      " '2016-06-11' '2016-06-16' '2016-06-12' '2016-06-14' '2016-06-17'\n",
      " '2016-06-04' '2016-06-18' '2016-06-21' '2016-06-09' '2016-06-24'\n",
      " '2016-06-20' '2016-06-25' '2016-06-22' '2016-06-26' '2016-06-23'\n",
      " '2016-07-01' '2016-06-15' '2016-06-28' '2016-07-02' '2016-06-19'\n",
      " '2016-06-27' '2016-07-04' '2016-06-30' '2016-07-05' '2016-07-08'\n",
      " '2016-07-09' '2016-07-07' '2016-07-12' '2016-06-29' '2016-07-10'\n",
      " '2016-07-15' '2016-07-03' '2016-07-16' '2016-07-14' '2016-07-18'\n",
      " '2016-07-13' '2016-07-06' '2016-07-20' '2016-07-21' '2016-07-23'\n",
      " '2016-07-19' '2016-07-11' '2016-07-28' '2016-07-17' '2016-07-25'\n",
      " '2016-07-22' '2016-07-29' '2016-08-03' '2016-08-02' '2016-08-04'\n",
      " '2016-08-08' '2016-08-10' '2016-08-01' '2016-08-06' '2016-03-06'\n",
      " '2016-08-05' '2016-07-26' '2016-08-07' '2016-07-30' '2016-07-24'\n",
      " '2016-08-12' '2016-07-27' '2016-08-13' '2016-08-18' '2016-08-16'\n",
      " '2016-08-15' '2016-08-17' '2016-08-11' '2016-07-31' '2016-08-19'\n",
      " '2016-09-01' '2016-08-23' '2016-08-26' '2016-08-20' '2016-08-21'\n",
      " '2016-09-04' '2016-08-22' '2016-08-27' '2016-08-25' '2016-08-09'\n",
      " '2016-09-05' '2016-08-24' '2016-09-10' '2016-08-29' '2016-09-09'\n",
      " '2016-08-30' '2016-09-13' '2016-08-31' '2016-09-14' '2016-09-12'\n",
      " '2016-09-15' '2016-08-14' '2016-09-02' '2016-09-08' '2016-09-19'\n",
      " '2016-09-16' '2016-09-07' '2016-09-21' '2016-09-06' '2016-09-22'\n",
      " '2016-09-17' '2016-09-20' '2016-09-03' '2016-09-26' '2016-09-23'\n",
      " '2016-09-18' '2016-09-29' '2016-10-02' '2016-10-01' '2016-09-27'\n",
      " '2016-09-25' '2016-10-05' '2016-09-11' '2016-09-30' '2016-10-09'\n",
      " '2016-10-03' '2016-10-06' '2016-10-11' '2016-09-24' '2016-10-13'\n",
      " '2016-09-28' '2016-10-08' '2016-10-07' '2016-10-16' '2016-08-28'\n",
      " '2016-10-17' '2016-10-18' '2016-10-10' '2016-10-04' '2016-10-15'\n",
      " '2016-10-19' '2016-10-21' '2016-10-12' '2016-10-24' '2016-10-26'\n",
      " '2016-10-23' '2016-10-20' '2016-10-25' '2016-10-27' '2016-10-28'\n",
      " '2016-10-30' '2016-10-29' '2016-11-01' '2016-11-04' '2016-10-14'\n",
      " '2016-11-07' '2016-11-03' '2016-11-10' '2016-11-14' '2016-11-02'\n",
      " '2016-10-31' '2016-11-11' '2016-11-08' '2016-11-05' '2016-11-25'\n",
      " '2016-11-09' '2016-11-20' '2016-11-21' '2016-10-22' '2016-11-22'\n",
      " '2016-11-16' '2016-11-23' '2016-11-17' '2016-11-06' '2016-11-15'\n",
      " '2016-11-13' '2016-11-12' '2016-11-27' '2016-11-19' '2016-11-30'\n",
      " '2016-11-18' '2016-12-02' '2016-12-04' '2016-11-29' '2016-12-07'\n",
      " '2016-11-28' '2016-12-03' '2016-12-06' '2016-11-24' '2016-12-08'\n",
      " '2016-12-05' '2016-12-10' '2016-12-13' '2016-12-14' '2016-12-16'\n",
      " '2016-12-15' '2016-12-17' '2016-12-19' '2016-12-21' '2016-12-20'\n",
      " '2016-12-22' '2016-12-23' '2016-12-24' '2016-12-01' '2016-12-27'\n",
      " '2016-12-29' '2016-12-30' '2016-12-12' '2017-01-02' '2016-12-11'\n",
      " '2017-01-03' '2017-01-04' '2017-01-01' '2016-12-26' '2017-01-06'\n",
      " '2016-12-28' '2016-12-18' '2017-01-10' '2017-01-11' '2017-01-07'\n",
      " '2017-01-12' '2017-01-16' '2017-01-14' '2017-01-13' '2017-01-05'\n",
      " '2017-01-17' '2017-01-20' '2016-12-09' '2017-01-26' '2016-12-31'\n",
      " '2017-01-23' '2017-01-27' '2017-01-28' '2017-01-19' '2017-01-25'\n",
      " '2017-01-24' '2017-01-29' '2017-01-18' '2016-12-25' '2017-01-15'\n",
      " '2017-01-21' '2017-02-01' '2017-02-02' '2017-01-31' '2017-02-03'\n",
      " '2017-02-04' '2017-02-06' '2017-02-07' '2017-02-08' '2017-01-30'\n",
      " '2017-02-09' '2017-01-09' '2017-02-11' '2017-02-10' '2017-02-12'\n",
      " '2017-02-13' '2017-02-14' '2017-02-16' '2017-02-17' '2017-02-18'\n",
      " '2017-02-19' '2017-02-20' '2017-02-15' '2017-02-21' '2017-02-22'\n",
      " '2017-02-26' '2017-02-23' '2017-02-24' '2017-02-25' '2017-02-28'\n",
      " '2017-03-05' '2017-02-27' '2017-03-03' '2017-03-06' '2017-03-02'\n",
      " '2017-03-08' '2017-03-09' '2017-03-10' '2017-03-07' '2017-03-12'\n",
      " '2017-03-13' '2017-03-14' '2017-03-01' '2017-03-18' '2017-03-17'\n",
      " '2017-03-24' '2017-03-22' '2017-03-26' '2017-03-27' '2017-03-11'\n",
      " '2017-03-28' '2017-03-29' '2017-03-30' '2017-03-31' '2017-03-19'\n",
      " '2017-01-22' '2017-04-02' '2017-03-20' '2017-04-03' '2017-01-08'\n",
      " '2017-03-23' '2017-04-05' '2017-02-05' '2017-04-04' '2017-03-15'\n",
      " '2017-04-07' '2017-03-25' '2017-04-08' '2017-04-06' '2017-03-21'\n",
      " '2017-04-10' '2017-04-01' '2017-04-11' '2017-04-13' '2017-04-15'\n",
      " '2017-04-12' '2017-03-04' '2017-04-19' '2017-04-22' '2017-04-20'\n",
      " '2017-05-02' '2017-04-09' '2017-04-23' '2017-04-24' '2017-04-16'\n",
      " '2017-04-28' '2017-04-18' '2017-04-26' '2017-04-25' '2017-04-17'\n",
      " '2017-04-21' '2017-05-03' '2017-05-04' '2017-03-16' '2017-05-05'\n",
      " '2017-04-29' '2017-04-14' '2017-05-08' '2017-04-27' '2017-05-11'\n",
      " '2017-05-01' '2017-05-10' '2017-05-13' '2017-05-06' '2017-05-14'\n",
      " '2017-05-16' '2017-04-30' '2017-05-15' '2017-05-07' '2017-05-09'\n",
      " '2017-05-17' '2017-05-21' '2017-05-12' '2017-05-22' '2017-05-24'\n",
      " '2017-05-23' '2017-05-25' '2017-05-26' '2017-05-28' '2017-05-27'\n",
      " '2017-05-29' '2017-05-19' '2017-05-31' '2017-05-20' '2017-06-01'\n",
      " '2017-05-30' '2017-06-02' '2016-11-26' '2017-06-04' '2017-06-05'\n",
      " '2017-06-06' '2017-06-07' '2017-05-18' '2017-06-09' '2017-06-10'\n",
      " '2017-06-11' '2017-06-12' '2017-06-14' '2017-06-08' '2017-06-16'\n",
      " '2017-06-13' '2017-06-03' '2017-06-24' '2017-06-20' '2017-06-19'\n",
      " '2017-06-21' '2017-06-26' '2017-06-27' '2017-06-22' '2017-06-28'\n",
      " '2017-06-15' '2017-06-29' '2017-06-30' '2017-06-18' '2017-07-04'\n",
      " '2017-07-08' '2017-07-05' '2017-07-03' '2017-07-07' '2017-07-01'\n",
      " '2017-07-06' '2017-07-11' '2017-07-12' '2017-06-23' '2017-07-13'\n",
      " '2017-07-02' '2017-07-10' '2017-07-14' '2017-07-15' '2017-07-16'\n",
      " '2017-07-18' '2017-07-17' '2017-07-19' '2017-07-20' '2017-07-21'\n",
      " '2017-06-25' '2017-06-17' '2017-07-24' '2017-07-26' '2017-07-09'\n",
      " '2017-07-27' '2017-07-28' '2017-07-31' '2017-07-29' '2017-07-22'\n",
      " '2017-08-02' '2017-08-01' '2017-08-03' '2017-08-04' '2017-07-25'\n",
      " '2017-07-23' '2017-08-09' '2017-08-10' '2017-07-30' '2017-08-07'\n",
      " '2017-08-13' '2017-08-05' '2017-08-14' '2017-08-08' '2017-08-16'\n",
      " '2017-08-17' '2017-08-15' '2017-08-18' '2017-08-20' '2017-08-22'\n",
      " '2017-08-06' '2017-08-25' '2017-08-26' '2017-08-23' '2017-08-11'\n",
      " '2017-08-27' '2017-08-21' '2017-08-29' '2017-08-31' '2017-08-12'\n",
      " '2017-08-19' '2016-01-31' '2017-09-01' '2017-08-28' '2015-04-03'\n",
      " '2015-01-21' '2015-01-28' '2015-01-29' '2015-01-30' '2015-02-02'\n",
      " '2015-02-05' '2015-02-06' '2015-02-09' '2015-02-10' '2015-02-11'\n",
      " '2015-02-12' '2015-02-19' '2015-02-20' '2015-02-23' '2015-02-24'\n",
      " '2015-02-25' '2015-02-26' '2015-02-27' '2015-03-03' '2015-03-04'\n",
      " '2015-03-06' '2015-03-09' '2015-03-11' '2015-03-12' '2015-03-18'\n",
      " '2015-04-02' '2015-06-14' '2015-04-08' '2015-04-16' '2015-04-25'\n",
      " '2015-04-28' '2015-05-08' '2017-09-06' '2016-02-28' '2015-12-09'\n",
      " '2015-12-14' '2017-09-09' '2017-09-02' '2017-08-24' '2017-08-30'\n",
      " '2017-09-03' '2017-09-04' '2017-09-05' '2017-09-07' '2017-09-08'\n",
      " '2017-09-10' '2017-09-12' '2017-09-14' '2015-04-30' '2015-04-21'\n",
      " '2015-04-05' '2015-03-13' '2015-05-05' '2015-03-29' '2015-06-10'\n",
      " '2015-04-27' '2014-10-17' '2015-01-20' '2015-02-17' '2015-03-10'\n",
      " '2015-03-23']\n"
     ]
    }
   ],
   "source": [
    "for i in hotel.columns:\n",
    "    print(i,\" -*-*-*- \",hotel[i].unique())"
   ]
  },
  {
   "cell_type": "markdown",
   "id": "9e5c8d7c",
   "metadata": {},
   "source": [
    "## Filling The Null Values In Children,Country,Agent and Company Columns."
   ]
  },
  {
   "cell_type": "code",
   "execution_count": 10,
   "id": "85dc30f1",
   "metadata": {},
   "outputs": [],
   "source": [
    "hotel[\"country\"]=hotel[\"country\"].fillna(hotel[\"children\"].mode()[0])"
   ]
  },
  {
   "cell_type": "code",
   "execution_count": 11,
   "id": "9c9e7fdf",
   "metadata": {},
   "outputs": [],
   "source": [
    "hotel[\"agent\"]=hotel[\"agent\"].fillna(hotel[\"agent\"].median())"
   ]
  },
  {
   "cell_type": "code",
   "execution_count": 12,
   "id": "ed6930d6",
   "metadata": {},
   "outputs": [],
   "source": [
    "hotel[\"children\"]=hotel[\"children\"].fillna(hotel[\"children\"].median())"
   ]
  },
  {
   "cell_type": "code",
   "execution_count": 13,
   "id": "1f7b02d2",
   "metadata": {},
   "outputs": [],
   "source": [
    "hotel[\"company\"]=hotel[\"company\"].fillna(hotel[\"company\"].median())"
   ]
  },
  {
   "cell_type": "markdown",
   "id": "fb6f869b",
   "metadata": {},
   "source": [
    "## Checking If Data Still Has Null Values."
   ]
  },
  {
   "cell_type": "code",
   "execution_count": 14,
   "id": "1b4d834f",
   "metadata": {},
   "outputs": [
    {
     "data": {
      "text/plain": [
       "hotel                             0\n",
       "is_canceled                       0\n",
       "lead_time                         0\n",
       "arrival_date_year                 0\n",
       "arrival_date_month                0\n",
       "arrival_date_week_number          0\n",
       "arrival_date_day_of_month         0\n",
       "stays_in_weekend_nights           0\n",
       "stays_in_week_nights              0\n",
       "adults                            0\n",
       "children                          0\n",
       "babies                            0\n",
       "meal                              0\n",
       "country                           0\n",
       "market_segment                    0\n",
       "distribution_channel              0\n",
       "is_repeated_guest                 0\n",
       "previous_cancellations            0\n",
       "previous_bookings_not_canceled    0\n",
       "reserved_room_type                0\n",
       "assigned_room_type                0\n",
       "booking_changes                   0\n",
       "deposit_type                      0\n",
       "agent                             0\n",
       "company                           0\n",
       "days_in_waiting_list              0\n",
       "customer_type                     0\n",
       "adr                               0\n",
       "required_car_parking_spaces       0\n",
       "total_of_special_requests         0\n",
       "reservation_status                0\n",
       "reservation_status_date           0\n",
       "dtype: int64"
      ]
     },
     "execution_count": 14,
     "metadata": {},
     "output_type": "execute_result"
    }
   ],
   "source": [
    "hotel.isnull().sum()"
   ]
  },
  {
   "cell_type": "markdown",
   "id": "47bd47eb",
   "metadata": {},
   "source": [
    "### Feature Engineering"
   ]
  },
  {
   "cell_type": "markdown",
   "id": "5e03b2c3",
   "metadata": {},
   "source": [
    "### Droping The Column (previous_bookings_not_canceled) because it is repeated"
   ]
  },
  {
   "cell_type": "code",
   "execution_count": 15,
   "id": "cd4980d7",
   "metadata": {},
   "outputs": [],
   "source": [
    "del hotel[\"previous_bookings_not_canceled\"]"
   ]
  },
  {
   "cell_type": "markdown",
   "id": "d89274da",
   "metadata": {},
   "source": [
    "#### Creating A New Column Called Family  Members Which Includes Adults , Babies , Children"
   ]
  },
  {
   "cell_type": "code",
   "execution_count": 16,
   "id": "300f87cb",
   "metadata": {},
   "outputs": [],
   "source": [
    "hotel[\"Family_Members\"]=hotel[\"adults\"]+hotel[\"children\"]+hotel[\"babies\"]"
   ]
  },
  {
   "cell_type": "code",
   "execution_count": 17,
   "id": "c3694c83",
   "metadata": {},
   "outputs": [
    {
     "name": "stdout",
     "output_type": "stream",
     "text": [
      "<class 'pandas.core.frame.DataFrame'>\n",
      "RangeIndex: 119390 entries, 0 to 119389\n",
      "Data columns (total 32 columns):\n",
      " #   Column                       Non-Null Count   Dtype  \n",
      "---  ------                       --------------   -----  \n",
      " 0   hotel                        119390 non-null  object \n",
      " 1   is_canceled                  119390 non-null  int64  \n",
      " 2   lead_time                    119390 non-null  int64  \n",
      " 3   arrival_date_year            119390 non-null  int64  \n",
      " 4   arrival_date_month           119390 non-null  object \n",
      " 5   arrival_date_week_number     119390 non-null  int64  \n",
      " 6   arrival_date_day_of_month    119390 non-null  int64  \n",
      " 7   stays_in_weekend_nights      119390 non-null  int64  \n",
      " 8   stays_in_week_nights         119390 non-null  int64  \n",
      " 9   adults                       119390 non-null  int64  \n",
      " 10  children                     119390 non-null  float64\n",
      " 11  babies                       119390 non-null  int64  \n",
      " 12  meal                         119390 non-null  object \n",
      " 13  country                      119390 non-null  object \n",
      " 14  market_segment               119390 non-null  object \n",
      " 15  distribution_channel         119390 non-null  object \n",
      " 16  is_repeated_guest            119390 non-null  int64  \n",
      " 17  previous_cancellations       119390 non-null  int64  \n",
      " 18  reserved_room_type           119390 non-null  object \n",
      " 19  assigned_room_type           119390 non-null  object \n",
      " 20  booking_changes              119390 non-null  int64  \n",
      " 21  deposit_type                 119390 non-null  object \n",
      " 22  agent                        119390 non-null  float64\n",
      " 23  company                      119390 non-null  float64\n",
      " 24  days_in_waiting_list         119390 non-null  int64  \n",
      " 25  customer_type                119390 non-null  object \n",
      " 26  adr                          119390 non-null  float64\n",
      " 27  required_car_parking_spaces  119390 non-null  int64  \n",
      " 28  total_of_special_requests    119390 non-null  int64  \n",
      " 29  reservation_status           119390 non-null  object \n",
      " 30  reservation_status_date      119390 non-null  object \n",
      " 31  Family_Members               119390 non-null  float64\n",
      "dtypes: float64(5), int64(15), object(12)\n",
      "memory usage: 29.1+ MB\n"
     ]
    }
   ],
   "source": [
    "hotel.info()"
   ]
  },
  {
   "cell_type": "code",
   "execution_count": 18,
   "id": "1bc3b1ba",
   "metadata": {},
   "outputs": [
    {
     "data": {
      "text/html": [
       "<div>\n",
       "<style scoped>\n",
       "    .dataframe tbody tr th:only-of-type {\n",
       "        vertical-align: middle;\n",
       "    }\n",
       "\n",
       "    .dataframe tbody tr th {\n",
       "        vertical-align: top;\n",
       "    }\n",
       "\n",
       "    .dataframe thead th {\n",
       "        text-align: right;\n",
       "    }\n",
       "</style>\n",
       "<table border=\"1\" class=\"dataframe\">\n",
       "  <thead>\n",
       "    <tr style=\"text-align: right;\">\n",
       "      <th></th>\n",
       "      <th>hotel</th>\n",
       "      <th>is_canceled</th>\n",
       "      <th>lead_time</th>\n",
       "      <th>arrival_date_year</th>\n",
       "      <th>arrival_date_month</th>\n",
       "      <th>arrival_date_week_number</th>\n",
       "      <th>arrival_date_day_of_month</th>\n",
       "      <th>stays_in_weekend_nights</th>\n",
       "      <th>stays_in_week_nights</th>\n",
       "      <th>adults</th>\n",
       "      <th>...</th>\n",
       "      <th>agent</th>\n",
       "      <th>company</th>\n",
       "      <th>days_in_waiting_list</th>\n",
       "      <th>customer_type</th>\n",
       "      <th>adr</th>\n",
       "      <th>required_car_parking_spaces</th>\n",
       "      <th>total_of_special_requests</th>\n",
       "      <th>reservation_status</th>\n",
       "      <th>reservation_status_date</th>\n",
       "      <th>Family_Members</th>\n",
       "    </tr>\n",
       "  </thead>\n",
       "  <tbody>\n",
       "    <tr>\n",
       "      <th>0</th>\n",
       "      <td>Resort Hotel</td>\n",
       "      <td>0</td>\n",
       "      <td>342</td>\n",
       "      <td>2015</td>\n",
       "      <td>July</td>\n",
       "      <td>27</td>\n",
       "      <td>1</td>\n",
       "      <td>0</td>\n",
       "      <td>0</td>\n",
       "      <td>2</td>\n",
       "      <td>...</td>\n",
       "      <td>14.0</td>\n",
       "      <td>179.0</td>\n",
       "      <td>0</td>\n",
       "      <td>Transient</td>\n",
       "      <td>0.0</td>\n",
       "      <td>0</td>\n",
       "      <td>0</td>\n",
       "      <td>Check-Out</td>\n",
       "      <td>2015-07-01</td>\n",
       "      <td>2.0</td>\n",
       "    </tr>\n",
       "    <tr>\n",
       "      <th>1</th>\n",
       "      <td>Resort Hotel</td>\n",
       "      <td>0</td>\n",
       "      <td>737</td>\n",
       "      <td>2015</td>\n",
       "      <td>July</td>\n",
       "      <td>27</td>\n",
       "      <td>1</td>\n",
       "      <td>0</td>\n",
       "      <td>0</td>\n",
       "      <td>2</td>\n",
       "      <td>...</td>\n",
       "      <td>14.0</td>\n",
       "      <td>179.0</td>\n",
       "      <td>0</td>\n",
       "      <td>Transient</td>\n",
       "      <td>0.0</td>\n",
       "      <td>0</td>\n",
       "      <td>0</td>\n",
       "      <td>Check-Out</td>\n",
       "      <td>2015-07-01</td>\n",
       "      <td>2.0</td>\n",
       "    </tr>\n",
       "    <tr>\n",
       "      <th>2</th>\n",
       "      <td>Resort Hotel</td>\n",
       "      <td>0</td>\n",
       "      <td>7</td>\n",
       "      <td>2015</td>\n",
       "      <td>July</td>\n",
       "      <td>27</td>\n",
       "      <td>1</td>\n",
       "      <td>0</td>\n",
       "      <td>1</td>\n",
       "      <td>1</td>\n",
       "      <td>...</td>\n",
       "      <td>14.0</td>\n",
       "      <td>179.0</td>\n",
       "      <td>0</td>\n",
       "      <td>Transient</td>\n",
       "      <td>75.0</td>\n",
       "      <td>0</td>\n",
       "      <td>0</td>\n",
       "      <td>Check-Out</td>\n",
       "      <td>2015-07-02</td>\n",
       "      <td>1.0</td>\n",
       "    </tr>\n",
       "    <tr>\n",
       "      <th>3</th>\n",
       "      <td>Resort Hotel</td>\n",
       "      <td>0</td>\n",
       "      <td>13</td>\n",
       "      <td>2015</td>\n",
       "      <td>July</td>\n",
       "      <td>27</td>\n",
       "      <td>1</td>\n",
       "      <td>0</td>\n",
       "      <td>1</td>\n",
       "      <td>1</td>\n",
       "      <td>...</td>\n",
       "      <td>304.0</td>\n",
       "      <td>179.0</td>\n",
       "      <td>0</td>\n",
       "      <td>Transient</td>\n",
       "      <td>75.0</td>\n",
       "      <td>0</td>\n",
       "      <td>0</td>\n",
       "      <td>Check-Out</td>\n",
       "      <td>2015-07-02</td>\n",
       "      <td>1.0</td>\n",
       "    </tr>\n",
       "    <tr>\n",
       "      <th>4</th>\n",
       "      <td>Resort Hotel</td>\n",
       "      <td>0</td>\n",
       "      <td>14</td>\n",
       "      <td>2015</td>\n",
       "      <td>July</td>\n",
       "      <td>27</td>\n",
       "      <td>1</td>\n",
       "      <td>0</td>\n",
       "      <td>2</td>\n",
       "      <td>2</td>\n",
       "      <td>...</td>\n",
       "      <td>240.0</td>\n",
       "      <td>179.0</td>\n",
       "      <td>0</td>\n",
       "      <td>Transient</td>\n",
       "      <td>98.0</td>\n",
       "      <td>0</td>\n",
       "      <td>1</td>\n",
       "      <td>Check-Out</td>\n",
       "      <td>2015-07-03</td>\n",
       "      <td>2.0</td>\n",
       "    </tr>\n",
       "  </tbody>\n",
       "</table>\n",
       "<p>5 rows × 32 columns</p>\n",
       "</div>"
      ],
      "text/plain": [
       "          hotel  is_canceled  lead_time  arrival_date_year arrival_date_month  \\\n",
       "0  Resort Hotel            0        342               2015               July   \n",
       "1  Resort Hotel            0        737               2015               July   \n",
       "2  Resort Hotel            0          7               2015               July   \n",
       "3  Resort Hotel            0         13               2015               July   \n",
       "4  Resort Hotel            0         14               2015               July   \n",
       "\n",
       "   arrival_date_week_number  arrival_date_day_of_month  \\\n",
       "0                        27                          1   \n",
       "1                        27                          1   \n",
       "2                        27                          1   \n",
       "3                        27                          1   \n",
       "4                        27                          1   \n",
       "\n",
       "   stays_in_weekend_nights  stays_in_week_nights  adults  ...  agent  company  \\\n",
       "0                        0                     0       2  ...   14.0    179.0   \n",
       "1                        0                     0       2  ...   14.0    179.0   \n",
       "2                        0                     1       1  ...   14.0    179.0   \n",
       "3                        0                     1       1  ...  304.0    179.0   \n",
       "4                        0                     2       2  ...  240.0    179.0   \n",
       "\n",
       "  days_in_waiting_list customer_type   adr required_car_parking_spaces  \\\n",
       "0                    0     Transient   0.0                           0   \n",
       "1                    0     Transient   0.0                           0   \n",
       "2                    0     Transient  75.0                           0   \n",
       "3                    0     Transient  75.0                           0   \n",
       "4                    0     Transient  98.0                           0   \n",
       "\n",
       "   total_of_special_requests  reservation_status reservation_status_date  \\\n",
       "0                          0           Check-Out              2015-07-01   \n",
       "1                          0           Check-Out              2015-07-01   \n",
       "2                          0           Check-Out              2015-07-02   \n",
       "3                          0           Check-Out              2015-07-02   \n",
       "4                          1           Check-Out              2015-07-03   \n",
       "\n",
       "  Family_Members  \n",
       "0            2.0  \n",
       "1            2.0  \n",
       "2            1.0  \n",
       "3            1.0  \n",
       "4            2.0  \n",
       "\n",
       "[5 rows x 32 columns]"
      ]
     },
     "execution_count": 18,
     "metadata": {},
     "output_type": "execute_result"
    }
   ],
   "source": [
    "hotel.head()"
   ]
  },
  {
   "cell_type": "markdown",
   "id": "7387dc64",
   "metadata": {},
   "source": [
    "##### Since Our Data Is Cleaned we can Start Our Analysis Work On It..... "
   ]
  },
  {
   "cell_type": "markdown",
   "id": "01f25912",
   "metadata": {},
   "source": [
    "### Viewing Statistical Summary Of The Data"
   ]
  },
  {
   "cell_type": "code",
   "execution_count": 19,
   "id": "5fa066d3",
   "metadata": {},
   "outputs": [
    {
     "data": {
      "text/html": [
       "<div>\n",
       "<style scoped>\n",
       "    .dataframe tbody tr th:only-of-type {\n",
       "        vertical-align: middle;\n",
       "    }\n",
       "\n",
       "    .dataframe tbody tr th {\n",
       "        vertical-align: top;\n",
       "    }\n",
       "\n",
       "    .dataframe thead th {\n",
       "        text-align: right;\n",
       "    }\n",
       "</style>\n",
       "<table border=\"1\" class=\"dataframe\">\n",
       "  <thead>\n",
       "    <tr style=\"text-align: right;\">\n",
       "      <th></th>\n",
       "      <th>count</th>\n",
       "      <th>mean</th>\n",
       "      <th>std</th>\n",
       "      <th>min</th>\n",
       "      <th>25%</th>\n",
       "      <th>50%</th>\n",
       "      <th>75%</th>\n",
       "      <th>max</th>\n",
       "    </tr>\n",
       "  </thead>\n",
       "  <tbody>\n",
       "    <tr>\n",
       "      <th>is_canceled</th>\n",
       "      <td>119390.0</td>\n",
       "      <td>0.370416</td>\n",
       "      <td>0.482918</td>\n",
       "      <td>0.00</td>\n",
       "      <td>0.00</td>\n",
       "      <td>0.000</td>\n",
       "      <td>1.0</td>\n",
       "      <td>1.0</td>\n",
       "    </tr>\n",
       "    <tr>\n",
       "      <th>lead_time</th>\n",
       "      <td>119390.0</td>\n",
       "      <td>104.011416</td>\n",
       "      <td>106.863097</td>\n",
       "      <td>0.00</td>\n",
       "      <td>18.00</td>\n",
       "      <td>69.000</td>\n",
       "      <td>160.0</td>\n",
       "      <td>737.0</td>\n",
       "    </tr>\n",
       "    <tr>\n",
       "      <th>arrival_date_year</th>\n",
       "      <td>119390.0</td>\n",
       "      <td>2016.156554</td>\n",
       "      <td>0.707476</td>\n",
       "      <td>2015.00</td>\n",
       "      <td>2016.00</td>\n",
       "      <td>2016.000</td>\n",
       "      <td>2017.0</td>\n",
       "      <td>2017.0</td>\n",
       "    </tr>\n",
       "    <tr>\n",
       "      <th>arrival_date_week_number</th>\n",
       "      <td>119390.0</td>\n",
       "      <td>27.165173</td>\n",
       "      <td>13.605138</td>\n",
       "      <td>1.00</td>\n",
       "      <td>16.00</td>\n",
       "      <td>28.000</td>\n",
       "      <td>38.0</td>\n",
       "      <td>53.0</td>\n",
       "    </tr>\n",
       "    <tr>\n",
       "      <th>arrival_date_day_of_month</th>\n",
       "      <td>119390.0</td>\n",
       "      <td>15.798241</td>\n",
       "      <td>8.780829</td>\n",
       "      <td>1.00</td>\n",
       "      <td>8.00</td>\n",
       "      <td>16.000</td>\n",
       "      <td>23.0</td>\n",
       "      <td>31.0</td>\n",
       "    </tr>\n",
       "    <tr>\n",
       "      <th>stays_in_weekend_nights</th>\n",
       "      <td>119390.0</td>\n",
       "      <td>0.927599</td>\n",
       "      <td>0.998613</td>\n",
       "      <td>0.00</td>\n",
       "      <td>0.00</td>\n",
       "      <td>1.000</td>\n",
       "      <td>2.0</td>\n",
       "      <td>19.0</td>\n",
       "    </tr>\n",
       "    <tr>\n",
       "      <th>stays_in_week_nights</th>\n",
       "      <td>119390.0</td>\n",
       "      <td>2.500302</td>\n",
       "      <td>1.908286</td>\n",
       "      <td>0.00</td>\n",
       "      <td>1.00</td>\n",
       "      <td>2.000</td>\n",
       "      <td>3.0</td>\n",
       "      <td>50.0</td>\n",
       "    </tr>\n",
       "    <tr>\n",
       "      <th>adults</th>\n",
       "      <td>119390.0</td>\n",
       "      <td>1.856403</td>\n",
       "      <td>0.579261</td>\n",
       "      <td>0.00</td>\n",
       "      <td>2.00</td>\n",
       "      <td>2.000</td>\n",
       "      <td>2.0</td>\n",
       "      <td>55.0</td>\n",
       "    </tr>\n",
       "    <tr>\n",
       "      <th>children</th>\n",
       "      <td>119390.0</td>\n",
       "      <td>0.103886</td>\n",
       "      <td>0.398555</td>\n",
       "      <td>0.00</td>\n",
       "      <td>0.00</td>\n",
       "      <td>0.000</td>\n",
       "      <td>0.0</td>\n",
       "      <td>10.0</td>\n",
       "    </tr>\n",
       "    <tr>\n",
       "      <th>babies</th>\n",
       "      <td>119390.0</td>\n",
       "      <td>0.007949</td>\n",
       "      <td>0.097436</td>\n",
       "      <td>0.00</td>\n",
       "      <td>0.00</td>\n",
       "      <td>0.000</td>\n",
       "      <td>0.0</td>\n",
       "      <td>10.0</td>\n",
       "    </tr>\n",
       "    <tr>\n",
       "      <th>is_repeated_guest</th>\n",
       "      <td>119390.0</td>\n",
       "      <td>0.031912</td>\n",
       "      <td>0.175767</td>\n",
       "      <td>0.00</td>\n",
       "      <td>0.00</td>\n",
       "      <td>0.000</td>\n",
       "      <td>0.0</td>\n",
       "      <td>1.0</td>\n",
       "    </tr>\n",
       "    <tr>\n",
       "      <th>previous_cancellations</th>\n",
       "      <td>119390.0</td>\n",
       "      <td>0.087118</td>\n",
       "      <td>0.844336</td>\n",
       "      <td>0.00</td>\n",
       "      <td>0.00</td>\n",
       "      <td>0.000</td>\n",
       "      <td>0.0</td>\n",
       "      <td>26.0</td>\n",
       "    </tr>\n",
       "    <tr>\n",
       "      <th>booking_changes</th>\n",
       "      <td>119390.0</td>\n",
       "      <td>0.221124</td>\n",
       "      <td>0.652306</td>\n",
       "      <td>0.00</td>\n",
       "      <td>0.00</td>\n",
       "      <td>0.000</td>\n",
       "      <td>0.0</td>\n",
       "      <td>21.0</td>\n",
       "    </tr>\n",
       "    <tr>\n",
       "      <th>agent</th>\n",
       "      <td>119390.0</td>\n",
       "      <td>76.744392</td>\n",
       "      <td>105.904658</td>\n",
       "      <td>1.00</td>\n",
       "      <td>9.00</td>\n",
       "      <td>14.000</td>\n",
       "      <td>152.0</td>\n",
       "      <td>535.0</td>\n",
       "    </tr>\n",
       "    <tr>\n",
       "      <th>company</th>\n",
       "      <td>119390.0</td>\n",
       "      <td>179.584496</td>\n",
       "      <td>31.500968</td>\n",
       "      <td>6.00</td>\n",
       "      <td>179.00</td>\n",
       "      <td>179.000</td>\n",
       "      <td>179.0</td>\n",
       "      <td>543.0</td>\n",
       "    </tr>\n",
       "    <tr>\n",
       "      <th>days_in_waiting_list</th>\n",
       "      <td>119390.0</td>\n",
       "      <td>2.321149</td>\n",
       "      <td>17.594721</td>\n",
       "      <td>0.00</td>\n",
       "      <td>0.00</td>\n",
       "      <td>0.000</td>\n",
       "      <td>0.0</td>\n",
       "      <td>391.0</td>\n",
       "    </tr>\n",
       "    <tr>\n",
       "      <th>adr</th>\n",
       "      <td>119390.0</td>\n",
       "      <td>101.831122</td>\n",
       "      <td>50.535790</td>\n",
       "      <td>-6.38</td>\n",
       "      <td>69.29</td>\n",
       "      <td>94.575</td>\n",
       "      <td>126.0</td>\n",
       "      <td>5400.0</td>\n",
       "    </tr>\n",
       "    <tr>\n",
       "      <th>required_car_parking_spaces</th>\n",
       "      <td>119390.0</td>\n",
       "      <td>0.062518</td>\n",
       "      <td>0.245291</td>\n",
       "      <td>0.00</td>\n",
       "      <td>0.00</td>\n",
       "      <td>0.000</td>\n",
       "      <td>0.0</td>\n",
       "      <td>8.0</td>\n",
       "    </tr>\n",
       "    <tr>\n",
       "      <th>total_of_special_requests</th>\n",
       "      <td>119390.0</td>\n",
       "      <td>0.571363</td>\n",
       "      <td>0.792798</td>\n",
       "      <td>0.00</td>\n",
       "      <td>0.00</td>\n",
       "      <td>0.000</td>\n",
       "      <td>1.0</td>\n",
       "      <td>5.0</td>\n",
       "    </tr>\n",
       "    <tr>\n",
       "      <th>Family_Members</th>\n",
       "      <td>119390.0</td>\n",
       "      <td>1.968239</td>\n",
       "      <td>0.722394</td>\n",
       "      <td>0.00</td>\n",
       "      <td>2.00</td>\n",
       "      <td>2.000</td>\n",
       "      <td>2.0</td>\n",
       "      <td>55.0</td>\n",
       "    </tr>\n",
       "  </tbody>\n",
       "</table>\n",
       "</div>"
      ],
      "text/plain": [
       "                                count         mean         std      min  \\\n",
       "is_canceled                  119390.0     0.370416    0.482918     0.00   \n",
       "lead_time                    119390.0   104.011416  106.863097     0.00   \n",
       "arrival_date_year            119390.0  2016.156554    0.707476  2015.00   \n",
       "arrival_date_week_number     119390.0    27.165173   13.605138     1.00   \n",
       "arrival_date_day_of_month    119390.0    15.798241    8.780829     1.00   \n",
       "stays_in_weekend_nights      119390.0     0.927599    0.998613     0.00   \n",
       "stays_in_week_nights         119390.0     2.500302    1.908286     0.00   \n",
       "adults                       119390.0     1.856403    0.579261     0.00   \n",
       "children                     119390.0     0.103886    0.398555     0.00   \n",
       "babies                       119390.0     0.007949    0.097436     0.00   \n",
       "is_repeated_guest            119390.0     0.031912    0.175767     0.00   \n",
       "previous_cancellations       119390.0     0.087118    0.844336     0.00   \n",
       "booking_changes              119390.0     0.221124    0.652306     0.00   \n",
       "agent                        119390.0    76.744392  105.904658     1.00   \n",
       "company                      119390.0   179.584496   31.500968     6.00   \n",
       "days_in_waiting_list         119390.0     2.321149   17.594721     0.00   \n",
       "adr                          119390.0   101.831122   50.535790    -6.38   \n",
       "required_car_parking_spaces  119390.0     0.062518    0.245291     0.00   \n",
       "total_of_special_requests    119390.0     0.571363    0.792798     0.00   \n",
       "Family_Members               119390.0     1.968239    0.722394     0.00   \n",
       "\n",
       "                                 25%       50%     75%     max  \n",
       "is_canceled                     0.00     0.000     1.0     1.0  \n",
       "lead_time                      18.00    69.000   160.0   737.0  \n",
       "arrival_date_year            2016.00  2016.000  2017.0  2017.0  \n",
       "arrival_date_week_number       16.00    28.000    38.0    53.0  \n",
       "arrival_date_day_of_month       8.00    16.000    23.0    31.0  \n",
       "stays_in_weekend_nights         0.00     1.000     2.0    19.0  \n",
       "stays_in_week_nights            1.00     2.000     3.0    50.0  \n",
       "adults                          2.00     2.000     2.0    55.0  \n",
       "children                        0.00     0.000     0.0    10.0  \n",
       "babies                          0.00     0.000     0.0    10.0  \n",
       "is_repeated_guest               0.00     0.000     0.0     1.0  \n",
       "previous_cancellations          0.00     0.000     0.0    26.0  \n",
       "booking_changes                 0.00     0.000     0.0    21.0  \n",
       "agent                           9.00    14.000   152.0   535.0  \n",
       "company                       179.00   179.000   179.0   543.0  \n",
       "days_in_waiting_list            0.00     0.000     0.0   391.0  \n",
       "adr                            69.29    94.575   126.0  5400.0  \n",
       "required_car_parking_spaces     0.00     0.000     0.0     8.0  \n",
       "total_of_special_requests       0.00     0.000     1.0     5.0  \n",
       "Family_Members                  2.00     2.000     2.0    55.0  "
      ]
     },
     "execution_count": 19,
     "metadata": {},
     "output_type": "execute_result"
    }
   ],
   "source": [
    "hotel.describe().T"
   ]
  },
  {
   "cell_type": "code",
   "execution_count": null,
   "id": "8cffc42d",
   "metadata": {},
   "outputs": [],
   "source": []
  },
  {
   "cell_type": "markdown",
   "id": "37d65e8b",
   "metadata": {},
   "source": [
    "## Viewing The Heatmap Of The Data"
   ]
  },
  {
   "cell_type": "code",
   "execution_count": 20,
   "id": "f25e169f",
   "metadata": {},
   "outputs": [
    {
     "data": {
      "text/plain": [
       "<AxesSubplot:>"
      ]
     },
     "execution_count": 20,
     "metadata": {},
     "output_type": "execute_result"
    },
    {
     "data": {
      "image/png": "[encoded data removed]",
      "text/plain": [
       "<Figure size 640x480 with 2 Axes>"
      ]
     },
     "metadata": {},
     "output_type": "display_data"
    }
   ],
   "source": [
    "sns.heatmap(hotel.corr())"
   ]
  },
  {
   "cell_type": "markdown",
   "id": "68598975",
   "metadata": {},
   "source": [
    "## Univariate Analysis"
   ]
  },
  {
   "cell_type": "markdown",
   "id": "5622c98f",
   "metadata": {},
   "source": [
    "#### 1. hotel column :-"
   ]
  },
  {
   "cell_type": "code",
   "execution_count": 21,
   "id": "b04c09b8",
   "metadata": {},
   "outputs": [
    {
     "data": {
      "text/plain": [
       "<AxesSubplot:xlabel='hotel', ylabel='count'>"
      ]
     },
     "execution_count": 21,
     "metadata": {},
     "output_type": "execute_result"
    },
    {
     "data": {
      "image/png": "[encoded data removed]",
      "text/plain": [
       "<Figure size 640x480 with 1 Axes>"
      ]
     },
     "metadata": {},
     "output_type": "display_data"
    }
   ],
   "source": [
    "sns.countplot(x=hotel[\"hotel\"],data=hotel)"
   ]
  },
  {
   "cell_type": "markdown",
   "id": "aa28054b",
   "metadata": {},
   "source": [
    " City Hotel Are More Than Resort Hotel"
   ]
  },
  {
   "cell_type": "markdown",
   "id": "bfa658b6",
   "metadata": {},
   "source": [
    "#### 2. lead_time column :-"
   ]
  },
  {
   "cell_type": "code",
   "execution_count": 22,
   "id": "2a898888",
   "metadata": {},
   "outputs": [
    {
     "data": {
      "text/plain": [
       "<AxesSubplot:xlabel='lead_time'>"
      ]
     },
     "execution_count": 22,
     "metadata": {},
     "output_type": "execute_result"
    },
    {
     "data": {
      "image/png": "[encoded data removed]",
      "text/plain": [
       "<Figure size 640x480 with 1 Axes>"
      ]
     },
     "metadata": {},
     "output_type": "display_data"
    }
   ],
   "source": [
    "plt.xticks(rotation=90)\n",
    "sns.barplot(x=hotel[\"lead_time\"],data=hotel)"
   ]
  },
  {
   "cell_type": "markdown",
   "id": "22056a61",
   "metadata": {},
   "source": [
    "### 3. arrival_date_year column :-"
   ]
  },
  {
   "cell_type": "code",
   "execution_count": 23,
   "id": "a6f4a9a3",
   "metadata": {},
   "outputs": [
    {
     "data": {
      "text/plain": [
       "<AxesSubplot:xlabel='arrival_date_year', ylabel='count'>"
      ]
     },
     "execution_count": 23,
     "metadata": {},
     "output_type": "execute_result"
    },
    {
     "data": {
      "image/png": "[encoded data removed]",
      "text/plain": [
       "<Figure size 640x480 with 1 Axes>"
      ]
     },
     "metadata": {},
     "output_type": "display_data"
    }
   ],
   "source": [
    "sns.countplot(x=hotel[\"arrival_date_year\"],data=hotel)"
   ]
  },
  {
   "cell_type": "markdown",
   "id": "8135c943",
   "metadata": {},
   "source": [
    "Maximum Passengers Arrived In year 2016 ,Followed by 2017 then at the end 2015 which saw The Least Number Of Customers"
   ]
  },
  {
   "cell_type": "markdown",
   "id": "6598c94c",
   "metadata": {},
   "source": [
    "### 4. arrival_date_week_number column :-"
   ]
  },
  {
   "cell_type": "code",
   "execution_count": 24,
   "id": "c98f77d8",
   "metadata": {
    "scrolled": true
   },
   "outputs": [
    {
     "data": {
      "text/plain": [
       "<AxesSubplot:xlabel='arrival_date_week_number', ylabel='count'>"
      ]
     },
     "execution_count": 24,
     "metadata": {},
     "output_type": "execute_result"
    },
    {
     "data": {
      "image/png": "[encoded data removed]",
      "text/plain": [
       "<Figure size 2000x1000 with 1 Axes>"
      ]
     },
     "metadata": {},
     "output_type": "display_data"
    }
   ],
   "source": [
    "plt.figure(figsize=(20,10))\n",
    "plt.xticks(rotation=90)\n",
    "sns.countplot(x=hotel[\"arrival_date_week_number\"],data=hotel)"
   ]
  },
  {
   "cell_type": "markdown",
   "id": "06d18435",
   "metadata": {},
   "source": [
    "Maximum Customers Arrived On 33rd Week"
   ]
  },
  {
   "cell_type": "markdown",
   "id": "890aabea",
   "metadata": {},
   "source": [
    "### 5. stays_in_weekend_nights column :-"
   ]
  },
  {
   "cell_type": "code",
   "execution_count": 25,
   "id": "286d7d01",
   "metadata": {},
   "outputs": [
    {
     "data": {
      "text/plain": [
       "<AxesSubplot:xlabel='stays_in_weekend_nights', ylabel='count'>"
      ]
     },
     "execution_count": 25,
     "metadata": {},
     "output_type": "execute_result"
    },
    {
     "data": {
      "image/png": "[encoded data removed]",
      "text/plain": [
       "<Figure size 640x480 with 1 Axes>"
      ]
     },
     "metadata": {},
     "output_type": "display_data"
    }
   ],
   "source": [
    "sns.countplot(x=hotel[\"stays_in_weekend_nights\"],data=hotel)"
   ]
  },
  {
   "cell_type": "markdown",
   "id": "e14be420",
   "metadata": {},
   "source": [
    "Maximum Customers Preferred Not To Stay In Weekend Nights. Some Who Stayed Only Stayed For 1 or 2 Days."
   ]
  },
  {
   "cell_type": "markdown",
   "id": "dd149af0",
   "metadata": {},
   "source": [
    "### 6. stays_in_week_nights column :-"
   ]
  },
  {
   "cell_type": "code",
   "execution_count": 26,
   "id": "868a384f",
   "metadata": {},
   "outputs": [
    {
     "data": {
      "text/plain": [
       "<AxesSubplot:xlabel='stays_in_week_nights', ylabel='count'>"
      ]
     },
     "execution_count": 26,
     "metadata": {},
     "output_type": "execute_result"
    },
    {
     "data": {
      "image/png": "[encoded data removed]",
      "text/plain": [
       "<Figure size 1500x700 with 1 Axes>"
      ]
     },
     "metadata": {},
     "output_type": "display_data"
    }
   ],
   "source": [
    "plt.figure(figsize=(15,7))\n",
    "plt.xticks(rotation=90)\n",
    "sns.countplot(x=hotel[\"stays_in_week_nights\"],data=hotel)"
   ]
  },
  {
   "cell_type": "markdown",
   "id": "3b6d4476",
   "metadata": {},
   "source": [
    "Maximum Number Of People Stayed for Only 1-3 Days On Week-Days.."
   ]
  },
  {
   "cell_type": "markdown",
   "id": "f773ffcc",
   "metadata": {},
   "source": [
    "### 7. is_repeated_guest column :-"
   ]
  },
  {
   "cell_type": "code",
   "execution_count": 27,
   "id": "ef702901",
   "metadata": {},
   "outputs": [
    {
     "data": {
      "text/plain": [
       "<AxesSubplot:xlabel='is_repeated_guest', ylabel='count'>"
      ]
     },
     "execution_count": 27,
     "metadata": {},
     "output_type": "execute_result"
    },
    {
     "data": {
      "image/png": "[encoded data removed]",
      "text/plain": [
       "<Figure size 640x480 with 1 Axes>"
      ]
     },
     "metadata": {},
     "output_type": "display_data"
    }
   ],
   "source": [
    "sns.countplot(x=hotel[\"is_repeated_guest\"],data=hotel)"
   ]
  },
  {
   "cell_type": "markdown",
   "id": "8560fa7c",
   "metadata": {},
   "source": [
    "Very few People Are Repeated Guests.."
   ]
  },
  {
   "cell_type": "markdown",
   "id": "4c58f443",
   "metadata": {},
   "source": [
    "### 8. Family_Members Column :-"
   ]
  },
  {
   "cell_type": "code",
   "execution_count": 28,
   "id": "da66dec0",
   "metadata": {},
   "outputs": [
    {
     "data": {
      "text/plain": [
       "<AxesSubplot:xlabel='Family_Members', ylabel='count'>"
      ]
     },
     "execution_count": 28,
     "metadata": {},
     "output_type": "execute_result"
    },
    {
     "data": {
      "image/png": "[encoded data removed]",
      "text/plain": [
       "<Figure size 640x480 with 1 Axes>"
      ]
     },
     "metadata": {},
     "output_type": "display_data"
    }
   ],
   "source": [
    "sns.countplot(x=hotel[\"Family_Members\"],data=hotel)"
   ]
  },
  {
   "cell_type": "markdown",
   "id": "dd0e7e45",
   "metadata": {},
   "source": [
    "Maximum People Stayed With 2 Members Of Their families."
   ]
  },
  {
   "cell_type": "markdown",
   "id": "0b15bf6b",
   "metadata": {},
   "source": [
    "### 9. customer_type Column :-"
   ]
  },
  {
   "cell_type": "code",
   "execution_count": 29,
   "id": "3666a304",
   "metadata": {},
   "outputs": [
    {
     "data": {
      "text/plain": [
       "<AxesSubplot:xlabel='customer_type', ylabel='count'>"
      ]
     },
     "execution_count": 29,
     "metadata": {},
     "output_type": "execute_result"
    },
    {
     "data": {
      "image/png": "[encoded data removed]",
      "text/plain": [
       "<Figure size 640x480 with 1 Axes>"
      ]
     },
     "metadata": {},
     "output_type": "display_data"
    }
   ],
   "source": [
    "sns.countplot(x=hotel[\"customer_type\"],data=hotel)"
   ]
  },
  {
   "cell_type": "markdown",
   "id": "0d23dbce",
   "metadata": {},
   "source": [
    "Most Of The Customers Were Transient TYPE."
   ]
  },
  {
   "cell_type": "markdown",
   "id": "df129472",
   "metadata": {},
   "source": [
    "### 10. reservation_status Column :-"
   ]
  },
  {
   "cell_type": "code",
   "execution_count": 30,
   "id": "fa4563a4",
   "metadata": {},
   "outputs": [
    {
     "data": {
      "text/plain": [
       "<AxesSubplot:xlabel='reservation_status', ylabel='count'>"
      ]
     },
     "execution_count": 30,
     "metadata": {},
     "output_type": "execute_result"
    },
    {
     "data": {
      "image/png": "[encoded data removed]",
      "text/plain": [
       "<Figure size 640x480 with 1 Axes>"
      ]
     },
     "metadata": {},
     "output_type": "display_data"
    }
   ],
   "source": [
    "sns.countplot(x=hotel[\"reservation_status\"],data=hotel)"
   ]
  },
  {
   "cell_type": "markdown",
   "id": "d7ad697c",
   "metadata": {},
   "source": [
    "Large Number Of Customers Have Checked Out Of The Hotel , Followed by People Who Have Cancelled Their Hotel Reservations.  "
   ]
  },
  {
   "cell_type": "markdown",
   "id": "a71da3aa",
   "metadata": {},
   "source": [
    "### 11. meal Column :-"
   ]
  },
  {
   "cell_type": "code",
   "execution_count": 31,
   "id": "1f65e0ea",
   "metadata": {},
   "outputs": [
    {
     "data": {
      "text/plain": [
       "<AxesSubplot:xlabel='meal', ylabel='count'>"
      ]
     },
     "execution_count": 31,
     "metadata": {},
     "output_type": "execute_result"
    },
    {
     "data": {
      "image/png": "[encoded data removed]",
      "text/plain": [
       "<Figure size 640x480 with 1 Axes>"
      ]
     },
     "metadata": {},
     "output_type": "display_data"
    }
   ],
   "source": [
    "sns.countplot(x=hotel[\"meal\"],data=hotel)"
   ]
  },
  {
   "cell_type": "markdown",
   "id": "eeef5abe",
   "metadata": {},
   "source": [
    "Most Of The People Preferred BB ( Breakfast Only ),Followed by , HB (Half-Board Meal - [bed,breakfast,lunch,evening-meal,(Drinks Not Included)"
   ]
  },
  {
   "cell_type": "markdown",
   "id": "8a5a7554",
   "metadata": {},
   "source": [
    "### 12. market_segment Column :-"
   ]
  },
  {
   "cell_type": "code",
   "execution_count": 32,
   "id": "3d5bd756",
   "metadata": {},
   "outputs": [
    {
     "data": {
      "text/plain": [
       "<AxesSubplot:xlabel='market_segment', ylabel='count'>"
      ]
     },
     "execution_count": 32,
     "metadata": {},
     "output_type": "execute_result"
    },
    {
     "data": {
      "image/png": "[encoded data removed]",
      "text/plain": [
       "<Figure size 640x480 with 1 Axes>"
      ]
     },
     "metadata": {},
     "output_type": "display_data"
    }
   ],
   "source": [
    "plt.xticks(rotation=90)\n",
    "sns.countplot(x=hotel[\"market_segment\"],data=hotel)"
   ]
  },
  {
   "cell_type": "markdown",
   "id": "ccc12629",
   "metadata": {},
   "source": [
    "Large Number Of People Booked Through Online Travel Agents."
   ]
  },
  {
   "cell_type": "markdown",
   "id": "07710549",
   "metadata": {},
   "source": [
    "### 13. previous_cancellations Column :-"
   ]
  },
  {
   "cell_type": "code",
   "execution_count": 33,
   "id": "00351634",
   "metadata": {},
   "outputs": [
    {
     "data": {
      "text/plain": [
       "<AxesSubplot:xlabel='previous_cancellations', ylabel='count'>"
      ]
     },
     "execution_count": 33,
     "metadata": {},
     "output_type": "execute_result"
    },
    {
     "data": {
      "image/png": "[encoded data removed]",
      "text/plain": [
       "<Figure size 640x480 with 1 Axes>"
      ]
     },
     "metadata": {},
     "output_type": "display_data"
    }
   ],
   "source": [
    "sns.countplot(x=hotel[\"previous_cancellations\"],data=hotel)"
   ]
  },
  {
   "cell_type": "markdown",
   "id": "2ff75ccf",
   "metadata": {},
   "source": [
    "Very few People Cancelled Their Previous Bookings."
   ]
  },
  {
   "cell_type": "markdown",
   "id": "0a5e1de4",
   "metadata": {},
   "source": [
    "### 14. required_car_parking_spaces Column :-"
   ]
  },
  {
   "cell_type": "code",
   "execution_count": 34,
   "id": "6aeac097",
   "metadata": {},
   "outputs": [
    {
     "data": {
      "text/plain": [
       "<AxesSubplot:xlabel='required_car_parking_spaces', ylabel='count'>"
      ]
     },
     "execution_count": 34,
     "metadata": {},
     "output_type": "execute_result"
    },
    {
     "data": {
      "image/png": "[encoded data removed]",
      "text/plain": [
       "<Figure size 640x480 with 1 Axes>"
      ]
     },
     "metadata": {},
     "output_type": "display_data"
    }
   ],
   "source": [
    "sns.countplot(x=hotel[\"required_car_parking_spaces\"],data=hotel)"
   ]
  },
  {
   "cell_type": "markdown",
   "id": "26d36591",
   "metadata": {},
   "source": [
    "Negligible Amount Of People required Parking Space."
   ]
  },
  {
   "cell_type": "markdown",
   "id": "0f71c656",
   "metadata": {},
   "source": [
    "### 15. total_of_special_requests Column :-"
   ]
  },
  {
   "cell_type": "code",
   "execution_count": 35,
   "id": "6767c0b7",
   "metadata": {},
   "outputs": [
    {
     "data": {
      "text/plain": [
       "<AxesSubplot:xlabel='total_of_special_requests', ylabel='count'>"
      ]
     },
     "execution_count": 35,
     "metadata": {},
     "output_type": "execute_result"
    },
    {
     "data": {
      "image/png": "[encoded data removed]",
      "text/plain": [
       "<Figure size 640x480 with 1 Axes>"
      ]
     },
     "metadata": {},
     "output_type": "display_data"
    }
   ],
   "source": [
    "sns.countplot(x=hotel[\"total_of_special_requests\"],data=hotel)"
   ]
  },
  {
   "cell_type": "markdown",
   "id": "ac82f475",
   "metadata": {},
   "source": [
    "Large Number Of People Did Not Had Any Special Requests , Almost 35000 People Requested 1 Special-request"
   ]
  },
  {
   "cell_type": "code",
   "execution_count": null,
   "id": "7cd3456f",
   "metadata": {},
   "outputs": [],
   "source": []
  }
 ],
 "metadata": {
  "kernelspec": {
   "display_name": "Python 3 (ipykernel)",
   "language": "python",
   "name": "python3"
  },
  "language_info": {
   "codemirror_mode": {
    "name": "ipython",
    "version": 3
   },
   "file_extension": ".py",
   "mimetype": "text/x-python",
   "name": "python",
   "nbconvert_exporter": "python",
   "pygments_lexer": "ipython3",
   "version": "3.9.15"
  }
 },
 "nbformat": 4,
 "nbformat_minor": 5
}
