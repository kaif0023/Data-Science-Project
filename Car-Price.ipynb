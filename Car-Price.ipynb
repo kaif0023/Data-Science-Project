{
 "cells": [
  {
   "cell_type": "code",
   "execution_count": 187,
   "id": "66f23bb5",
   "metadata": {},
   "outputs": [],
   "source": [
    "import pandas as pd\n",
    "import numpy as np\n",
    "import matplotlib.pyplot as plt\n",
    "import seaborn as sns"
   ]
  },
  {
   "cell_type": "code",
   "execution_count": 188,
   "id": "823b9b08",
   "metadata": {},
   "outputs": [],
   "source": [
    "df=pd.read_csv(\"C:\\\\Users\\\\md kaif\\\\Downloads\\\\cars_engage_2022.csv\")"
   ]
  },
  {
   "cell_type": "code",
   "execution_count": 189,
   "id": "71a39023",
   "metadata": {},
   "outputs": [
    {
     "data": {
      "text/html": [
       "<div>\n",
       "<style scoped>\n",
       "    .dataframe tbody tr th:only-of-type {\n",
       "        vertical-align: middle;\n",
       "    }\n",
       "\n",
       "    .dataframe tbody tr th {\n",
       "        vertical-align: top;\n",
       "    }\n",
       "\n",
       "    .dataframe thead th {\n",
       "        text-align: right;\n",
       "    }\n",
       "</style>\n",
       "<table border=\"1\" class=\"dataframe\">\n",
       "  <thead>\n",
       "    <tr style=\"text-align: right;\">\n",
       "      <th></th>\n",
       "      <th>Unnamed: 0</th>\n",
       "      <th>Make</th>\n",
       "      <th>Model</th>\n",
       "      <th>Variant</th>\n",
       "      <th>Ex-Showroom_Price</th>\n",
       "      <th>Displacement</th>\n",
       "      <th>Cylinders</th>\n",
       "      <th>Valves_Per_Cylinder</th>\n",
       "      <th>Drivetrain</th>\n",
       "      <th>Cylinder_Configuration</th>\n",
       "      <th>...</th>\n",
       "      <th>Leather_Wrapped_Steering</th>\n",
       "      <th>Automatic_Headlamps</th>\n",
       "      <th>Engine_Type</th>\n",
       "      <th>ASR_/_Traction_Control</th>\n",
       "      <th>Cruise_Control</th>\n",
       "      <th>USB_Ports</th>\n",
       "      <th>Heads-Up_Display</th>\n",
       "      <th>Welcome_Lights</th>\n",
       "      <th>Battery</th>\n",
       "      <th>Electric_Range</th>\n",
       "    </tr>\n",
       "  </thead>\n",
       "  <tbody>\n",
       "    <tr>\n",
       "      <th>0</th>\n",
       "      <td>0</td>\n",
       "      <td>Tata</td>\n",
       "      <td>Nano Genx</td>\n",
       "      <td>Xt</td>\n",
       "      <td>Rs. 2,92,667</td>\n",
       "      <td>624 cc</td>\n",
       "      <td>2.0</td>\n",
       "      <td>2.0</td>\n",
       "      <td>RWD (Rear Wheel Drive)</td>\n",
       "      <td>In-line</td>\n",
       "      <td>...</td>\n",
       "      <td>NaN</td>\n",
       "      <td>NaN</td>\n",
       "      <td>NaN</td>\n",
       "      <td>NaN</td>\n",
       "      <td>NaN</td>\n",
       "      <td>NaN</td>\n",
       "      <td>NaN</td>\n",
       "      <td>NaN</td>\n",
       "      <td>NaN</td>\n",
       "      <td>NaN</td>\n",
       "    </tr>\n",
       "    <tr>\n",
       "      <th>1</th>\n",
       "      <td>1</td>\n",
       "      <td>Tata</td>\n",
       "      <td>Nano Genx</td>\n",
       "      <td>Xe</td>\n",
       "      <td>Rs. 2,36,447</td>\n",
       "      <td>624 cc</td>\n",
       "      <td>2.0</td>\n",
       "      <td>2.0</td>\n",
       "      <td>RWD (Rear Wheel Drive)</td>\n",
       "      <td>In-line</td>\n",
       "      <td>...</td>\n",
       "      <td>NaN</td>\n",
       "      <td>NaN</td>\n",
       "      <td>NaN</td>\n",
       "      <td>NaN</td>\n",
       "      <td>NaN</td>\n",
       "      <td>NaN</td>\n",
       "      <td>NaN</td>\n",
       "      <td>NaN</td>\n",
       "      <td>NaN</td>\n",
       "      <td>NaN</td>\n",
       "    </tr>\n",
       "    <tr>\n",
       "      <th>2</th>\n",
       "      <td>2</td>\n",
       "      <td>Tata</td>\n",
       "      <td>Nano Genx</td>\n",
       "      <td>Emax Xm</td>\n",
       "      <td>Rs. 2,96,661</td>\n",
       "      <td>624 cc</td>\n",
       "      <td>2.0</td>\n",
       "      <td>2.0</td>\n",
       "      <td>RWD (Rear Wheel Drive)</td>\n",
       "      <td>In-line</td>\n",
       "      <td>...</td>\n",
       "      <td>NaN</td>\n",
       "      <td>NaN</td>\n",
       "      <td>NaN</td>\n",
       "      <td>NaN</td>\n",
       "      <td>NaN</td>\n",
       "      <td>NaN</td>\n",
       "      <td>NaN</td>\n",
       "      <td>NaN</td>\n",
       "      <td>NaN</td>\n",
       "      <td>NaN</td>\n",
       "    </tr>\n",
       "    <tr>\n",
       "      <th>3</th>\n",
       "      <td>3</td>\n",
       "      <td>Tata</td>\n",
       "      <td>Nano Genx</td>\n",
       "      <td>Xta</td>\n",
       "      <td>Rs. 3,34,768</td>\n",
       "      <td>624 cc</td>\n",
       "      <td>2.0</td>\n",
       "      <td>2.0</td>\n",
       "      <td>RWD (Rear Wheel Drive)</td>\n",
       "      <td>In-line</td>\n",
       "      <td>...</td>\n",
       "      <td>NaN</td>\n",
       "      <td>NaN</td>\n",
       "      <td>NaN</td>\n",
       "      <td>NaN</td>\n",
       "      <td>NaN</td>\n",
       "      <td>NaN</td>\n",
       "      <td>NaN</td>\n",
       "      <td>NaN</td>\n",
       "      <td>NaN</td>\n",
       "      <td>NaN</td>\n",
       "    </tr>\n",
       "    <tr>\n",
       "      <th>4</th>\n",
       "      <td>4</td>\n",
       "      <td>Tata</td>\n",
       "      <td>Nano Genx</td>\n",
       "      <td>Xm</td>\n",
       "      <td>Rs. 2,72,223</td>\n",
       "      <td>624 cc</td>\n",
       "      <td>2.0</td>\n",
       "      <td>2.0</td>\n",
       "      <td>RWD (Rear Wheel Drive)</td>\n",
       "      <td>In-line</td>\n",
       "      <td>...</td>\n",
       "      <td>NaN</td>\n",
       "      <td>NaN</td>\n",
       "      <td>NaN</td>\n",
       "      <td>NaN</td>\n",
       "      <td>NaN</td>\n",
       "      <td>NaN</td>\n",
       "      <td>NaN</td>\n",
       "      <td>NaN</td>\n",
       "      <td>NaN</td>\n",
       "      <td>NaN</td>\n",
       "    </tr>\n",
       "  </tbody>\n",
       "</table>\n",
       "<p>5 rows × 141 columns</p>\n",
       "</div>"
      ],
      "text/plain": [
       "   Unnamed: 0  Make      Model  Variant Ex-Showroom_Price Displacement  \\\n",
       "0           0  Tata  Nano Genx       Xt      Rs. 2,92,667       624 cc   \n",
       "1           1  Tata  Nano Genx       Xe      Rs. 2,36,447       624 cc   \n",
       "2           2  Tata  Nano Genx  Emax Xm      Rs. 2,96,661       624 cc   \n",
       "3           3  Tata  Nano Genx      Xta      Rs. 3,34,768       624 cc   \n",
       "4           4  Tata  Nano Genx       Xm      Rs. 2,72,223       624 cc   \n",
       "\n",
       "   Cylinders  Valves_Per_Cylinder              Drivetrain  \\\n",
       "0        2.0                  2.0  RWD (Rear Wheel Drive)   \n",
       "1        2.0                  2.0  RWD (Rear Wheel Drive)   \n",
       "2        2.0                  2.0  RWD (Rear Wheel Drive)   \n",
       "3        2.0                  2.0  RWD (Rear Wheel Drive)   \n",
       "4        2.0                  2.0  RWD (Rear Wheel Drive)   \n",
       "\n",
       "  Cylinder_Configuration  ... Leather_Wrapped_Steering Automatic_Headlamps  \\\n",
       "0                In-line  ...                      NaN                 NaN   \n",
       "1                In-line  ...                      NaN                 NaN   \n",
       "2                In-line  ...                      NaN                 NaN   \n",
       "3                In-line  ...                      NaN                 NaN   \n",
       "4                In-line  ...                      NaN                 NaN   \n",
       "\n",
       "  Engine_Type ASR_/_Traction_Control Cruise_Control USB_Ports  \\\n",
       "0         NaN                    NaN            NaN       NaN   \n",
       "1         NaN                    NaN            NaN       NaN   \n",
       "2         NaN                    NaN            NaN       NaN   \n",
       "3         NaN                    NaN            NaN       NaN   \n",
       "4         NaN                    NaN            NaN       NaN   \n",
       "\n",
       "  Heads-Up_Display Welcome_Lights Battery  Electric_Range  \n",
       "0              NaN            NaN     NaN             NaN  \n",
       "1              NaN            NaN     NaN             NaN  \n",
       "2              NaN            NaN     NaN             NaN  \n",
       "3              NaN            NaN     NaN             NaN  \n",
       "4              NaN            NaN     NaN             NaN  \n",
       "\n",
       "[5 rows x 141 columns]"
      ]
     },
     "execution_count": 189,
     "metadata": {},
     "output_type": "execute_result"
    }
   ],
   "source": [
    "df.head()"
   ]
  },
  {
   "cell_type": "code",
   "execution_count": 190,
   "id": "a36fb09f",
   "metadata": {},
   "outputs": [],
   "source": [
    "del df[\"Unnamed: 0\"]"
   ]
  },
  {
   "cell_type": "code",
   "execution_count": 191,
   "id": "e6512370",
   "metadata": {},
   "outputs": [
    {
     "data": {
      "text/html": [
       "<div>\n",
       "<style scoped>\n",
       "    .dataframe tbody tr th:only-of-type {\n",
       "        vertical-align: middle;\n",
       "    }\n",
       "\n",
       "    .dataframe tbody tr th {\n",
       "        vertical-align: top;\n",
       "    }\n",
       "\n",
       "    .dataframe thead th {\n",
       "        text-align: right;\n",
       "    }\n",
       "</style>\n",
       "<table border=\"1\" class=\"dataframe\">\n",
       "  <thead>\n",
       "    <tr style=\"text-align: right;\">\n",
       "      <th></th>\n",
       "      <th>Make</th>\n",
       "      <th>Model</th>\n",
       "      <th>Variant</th>\n",
       "      <th>Ex-Showroom_Price</th>\n",
       "      <th>Displacement</th>\n",
       "      <th>Cylinders</th>\n",
       "      <th>Valves_Per_Cylinder</th>\n",
       "      <th>Drivetrain</th>\n",
       "      <th>Cylinder_Configuration</th>\n",
       "      <th>Emission_Norm</th>\n",
       "      <th>...</th>\n",
       "      <th>Leather_Wrapped_Steering</th>\n",
       "      <th>Automatic_Headlamps</th>\n",
       "      <th>Engine_Type</th>\n",
       "      <th>ASR_/_Traction_Control</th>\n",
       "      <th>Cruise_Control</th>\n",
       "      <th>USB_Ports</th>\n",
       "      <th>Heads-Up_Display</th>\n",
       "      <th>Welcome_Lights</th>\n",
       "      <th>Battery</th>\n",
       "      <th>Electric_Range</th>\n",
       "    </tr>\n",
       "  </thead>\n",
       "  <tbody>\n",
       "    <tr>\n",
       "      <th>0</th>\n",
       "      <td>Tata</td>\n",
       "      <td>Nano Genx</td>\n",
       "      <td>Xt</td>\n",
       "      <td>Rs. 2,92,667</td>\n",
       "      <td>624 cc</td>\n",
       "      <td>2.0</td>\n",
       "      <td>2.0</td>\n",
       "      <td>RWD (Rear Wheel Drive)</td>\n",
       "      <td>In-line</td>\n",
       "      <td>BS IV</td>\n",
       "      <td>...</td>\n",
       "      <td>NaN</td>\n",
       "      <td>NaN</td>\n",
       "      <td>NaN</td>\n",
       "      <td>NaN</td>\n",
       "      <td>NaN</td>\n",
       "      <td>NaN</td>\n",
       "      <td>NaN</td>\n",
       "      <td>NaN</td>\n",
       "      <td>NaN</td>\n",
       "      <td>NaN</td>\n",
       "    </tr>\n",
       "    <tr>\n",
       "      <th>1</th>\n",
       "      <td>Tata</td>\n",
       "      <td>Nano Genx</td>\n",
       "      <td>Xe</td>\n",
       "      <td>Rs. 2,36,447</td>\n",
       "      <td>624 cc</td>\n",
       "      <td>2.0</td>\n",
       "      <td>2.0</td>\n",
       "      <td>RWD (Rear Wheel Drive)</td>\n",
       "      <td>In-line</td>\n",
       "      <td>BS IV</td>\n",
       "      <td>...</td>\n",
       "      <td>NaN</td>\n",
       "      <td>NaN</td>\n",
       "      <td>NaN</td>\n",
       "      <td>NaN</td>\n",
       "      <td>NaN</td>\n",
       "      <td>NaN</td>\n",
       "      <td>NaN</td>\n",
       "      <td>NaN</td>\n",
       "      <td>NaN</td>\n",
       "      <td>NaN</td>\n",
       "    </tr>\n",
       "    <tr>\n",
       "      <th>2</th>\n",
       "      <td>Tata</td>\n",
       "      <td>Nano Genx</td>\n",
       "      <td>Emax Xm</td>\n",
       "      <td>Rs. 2,96,661</td>\n",
       "      <td>624 cc</td>\n",
       "      <td>2.0</td>\n",
       "      <td>2.0</td>\n",
       "      <td>RWD (Rear Wheel Drive)</td>\n",
       "      <td>In-line</td>\n",
       "      <td>BS IV</td>\n",
       "      <td>...</td>\n",
       "      <td>NaN</td>\n",
       "      <td>NaN</td>\n",
       "      <td>NaN</td>\n",
       "      <td>NaN</td>\n",
       "      <td>NaN</td>\n",
       "      <td>NaN</td>\n",
       "      <td>NaN</td>\n",
       "      <td>NaN</td>\n",
       "      <td>NaN</td>\n",
       "      <td>NaN</td>\n",
       "    </tr>\n",
       "    <tr>\n",
       "      <th>3</th>\n",
       "      <td>Tata</td>\n",
       "      <td>Nano Genx</td>\n",
       "      <td>Xta</td>\n",
       "      <td>Rs. 3,34,768</td>\n",
       "      <td>624 cc</td>\n",
       "      <td>2.0</td>\n",
       "      <td>2.0</td>\n",
       "      <td>RWD (Rear Wheel Drive)</td>\n",
       "      <td>In-line</td>\n",
       "      <td>BS IV</td>\n",
       "      <td>...</td>\n",
       "      <td>NaN</td>\n",
       "      <td>NaN</td>\n",
       "      <td>NaN</td>\n",
       "      <td>NaN</td>\n",
       "      <td>NaN</td>\n",
       "      <td>NaN</td>\n",
       "      <td>NaN</td>\n",
       "      <td>NaN</td>\n",
       "      <td>NaN</td>\n",
       "      <td>NaN</td>\n",
       "    </tr>\n",
       "    <tr>\n",
       "      <th>4</th>\n",
       "      <td>Tata</td>\n",
       "      <td>Nano Genx</td>\n",
       "      <td>Xm</td>\n",
       "      <td>Rs. 2,72,223</td>\n",
       "      <td>624 cc</td>\n",
       "      <td>2.0</td>\n",
       "      <td>2.0</td>\n",
       "      <td>RWD (Rear Wheel Drive)</td>\n",
       "      <td>In-line</td>\n",
       "      <td>BS IV</td>\n",
       "      <td>...</td>\n",
       "      <td>NaN</td>\n",
       "      <td>NaN</td>\n",
       "      <td>NaN</td>\n",
       "      <td>NaN</td>\n",
       "      <td>NaN</td>\n",
       "      <td>NaN</td>\n",
       "      <td>NaN</td>\n",
       "      <td>NaN</td>\n",
       "      <td>NaN</td>\n",
       "      <td>NaN</td>\n",
       "    </tr>\n",
       "  </tbody>\n",
       "</table>\n",
       "<p>5 rows × 140 columns</p>\n",
       "</div>"
      ],
      "text/plain": [
       "   Make      Model  Variant Ex-Showroom_Price Displacement  Cylinders  \\\n",
       "0  Tata  Nano Genx       Xt      Rs. 2,92,667       624 cc        2.0   \n",
       "1  Tata  Nano Genx       Xe      Rs. 2,36,447       624 cc        2.0   \n",
       "2  Tata  Nano Genx  Emax Xm      Rs. 2,96,661       624 cc        2.0   \n",
       "3  Tata  Nano Genx      Xta      Rs. 3,34,768       624 cc        2.0   \n",
       "4  Tata  Nano Genx       Xm      Rs. 2,72,223       624 cc        2.0   \n",
       "\n",
       "   Valves_Per_Cylinder              Drivetrain Cylinder_Configuration  \\\n",
       "0                  2.0  RWD (Rear Wheel Drive)                In-line   \n",
       "1                  2.0  RWD (Rear Wheel Drive)                In-line   \n",
       "2                  2.0  RWD (Rear Wheel Drive)                In-line   \n",
       "3                  2.0  RWD (Rear Wheel Drive)                In-line   \n",
       "4                  2.0  RWD (Rear Wheel Drive)                In-line   \n",
       "\n",
       "  Emission_Norm  ... Leather_Wrapped_Steering Automatic_Headlamps Engine_Type  \\\n",
       "0         BS IV  ...                      NaN                 NaN         NaN   \n",
       "1         BS IV  ...                      NaN                 NaN         NaN   \n",
       "2         BS IV  ...                      NaN                 NaN         NaN   \n",
       "3         BS IV  ...                      NaN                 NaN         NaN   \n",
       "4         BS IV  ...                      NaN                 NaN         NaN   \n",
       "\n",
       "  ASR_/_Traction_Control Cruise_Control USB_Ports Heads-Up_Display  \\\n",
       "0                    NaN            NaN       NaN              NaN   \n",
       "1                    NaN            NaN       NaN              NaN   \n",
       "2                    NaN            NaN       NaN              NaN   \n",
       "3                    NaN            NaN       NaN              NaN   \n",
       "4                    NaN            NaN       NaN              NaN   \n",
       "\n",
       "  Welcome_Lights  Battery Electric_Range  \n",
       "0            NaN      NaN            NaN  \n",
       "1            NaN      NaN            NaN  \n",
       "2            NaN      NaN            NaN  \n",
       "3            NaN      NaN            NaN  \n",
       "4            NaN      NaN            NaN  \n",
       "\n",
       "[5 rows x 140 columns]"
      ]
     },
     "execution_count": 191,
     "metadata": {},
     "output_type": "execute_result"
    }
   ],
   "source": [
    "df.head()"
   ]
  },
  {
   "cell_type": "code",
   "execution_count": 192,
   "id": "d6d4023f",
   "metadata": {},
   "outputs": [],
   "source": [
    "## Checking Datatypes"
   ]
  },
  {
   "cell_type": "code",
   "execution_count": 193,
   "id": "a405d97a",
   "metadata": {},
   "outputs": [
    {
     "data": {
      "text/plain": [
       "Make                  object\n",
       "Model                 object\n",
       "Variant               object\n",
       "Ex-Showroom_Price     object\n",
       "Displacement          object\n",
       "                      ...   \n",
       "USB_Ports            float64\n",
       "Heads-Up_Display      object\n",
       "Welcome_Lights        object\n",
       "Battery               object\n",
       "Electric_Range        object\n",
       "Length: 140, dtype: object"
      ]
     },
     "execution_count": 193,
     "metadata": {},
     "output_type": "execute_result"
    }
   ],
   "source": [
    "df.dtypes"
   ]
  },
  {
   "cell_type": "code",
   "execution_count": 194,
   "id": "b9a1b724",
   "metadata": {},
   "outputs": [
    {
     "name": "stdout",
     "output_type": "stream",
     "text": [
      "Make ---------- 5.877742946708464\n",
      "Displacement ---------- 0.9404388714733543\n",
      "Cylinders ---------- 5.172413793103448\n",
      "Valves_Per_Cylinder ---------- 7.993730407523511\n",
      "Drivetrain ---------- 0.54858934169279\n",
      "Cylinder_Configuration ---------- 1.0188087774294672\n",
      "Emission_Norm ---------- 0.8620689655172413\n",
      "Engine_Location ---------- 3.3699059561128526\n",
      "Fuel_System ---------- 0.6269592476489029\n",
      "Fuel_Tank_Capacity ---------- 5.407523510971787\n",
      "Height ---------- 0.07836990595611286\n",
      "Width ---------- 0.9404388714733543\n",
      "Body_Type ---------- 0.4702194357366771\n",
      "Doors ---------- 0.31347962382445144\n",
      "City_Mileage ---------- 43.495297805642636\n",
      "Highway_Mileage ---------- 62.69592476489028\n",
      "ARAI_Certified_Mileage ---------- 8.934169278996865\n",
      "ARAI_Certified_Mileage_for_CNG ---------- 97.88401253918495\n",
      "Kerb_Weight ---------- 28.605015673981192\n",
      "Gears ---------- 8.22884012539185\n",
      "Ground_Clearance ---------- 22.648902821316614\n",
      "Front_Brakes ---------- 1.9592476489028212\n",
      "Rear_Brakes ---------- 1.9592476489028212\n",
      "Front_Suspension ---------- 4.623824451410658\n",
      "Rear_Suspension ---------- 3.605015673981191\n",
      "Front_Track ---------- 52.27272727272727\n",
      "Rear_Track ---------- 52.97805642633229\n",
      "Front_Tyre_&_Rim ---------- 3.8401253918495297\n",
      "Rear_Tyre_&_Rim ---------- 3.761755485893417\n",
      "Power_Steering ---------- 4.467084639498433\n",
      "Power_Windows ---------- 7.601880877742946\n",
      "Power_Seats ---------- 69.98432601880877\n",
      "Keyless_Entry ---------- 21.473354231974923\n",
      "Torque ---------- 0.15673981191222572\n",
      "Odometer ---------- 3.3699059561128526\n",
      "Speedometer ---------- 3.5266457680250785\n",
      "Tachometer ---------- 1.0188087774294672\n",
      "Tripmeter ---------- 4.702194357366771\n",
      "Seating_Capacity ---------- 0.4702194357366771\n",
      "Seats_Material ---------- 0.9404388714733543\n",
      "Type ---------- 0.07836990595611286\n",
      "Wheelbase ---------- 1.567398119122257\n",
      "Wheels_Size ---------- 4.38871473354232\n",
      "Start_/_Stop_Button ---------- 53.13479623824451\n",
      "12v_Power_Outlet ---------- 12.068965517241379\n",
      "Audiosystem ---------- 3.4482758620689653\n",
      "Aux-in_Compatibility ---------- 22.25705329153605\n",
      "Average_Fuel_Consumption ---------- 27.037617554858933\n",
      "Basic_Warranty ---------- 34.48275862068966\n",
      "Bluetooth ---------- 22.884012539184955\n",
      "Boot-lid_Opener ---------- 1.09717868338558\n",
      "Boot_Space ---------- 19.5141065830721\n",
      "CD_/_MP3_/_DVD_Player ---------- 24.21630094043887\n",
      "Central_Locking ---------- 11.677115987460816\n",
      "Child_Safety_Locks ---------- 5.877742946708464\n",
      "Clock ---------- 10.501567398119123\n",
      "Cup_Holders ---------- 3.2131661442006267\n",
      "Distance_to_Empty ---------- 19.043887147335422\n",
      "Door_Pockets ---------- 9.169278996865204\n",
      "Engine_Malfunction_Light ---------- 9.169278996865204\n",
      "Extended_Warranty ---------- 51.80250783699059\n",
      "FM_Radio ---------- 19.5141065830721\n",
      "Fuel-lid_Opener ---------- 1.09717868338558\n",
      "Fuel_Gauge ---------- 3.0564263322884013\n",
      "Handbrake ---------- 4.467084639498433\n",
      "Instrument_Console ---------- 1.09717868338558\n",
      "Low_Fuel_Warning ---------- 2.8213166144200628\n",
      "Minimum_Turning_Radius ---------- 29.858934169278996\n",
      "Multifunction_Display ---------- 6.974921630094044\n",
      "Sun_Visor ---------- 4.858934169278997\n",
      "Third_Row_AC_Vents ---------- 28.683385579937305\n",
      "Ventilation_System ---------- 2.74294670846395\n",
      "Auto-Dimming_Rear-View_Mirror ---------- 48.58934169278997\n",
      "Hill_Assist ---------- 62.38244514106583\n",
      "Gear_Indicator ---------- 39.106583072100314\n",
      "3_Point_Seat-Belt_in_Middle_Rear_Seat ---------- 96.00313479623824\n",
      "Ambient_Lightning ---------- 95.61128526645768\n",
      "Cargo/Boot_Lights ---------- 90.51724137931035\n",
      "Drive_Modes ---------- 84.71786833855799\n",
      "Engine_Immobilizer ---------- 4.702194357366771\n",
      "High_Speed_Alert_System ---------- 83.69905956112852\n",
      "Lane_Watch_Camera/_Side_Mirror_Camera ---------- 94.82758620689656\n",
      "Passenger_Side_Seat-Belt_Reminder ---------- 86.5987460815047\n",
      "Seat_Back_Pockets ---------- 34.71786833855799\n",
      "Voice_Recognition ---------- 89.65517241379311\n",
      "Walk_Away_Auto_Car_Lock ---------- 91.92789968652038\n",
      "ABS_(Anti-lock_Braking_System) ---------- 10.344827586206897\n",
      "Headlight_Reminder ---------- 20.219435736677116\n",
      "Adjustable_Headrests ---------- 19.592476489028215\n",
      "Gross_Vehicle_Weight ---------- 46.63009404388715\n",
      "Airbags ---------- 10.344827586206897\n",
      "Door_Ajar_Warning ---------- 11.206896551724139\n",
      "EBD_(Electronic_Brake-force_Distribution) ---------- 15.752351097178684\n",
      "Fasten_Seat_Belt_Warning ---------- 14.890282131661442\n",
      "Gear_Shift_Reminder ---------- 42.55485893416928\n",
      "Number_of_Airbags ---------- 10.579937304075235\n",
      "Compression_Ratio ---------- 71.86520376175548\n",
      "Adjustable_Steering_Column ---------- 14.968652037617554\n",
      "Other_Specs ---------- 99.21630094043887\n",
      "Other_specs ---------- 95.0626959247649\n",
      "Parking_Assistance ---------- 22.727272727272727\n",
      "Key_Off_Reminder ---------- 26.645768025078368\n",
      "USB_Compatibility ---------- 20.92476489028213\n",
      "Android_Auto ---------- 86.44200626959248\n",
      "Apple_CarPlay ---------- 86.44200626959248\n",
      "Cigarette_Lighter ---------- 53.44827586206897\n",
      "Infotainment_Screen ---------- 36.206896551724135\n",
      "Multifunction_Steering_Wheel ---------- 27.50783699059561\n",
      "Average_Speed ---------- 40.125391849529784\n",
      "EBA_(Electronic_Brake_Assist) ---------- 54.075235109717866\n",
      "Seat_Height_Adjustment ---------- 25.54858934169279\n",
      "Navigation_System ---------- 46.47335423197492\n",
      "Second_Row_AC_Vents ---------- 47.17868338557994\n",
      "Tyre_Pressure_Monitoring_System ---------- 73.35423197492163\n",
      "Rear_Center_Armrest ---------- 43.808777429467085\n",
      "iPod_Compatibility ---------- 51.959247648902824\n",
      "ESP_(Electronic_Stability_Program) ---------- 61.05015673981191\n",
      "Cooled_Glove_Box ---------- 50.54858934169279\n",
      "Recommended_Tyre_Pressure ---------- 99.21630094043887\n",
      "Heated_Seats ---------- 79.15360501567397\n",
      "Turbocharger ---------- 48.43260188087774\n",
      "ISOFIX_(Child-Seat_Mount) ---------- 52.19435736677116\n",
      "Rain_Sensing_Wipers ---------- 62.539184952978054\n",
      "Paddle_Shifters ---------- 76.17554858934169\n",
      "Leather_Wrapped_Steering ---------- 53.99686520376176\n",
      "Automatic_Headlamps ---------- 60.658307210031346\n",
      "Engine_Type ---------- 97.33542319749216\n",
      "ASR_/_Traction_Control ---------- 65.36050156739812\n",
      "Cruise_Control ---------- 56.974921630094045\n",
      "USB_Ports ---------- 97.72727272727273\n",
      "Heads-Up_Display ---------- 96.00313479623824\n",
      "Welcome_Lights ---------- 94.59247648902821\n",
      "Battery ---------- 98.98119122257053\n",
      "Electric_Range ---------- 98.66771159874608\n"
     ]
    }
   ],
   "source": [
    "for i in df.columns:\n",
    "    if df[i].isnull().sum()>0:\n",
    "        print(i,\"----------\",df[i].isnull().sum()*100/df.shape[0])"
   ]
  },
  {
   "cell_type": "code",
   "execution_count": null,
   "id": "69f214bf",
   "metadata": {},
   "outputs": [],
   "source": []
  },
  {
   "cell_type": "code",
   "execution_count": null,
   "id": "e41784c4",
   "metadata": {},
   "outputs": [],
   "source": [
    "\n"
   ]
  },
  {
   "cell_type": "code",
   "execution_count": null,
   "id": "682c3052",
   "metadata": {},
   "outputs": [],
   "source": [
    "\n"
   ]
  },
  {
   "cell_type": "code",
   "execution_count": 195,
   "id": "62ceaa75",
   "metadata": {},
   "outputs": [],
   "source": [
    "## Segregate The Numric And Object -Dtypes"
   ]
  },
  {
   "cell_type": "code",
   "execution_count": 196,
   "id": "2d8e04d2",
   "metadata": {},
   "outputs": [],
   "source": [
    "numeric=[\"int32\",\"float64\"]\n",
    "df_numeric=df.select_dtypes(include=numeric)"
   ]
  },
  {
   "cell_type": "code",
   "execution_count": 197,
   "id": "986f551f",
   "metadata": {},
   "outputs": [],
   "source": [
    "for i in df_numeric:\n",
    "    if df_numeric[i].isnull().sum()>0:\n",
    "        df_numeric[i]=df_numeric[i].fillna(df_numeric[i].median())"
   ]
  },
  {
   "cell_type": "code",
   "execution_count": 198,
   "id": "b95c50ab",
   "metadata": {},
   "outputs": [
    {
     "data": {
      "text/plain": [
       "Cylinders              0\n",
       "Valves_Per_Cylinder    0\n",
       "Doors                  0\n",
       "Seating_Capacity       0\n",
       "Number_of_Airbags      0\n",
       "USB_Ports              0\n",
       "dtype: int64"
      ]
     },
     "execution_count": 198,
     "metadata": {},
     "output_type": "execute_result"
    }
   ],
   "source": [
    "df_numeric.isnull().sum()"
   ]
  },
  {
   "cell_type": "code",
   "execution_count": 199,
   "id": "031483cc",
   "metadata": {},
   "outputs": [],
   "source": [
    "## Missing Values Have Been Filled In THe Numeric Columns"
   ]
  },
  {
   "cell_type": "code",
   "execution_count": 200,
   "id": "19645006",
   "metadata": {},
   "outputs": [
    {
     "data": {
      "text/plain": [
       "float"
      ]
     },
     "execution_count": 200,
     "metadata": {},
     "output_type": "execute_result"
    }
   ],
   "source": [
    "type(np.nan)"
   ]
  },
  {
   "cell_type": "code",
   "execution_count": 201,
   "id": "4f02de7a",
   "metadata": {},
   "outputs": [],
   "source": [
    "## Moving Onto The Object Columns Of Our Data"
   ]
  },
  {
   "cell_type": "code",
   "execution_count": 202,
   "id": "9ade83e4",
   "metadata": {},
   "outputs": [],
   "source": [
    "df_object=df.select_dtypes(include=\"object\")"
   ]
  },
  {
   "cell_type": "code",
   "execution_count": 203,
   "id": "ad766ee1",
   "metadata": {},
   "outputs": [],
   "source": [
    "#"
   ]
  },
  {
   "cell_type": "code",
   "execution_count": 204,
   "id": "70ea529a",
   "metadata": {},
   "outputs": [
    {
     "data": {
      "text/plain": [
       "Make                   75\n",
       "Model                   0\n",
       "Variant                 0\n",
       "Ex-Showroom_Price       0\n",
       "Displacement           12\n",
       "                     ... \n",
       "Cruise_Control        727\n",
       "Heads-Up_Display     1225\n",
       "Welcome_Lights       1207\n",
       "Battery              1263\n",
       "Electric_Range       1259\n",
       "Length: 134, dtype: int64"
      ]
     },
     "execution_count": 204,
     "metadata": {},
     "output_type": "execute_result"
    }
   ],
   "source": [
    "df_object.isnull().sum()"
   ]
  },
  {
   "cell_type": "code",
   "execution_count": 205,
   "id": "c4544a88",
   "metadata": {},
   "outputs": [
    {
     "data": {
      "text/plain": [
       "45"
      ]
     },
     "execution_count": 205,
     "metadata": {},
     "output_type": "execute_result"
    }
   ],
   "source": [
    "df_obj_list = ['Make', 'Model', 'Variant', 'Ex-Showroom_Price', 'Displacement', 'Drivetrain', 'Emission_Norm','Keyless_Entry',\n",
    "       'Power', 'Torque', 'Odometer', 'Speedometer', 'Tachometer', 'Tripmeter','Fuel_Type', 'ARAI_Certified_Mileage','Front_Suspension', 'Rear_Suspension','Ground_Clearance','Boot_Space',\n",
    " 'Audiosystem','Third_Row_AC_Vents', 'Ventilation_System','Auto-Dimming_Rear-View_Mirror', 'Hill_Assist', 'Gear_Indicator','ABS_(Anti-lock_Braking_System)','EBD_(Electronic_Brake-force_Distribution)',\n",
    " 'Gear_Shift_Reminder','Adjustable_Steering_Column', 'Parking_Assistance', 'Key_Off_Reminder','USB_Compatibility',\n",
    " 'EBA_(Electronic_Brake_Assist)', 'Seat_Height_Adjustment','Navigation_System', 'Second_Row_AC_Vents', 'Rear_Center_Armrest','ESP_(Electronic_Stability_Program)','Cooled_Glove_Box', 'Turbocharger',\n",
    "  'Rain_Sensing_Wipers','Automatic_Headlamps', 'ASR_/_Traction_Control', 'Cruise_Control']\n",
    "len(df_obj_list)\n"
   ]
  },
  {
   "cell_type": "code",
   "execution_count": 206,
   "id": "ca40885b",
   "metadata": {},
   "outputs": [],
   "source": [
    "df_obj=df_object.loc[:,df_obj_list]"
   ]
  },
  {
   "cell_type": "code",
   "execution_count": 207,
   "id": "68f03ba0",
   "metadata": {},
   "outputs": [
    {
     "data": {
      "text/html": [
       "<div>\n",
       "<style scoped>\n",
       "    .dataframe tbody tr th:only-of-type {\n",
       "        vertical-align: middle;\n",
       "    }\n",
       "\n",
       "    .dataframe tbody tr th {\n",
       "        vertical-align: top;\n",
       "    }\n",
       "\n",
       "    .dataframe thead th {\n",
       "        text-align: right;\n",
       "    }\n",
       "</style>\n",
       "<table border=\"1\" class=\"dataframe\">\n",
       "  <thead>\n",
       "    <tr style=\"text-align: right;\">\n",
       "      <th></th>\n",
       "      <th>Make</th>\n",
       "      <th>Model</th>\n",
       "      <th>Variant</th>\n",
       "      <th>Ex-Showroom_Price</th>\n",
       "      <th>Displacement</th>\n",
       "      <th>Drivetrain</th>\n",
       "      <th>Emission_Norm</th>\n",
       "      <th>Keyless_Entry</th>\n",
       "      <th>Power</th>\n",
       "      <th>Torque</th>\n",
       "      <th>...</th>\n",
       "      <th>Navigation_System</th>\n",
       "      <th>Second_Row_AC_Vents</th>\n",
       "      <th>Rear_Center_Armrest</th>\n",
       "      <th>ESP_(Electronic_Stability_Program)</th>\n",
       "      <th>Cooled_Glove_Box</th>\n",
       "      <th>Turbocharger</th>\n",
       "      <th>Rain_Sensing_Wipers</th>\n",
       "      <th>Automatic_Headlamps</th>\n",
       "      <th>ASR_/_Traction_Control</th>\n",
       "      <th>Cruise_Control</th>\n",
       "    </tr>\n",
       "  </thead>\n",
       "  <tbody>\n",
       "    <tr>\n",
       "      <th>0</th>\n",
       "      <td>Tata</td>\n",
       "      <td>Nano Genx</td>\n",
       "      <td>Xt</td>\n",
       "      <td>Rs. 2,92,667</td>\n",
       "      <td>624 cc</td>\n",
       "      <td>RWD (Rear Wheel Drive)</td>\n",
       "      <td>BS IV</td>\n",
       "      <td>Remote</td>\n",
       "      <td>38PS@5500rpm</td>\n",
       "      <td>51Nm@4000rpm</td>\n",
       "      <td>...</td>\n",
       "      <td>NaN</td>\n",
       "      <td>NaN</td>\n",
       "      <td>NaN</td>\n",
       "      <td>NaN</td>\n",
       "      <td>NaN</td>\n",
       "      <td>NaN</td>\n",
       "      <td>NaN</td>\n",
       "      <td>NaN</td>\n",
       "      <td>NaN</td>\n",
       "      <td>NaN</td>\n",
       "    </tr>\n",
       "    <tr>\n",
       "      <th>1</th>\n",
       "      <td>Tata</td>\n",
       "      <td>Nano Genx</td>\n",
       "      <td>Xe</td>\n",
       "      <td>Rs. 2,36,447</td>\n",
       "      <td>624 cc</td>\n",
       "      <td>RWD (Rear Wheel Drive)</td>\n",
       "      <td>BS IV</td>\n",
       "      <td>NaN</td>\n",
       "      <td>38PS@5500rpm</td>\n",
       "      <td>51Nm@4000rpm</td>\n",
       "      <td>...</td>\n",
       "      <td>NaN</td>\n",
       "      <td>NaN</td>\n",
       "      <td>NaN</td>\n",
       "      <td>NaN</td>\n",
       "      <td>NaN</td>\n",
       "      <td>NaN</td>\n",
       "      <td>NaN</td>\n",
       "      <td>NaN</td>\n",
       "      <td>NaN</td>\n",
       "      <td>NaN</td>\n",
       "    </tr>\n",
       "    <tr>\n",
       "      <th>2</th>\n",
       "      <td>Tata</td>\n",
       "      <td>Nano Genx</td>\n",
       "      <td>Emax Xm</td>\n",
       "      <td>Rs. 2,96,661</td>\n",
       "      <td>624 cc</td>\n",
       "      <td>RWD (Rear Wheel Drive)</td>\n",
       "      <td>BS IV</td>\n",
       "      <td>NaN</td>\n",
       "      <td>38PS@5500rpm</td>\n",
       "      <td>51Nm@4000rpm</td>\n",
       "      <td>...</td>\n",
       "      <td>NaN</td>\n",
       "      <td>NaN</td>\n",
       "      <td>NaN</td>\n",
       "      <td>NaN</td>\n",
       "      <td>NaN</td>\n",
       "      <td>NaN</td>\n",
       "      <td>NaN</td>\n",
       "      <td>NaN</td>\n",
       "      <td>NaN</td>\n",
       "      <td>NaN</td>\n",
       "    </tr>\n",
       "    <tr>\n",
       "      <th>3</th>\n",
       "      <td>Tata</td>\n",
       "      <td>Nano Genx</td>\n",
       "      <td>Xta</td>\n",
       "      <td>Rs. 3,34,768</td>\n",
       "      <td>624 cc</td>\n",
       "      <td>RWD (Rear Wheel Drive)</td>\n",
       "      <td>BS IV</td>\n",
       "      <td>Remote</td>\n",
       "      <td>38PS@5500rpm</td>\n",
       "      <td>51Nm@4000rpm</td>\n",
       "      <td>...</td>\n",
       "      <td>NaN</td>\n",
       "      <td>NaN</td>\n",
       "      <td>NaN</td>\n",
       "      <td>NaN</td>\n",
       "      <td>NaN</td>\n",
       "      <td>NaN</td>\n",
       "      <td>NaN</td>\n",
       "      <td>NaN</td>\n",
       "      <td>NaN</td>\n",
       "      <td>NaN</td>\n",
       "    </tr>\n",
       "    <tr>\n",
       "      <th>4</th>\n",
       "      <td>Tata</td>\n",
       "      <td>Nano Genx</td>\n",
       "      <td>Xm</td>\n",
       "      <td>Rs. 2,72,223</td>\n",
       "      <td>624 cc</td>\n",
       "      <td>RWD (Rear Wheel Drive)</td>\n",
       "      <td>BS IV</td>\n",
       "      <td>NaN</td>\n",
       "      <td>38PS@5500rpm</td>\n",
       "      <td>51Nm@4000rpm</td>\n",
       "      <td>...</td>\n",
       "      <td>NaN</td>\n",
       "      <td>NaN</td>\n",
       "      <td>NaN</td>\n",
       "      <td>NaN</td>\n",
       "      <td>NaN</td>\n",
       "      <td>NaN</td>\n",
       "      <td>NaN</td>\n",
       "      <td>NaN</td>\n",
       "      <td>NaN</td>\n",
       "      <td>NaN</td>\n",
       "    </tr>\n",
       "    <tr>\n",
       "      <th>...</th>\n",
       "      <td>...</td>\n",
       "      <td>...</td>\n",
       "      <td>...</td>\n",
       "      <td>...</td>\n",
       "      <td>...</td>\n",
       "      <td>...</td>\n",
       "      <td>...</td>\n",
       "      <td>...</td>\n",
       "      <td>...</td>\n",
       "      <td>...</td>\n",
       "      <td>...</td>\n",
       "      <td>...</td>\n",
       "      <td>...</td>\n",
       "      <td>...</td>\n",
       "      <td>...</td>\n",
       "      <td>...</td>\n",
       "      <td>...</td>\n",
       "      <td>...</td>\n",
       "      <td>...</td>\n",
       "      <td>...</td>\n",
       "      <td>...</td>\n",
       "    </tr>\n",
       "    <tr>\n",
       "      <th>1271</th>\n",
       "      <td>Honda</td>\n",
       "      <td>City</td>\n",
       "      <td>Vx Mt Diesel</td>\n",
       "      <td>Rs. 13,02,000</td>\n",
       "      <td>1498 cc</td>\n",
       "      <td>FWD (Front Wheel Drive)</td>\n",
       "      <td>BS IV</td>\n",
       "      <td>Smart Key</td>\n",
       "      <td>100PS@3600rpm</td>\n",
       "      <td>200Nm@1750rpm</td>\n",
       "      <td>...</td>\n",
       "      <td>Yes</td>\n",
       "      <td>Yes</td>\n",
       "      <td>Cup Holders</td>\n",
       "      <td>NaN</td>\n",
       "      <td>NaN</td>\n",
       "      <td>Yes</td>\n",
       "      <td>NaN</td>\n",
       "      <td>NaN</td>\n",
       "      <td>NaN</td>\n",
       "      <td>Yes</td>\n",
       "    </tr>\n",
       "    <tr>\n",
       "      <th>1272</th>\n",
       "      <td>Honda</td>\n",
       "      <td>City</td>\n",
       "      <td>Zx Mt Diesel</td>\n",
       "      <td>Rs. 14,21,000</td>\n",
       "      <td>1498 cc</td>\n",
       "      <td>FWD (Front Wheel Drive)</td>\n",
       "      <td>BS IV</td>\n",
       "      <td>Smart Key</td>\n",
       "      <td>100PS@3600rpm</td>\n",
       "      <td>200Nm@1750rpm</td>\n",
       "      <td>...</td>\n",
       "      <td>Yes</td>\n",
       "      <td>Yes</td>\n",
       "      <td>Cup Holders</td>\n",
       "      <td>NaN</td>\n",
       "      <td>Yes</td>\n",
       "      <td>Yes</td>\n",
       "      <td>Yes</td>\n",
       "      <td>Yes</td>\n",
       "      <td>NaN</td>\n",
       "      <td>Yes</td>\n",
       "    </tr>\n",
       "    <tr>\n",
       "      <th>1273</th>\n",
       "      <td>Honda</td>\n",
       "      <td>City</td>\n",
       "      <td>Zx Cvt Petrol</td>\n",
       "      <td>Rs. 14,31,000</td>\n",
       "      <td>1497 cc</td>\n",
       "      <td>FWD (Front Wheel Drive)</td>\n",
       "      <td>BS 6</td>\n",
       "      <td>Smart Key</td>\n",
       "      <td>119PS@6600rpm</td>\n",
       "      <td>145Nm@4600rpm</td>\n",
       "      <td>...</td>\n",
       "      <td>Yes</td>\n",
       "      <td>Yes</td>\n",
       "      <td>Cup Holders</td>\n",
       "      <td>NaN</td>\n",
       "      <td>NaN</td>\n",
       "      <td>NaN</td>\n",
       "      <td>NaN</td>\n",
       "      <td>Yes</td>\n",
       "      <td>NaN</td>\n",
       "      <td>Yes</td>\n",
       "    </tr>\n",
       "    <tr>\n",
       "      <th>1274</th>\n",
       "      <td>Honda</td>\n",
       "      <td>City</td>\n",
       "      <td>V Cvt Petrol</td>\n",
       "      <td>Rs. 12,01,000</td>\n",
       "      <td>1497 cc</td>\n",
       "      <td>FWD (Front Wheel Drive)</td>\n",
       "      <td>BS 6</td>\n",
       "      <td>Remote</td>\n",
       "      <td>119PS@6600rpm</td>\n",
       "      <td>145Nm@4600rpm</td>\n",
       "      <td>...</td>\n",
       "      <td>Yes</td>\n",
       "      <td>Yes</td>\n",
       "      <td>Cup Holders</td>\n",
       "      <td>NaN</td>\n",
       "      <td>NaN</td>\n",
       "      <td>NaN</td>\n",
       "      <td>NaN</td>\n",
       "      <td>NaN</td>\n",
       "      <td>NaN</td>\n",
       "      <td>Yes</td>\n",
       "    </tr>\n",
       "    <tr>\n",
       "      <th>1275</th>\n",
       "      <td>Mitsubishi</td>\n",
       "      <td>Montero</td>\n",
       "      <td>3.2 At</td>\n",
       "      <td>Rs. 68,62,560</td>\n",
       "      <td>3200 cc</td>\n",
       "      <td>AWD (All Wheel Drive)</td>\n",
       "      <td>BS IV</td>\n",
       "      <td>Yes</td>\n",
       "      <td>202ps@3800rpm</td>\n",
       "      <td>441Nm@2000rpm</td>\n",
       "      <td>...</td>\n",
       "      <td>Yes</td>\n",
       "      <td>Yes</td>\n",
       "      <td>Cup Holders</td>\n",
       "      <td>Yes</td>\n",
       "      <td>Yes</td>\n",
       "      <td>Yes</td>\n",
       "      <td>Yes</td>\n",
       "      <td>NaN</td>\n",
       "      <td>Yes</td>\n",
       "      <td>Yes</td>\n",
       "    </tr>\n",
       "  </tbody>\n",
       "</table>\n",
       "<p>1276 rows × 45 columns</p>\n",
       "</div>"
      ],
      "text/plain": [
       "            Make      Model        Variant Ex-Showroom_Price Displacement  \\\n",
       "0           Tata  Nano Genx             Xt      Rs. 2,92,667       624 cc   \n",
       "1           Tata  Nano Genx             Xe      Rs. 2,36,447       624 cc   \n",
       "2           Tata  Nano Genx        Emax Xm      Rs. 2,96,661       624 cc   \n",
       "3           Tata  Nano Genx            Xta      Rs. 3,34,768       624 cc   \n",
       "4           Tata  Nano Genx             Xm      Rs. 2,72,223       624 cc   \n",
       "...          ...        ...            ...               ...          ...   \n",
       "1271       Honda       City   Vx Mt Diesel     Rs. 13,02,000      1498 cc   \n",
       "1272       Honda       City   Zx Mt Diesel     Rs. 14,21,000      1498 cc   \n",
       "1273       Honda       City  Zx Cvt Petrol     Rs. 14,31,000      1497 cc   \n",
       "1274       Honda       City   V Cvt Petrol     Rs. 12,01,000      1497 cc   \n",
       "1275  Mitsubishi    Montero         3.2 At     Rs. 68,62,560      3200 cc   \n",
       "\n",
       "                   Drivetrain Emission_Norm Keyless_Entry          Power  \\\n",
       "0      RWD (Rear Wheel Drive)         BS IV        Remote   38PS@5500rpm   \n",
       "1      RWD (Rear Wheel Drive)         BS IV           NaN   38PS@5500rpm   \n",
       "2      RWD (Rear Wheel Drive)         BS IV           NaN   38PS@5500rpm   \n",
       "3      RWD (Rear Wheel Drive)         BS IV        Remote   38PS@5500rpm   \n",
       "4      RWD (Rear Wheel Drive)         BS IV           NaN   38PS@5500rpm   \n",
       "...                       ...           ...           ...            ...   \n",
       "1271  FWD (Front Wheel Drive)         BS IV     Smart Key  100PS@3600rpm   \n",
       "1272  FWD (Front Wheel Drive)         BS IV     Smart Key  100PS@3600rpm   \n",
       "1273  FWD (Front Wheel Drive)          BS 6     Smart Key  119PS@6600rpm   \n",
       "1274  FWD (Front Wheel Drive)          BS 6        Remote  119PS@6600rpm   \n",
       "1275    AWD (All Wheel Drive)         BS IV           Yes  202ps@3800rpm   \n",
       "\n",
       "             Torque  ... Navigation_System Second_Row_AC_Vents  \\\n",
       "0      51Nm@4000rpm  ...               NaN                 NaN   \n",
       "1      51Nm@4000rpm  ...               NaN                 NaN   \n",
       "2      51Nm@4000rpm  ...               NaN                 NaN   \n",
       "3      51Nm@4000rpm  ...               NaN                 NaN   \n",
       "4      51Nm@4000rpm  ...               NaN                 NaN   \n",
       "...             ...  ...               ...                 ...   \n",
       "1271  200Nm@1750rpm  ...               Yes                 Yes   \n",
       "1272  200Nm@1750rpm  ...               Yes                 Yes   \n",
       "1273  145Nm@4600rpm  ...               Yes                 Yes   \n",
       "1274  145Nm@4600rpm  ...               Yes                 Yes   \n",
       "1275  441Nm@2000rpm  ...               Yes                 Yes   \n",
       "\n",
       "     Rear_Center_Armrest ESP_(Electronic_Stability_Program) Cooled_Glove_Box  \\\n",
       "0                    NaN                                NaN              NaN   \n",
       "1                    NaN                                NaN              NaN   \n",
       "2                    NaN                                NaN              NaN   \n",
       "3                    NaN                                NaN              NaN   \n",
       "4                    NaN                                NaN              NaN   \n",
       "...                  ...                                ...              ...   \n",
       "1271         Cup Holders                                NaN              NaN   \n",
       "1272         Cup Holders                                NaN              Yes   \n",
       "1273         Cup Holders                                NaN              NaN   \n",
       "1274         Cup Holders                                NaN              NaN   \n",
       "1275         Cup Holders                                Yes              Yes   \n",
       "\n",
       "     Turbocharger Rain_Sensing_Wipers Automatic_Headlamps  \\\n",
       "0             NaN                 NaN                 NaN   \n",
       "1             NaN                 NaN                 NaN   \n",
       "2             NaN                 NaN                 NaN   \n",
       "3             NaN                 NaN                 NaN   \n",
       "4             NaN                 NaN                 NaN   \n",
       "...           ...                 ...                 ...   \n",
       "1271          Yes                 NaN                 NaN   \n",
       "1272          Yes                 Yes                 Yes   \n",
       "1273          NaN                 NaN                 Yes   \n",
       "1274          NaN                 NaN                 NaN   \n",
       "1275          Yes                 Yes                 NaN   \n",
       "\n",
       "     ASR_/_Traction_Control Cruise_Control  \n",
       "0                       NaN            NaN  \n",
       "1                       NaN            NaN  \n",
       "2                       NaN            NaN  \n",
       "3                       NaN            NaN  \n",
       "4                       NaN            NaN  \n",
       "...                     ...            ...  \n",
       "1271                    NaN            Yes  \n",
       "1272                    NaN            Yes  \n",
       "1273                    NaN            Yes  \n",
       "1274                    NaN            Yes  \n",
       "1275                    Yes            Yes  \n",
       "\n",
       "[1276 rows x 45 columns]"
      ]
     },
     "execution_count": 207,
     "metadata": {},
     "output_type": "execute_result"
    }
   ],
   "source": [
    "df_obj"
   ]
  },
  {
   "cell_type": "code",
   "execution_count": 208,
   "id": "aa9e2cc6",
   "metadata": {},
   "outputs": [
    {
     "data": {
      "text/plain": [
       "13568"
      ]
     },
     "execution_count": 208,
     "metadata": {},
     "output_type": "execute_result"
    }
   ],
   "source": [
    "df_obj.isnull().sum().sum()"
   ]
  },
  {
   "cell_type": "code",
   "execution_count": 209,
   "id": "87d33537",
   "metadata": {},
   "outputs": [
    {
     "data": {
      "text/plain": [
       "array(['Tata', 'Datsun', 'Renault', 'Maruti Suzuki', 'Hyundai', 'Premier',\n",
       "       'Toyota', 'Nissan', 'Volkswagen', 'Ford', 'Mahindra', 'Fiat',\n",
       "       'Honda', 'Jeep', 'Isuzu', 'Skoda', 'Audi', nan, 'Dc', 'Mini',\n",
       "       'Volvo', 'Jaguar', 'Bmw', 'Land Rover', 'Porsche', 'Lexus',\n",
       "       'Maserati', 'Lamborghini', 'Bentley', 'Ferrari', 'Aston Martin',\n",
       "       'Bugatti', 'Bajaj', 'Icml', 'Force', 'Mg', 'Kia',\n",
       "       'Land Rover Rover', 'Mitsubishi', 'Maruti Suzuki R'], dtype=object)"
      ]
     },
     "execution_count": 209,
     "metadata": {},
     "output_type": "execute_result"
    }
   ],
   "source": [
    "df_obj[\"Make\"].unique()"
   ]
  },
  {
   "cell_type": "code",
   "execution_count": 210,
   "id": "4da51e5b",
   "metadata": {},
   "outputs": [],
   "source": [
    "df_obj[\"Make\"]=df_obj[\"Make\"].replace(\"Maruti Suzuki R\",\"Maruti Suzuki\")\n",
    "df_obj[\"Make\"]=df_obj[\"Make\"].replace(\"Land Rover Rover\",\"Land Rover\")"
   ]
  },
  {
   "cell_type": "code",
   "execution_count": 211,
   "id": "756ffa49",
   "metadata": {},
   "outputs": [
    {
     "data": {
      "text/plain": [
       "array(['Tata', 'Datsun', 'Renault', 'Maruti Suzuki', 'Hyundai', 'Premier',\n",
       "       'Toyota', 'Nissan', 'Volkswagen', 'Ford', 'Mahindra', 'Fiat',\n",
       "       'Honda', 'Jeep', 'Isuzu', 'Skoda', 'Audi', nan, 'Dc', 'Mini',\n",
       "       'Volvo', 'Jaguar', 'Bmw', 'Land Rover', 'Porsche', 'Lexus',\n",
       "       'Maserati', 'Lamborghini', 'Bentley', 'Ferrari', 'Aston Martin',\n",
       "       'Bugatti', 'Bajaj', 'Icml', 'Force', 'Mg', 'Kia', 'Mitsubishi'],\n",
       "      dtype=object)"
      ]
     },
     "execution_count": 211,
     "metadata": {},
     "output_type": "execute_result"
    }
   ],
   "source": [
    "df_obj[\"Make\"].unique()"
   ]
  },
  {
   "cell_type": "code",
   "execution_count": 212,
   "id": "52fe7cb2",
   "metadata": {},
   "outputs": [
    {
     "data": {
      "text/plain": [
       "array(['Nano Genx', 'Redi-Go', 'Kwid', 'Eeco', 'Alto K10', 'Go',\n",
       "       'Celerio Tour', 'Santro', 'Tiago', 'Celerio X', 'Ignis', 'Triber',\n",
       "       'Rio', 'Etios Liva', 'Micra Active', 'Bolt', 'Xcent Prime',\n",
       "       'Dzire Tour', 'Elite I20', 'Aura', 'Polo', 'Dzire', 'Freestyle',\n",
       "       'Ameo', 'Aspire', 'Platinum Etios', 'Etios Cross', 'Verito Vibe',\n",
       "       'Urban Cross', 'Glanza', 'Avventura', 'Jazz', 'Compass Trailhawk',\n",
       "       'Mu-X', 'Alturas G4', 'Tiguan', 'Cr-V', 'Superb Sportline', 'A3',\n",
       "       'Mercedes-Benz B-Class', 'Mercedes-Benz Cla-Class', 'Kodiaq',\n",
       "       'Avanti', 'Q3', 'Cooper 5 Door', 'Convertible', 'Xc40', 'Clubman',\n",
       "       'A4', 'John Cooper Works', 'Xe', 'Xf', 'A3 Cabriolet', 'A6', 'X3',\n",
       "       'Discovery Sport', 'S90', 'S5', 'X5', 'Mustang', 'Grand Cherokee',\n",
       "       'Mercedes-Benz E-Class Cabriolet', 'M2 Competition', '718',\n",
       "       'Mercedes-Benz Gls', 'Land Cruiser Prado', 'Rx 450H', 'Rs5',\n",
       "       '7-Series', 'Q8', 'Mercedes-Benz S-Class', 'Levante',\n",
       "       'Mercedes-Benz G-Class', 'A8 L', 'Granturismo', 'Quattroporte',\n",
       "       'Lc 500H', 'Mercedes-Benz Maybach', 'Panamera', 'Lx 450D',\n",
       "       'Mercedes-Benz S-Class Cabriolet', 'R8', 'Urus', 'Continental Gt',\n",
       "       'Portofino', 'Bentayga', 'Db 11', '458 Speciale',\n",
       "       'Rolls-Royce Ghost Series Ii', 'Rolls-Royce Wraith', 'Mulsanne',\n",
       "       'Rolls-Royce Cullinan', 'Rolls-Royce Phantom Coupe', 'Chiron',\n",
       "       'Qute (Re60)', 'Alto', 'S-Presso', 'Celerio', 'Grand I10 Prime',\n",
       "       'Kuv100 Nxt', 'Swift', 'Altroz', 'Extreme', 'Tigor', 'Zest',\n",
       "       'Amaze', 'Gypsy', 'Venue', 'Nexon', 'Linea', 'Bolero Power Plus',\n",
       "       'Vitara Brezza', 'I20 Active', 'Ecosport', 'Duster', 'Verna',\n",
       "       'Xuv300', 'Lodgy', 'Vento', 'E2O Plus', 'Tigor Ev', 'Brv', 'Thar',\n",
       "       'Gurkha', 'Xl6', 'Abarth Avventura', 'Tuv300 Plus', 'Marazzo',\n",
       "       'Scorpio', 'Monte Carlo', 'Xuv500', 'E Verito', 'Hexa',\n",
       "       'Innova Crysta', 'Compass', 'Corolla Altis', 'Civic', 'Zs Ev',\n",
       "       'Carnival', 'Superb', 'V40', 'Fortuner', 'Endeavour',\n",
       "       'Cooper 3 Door', 'Kodiaq Scout', 'X1', 'S60', '3-Series',\n",
       "       'S60 Cross Country', 'Q5', 'Range Evoque', 'Mercedes-Benz E-Class',\n",
       "       'Xc60', 'X4', 'Wrangler', 'Mercedes-Benz C-Class Cabriolet',\n",
       "       'Z4 Roadster', 'Mercedes-Benz V-Class', 'Q7',\n",
       "       'Range Evoque Convertible', 'Range Velar',\n",
       "       'Mercedes-Benz E-Class All Terrain', 'Xc90', 'Range Sport', 'Xj',\n",
       "       'Cayenne', 'Ghibli', 'Land Cruiser', 'Rs7', 'Range', 'Grancabrio',\n",
       "       'Mercedes-Benz Amg-Gt', 'Mercedes-Benz Amg Gt 4-Door Coupe',\n",
       "       'Huracan', '488 Gtb', 'Gtc4 Lusso', 'Aventador',\n",
       "       'Rolls-Royce Dawn', 'Rolls-Royce Drophead Coupe', 'Omni', 'Go+',\n",
       "       'Punto Evo Pure', 'Figo', 'Baleno', 'Grand I10', 'Linea Classic',\n",
       "       'Sunny', 'Ertiga', 'Baleno Rs', 'Wr-V', 'Tuv300', 'S-Cross',\n",
       "       'Captur', 'Xylo', 'Seltos', 'Terrano', 'Safari Storme', 'Hector',\n",
       "       'Nexon Ev', 'Elantra', 'Tucson', 'Passat', 'Mercedes-Benz A-Class',\n",
       "       'V40 Cross Country', 'Countryman', 'Mercedes-Benz C-Class',\n",
       "       'Prius', 'Es', 'Nx 300H', 'F-Pace', 'V90 Cross Country',\n",
       "       'A5 Cabriolet', 'Mercedes-Benz Gle', 'Mercedes-Benz Cls', 'X7',\n",
       "       'M4', '911', 'Gtr', 'Vantage', 'Rapide', '812 Superfast',\n",
       "       'Alto 800 Tour', 'Grand I10 Nios', 'Xcent', 'Micra', 'Bolero',\n",
       "       'Ciaz', 'Rapid', 'Abarth Punto', 'Creta', 'Harrier',\n",
       "       'Dmax V-Cross', 'Outlander', 'Mercedes-Benz Gla-Class',\n",
       "       'Accord Hybrid', '5-Series', '6-Series', 'Macan', 'F-Type', 'M5',\n",
       "       'Lx 570', '458 Spider', 'Wagon', 'Tiago Nrg', 'Nuvosport', 'Kicks',\n",
       "       'Winger', 'Kona Electric', 'Camry', 'A5', 'Discovery', 'Ls 500H',\n",
       "       'Rolls-Royce Phantom', 'Punto Evo', 'Yaris', 'Octavia',\n",
       "       'Mercedes-Benz Glc', 'Cayenne Coupe', 'Verito', 'Pajero Sport',\n",
       "       'Flying Spur', 'City', 'Montero'], dtype=object)"
      ]
     },
     "execution_count": 212,
     "metadata": {},
     "output_type": "execute_result"
    }
   ],
   "source": [
    "df_obj[\"Model\"].unique()"
   ]
  },
  {
   "cell_type": "code",
   "execution_count": 213,
   "id": "3b7cca96",
   "metadata": {},
   "outputs": [],
   "source": [
    "df_obj[\"Model\"]=df_obj[\"Model\"].replace(\"Range\",\"Range Rover\")\n",
    "df_obj[\"Model\"]=df_obj[\"Model\"].replace(\"Wagon\",\"Wagon R\")"
   ]
  },
  {
   "cell_type": "code",
   "execution_count": 214,
   "id": "880ad7be",
   "metadata": {},
   "outputs": [
    {
     "data": {
      "text/plain": [
       "array(['Nano Genx', 'Redi-Go', 'Kwid', 'Eeco', 'Alto K10', 'Go',\n",
       "       'Celerio Tour', 'Santro', 'Tiago', 'Celerio X', 'Ignis', 'Triber',\n",
       "       'Rio', 'Etios Liva', 'Micra Active', 'Bolt', 'Xcent Prime',\n",
       "       'Dzire Tour', 'Elite I20', 'Aura', 'Polo', 'Dzire', 'Freestyle',\n",
       "       'Ameo', 'Aspire', 'Platinum Etios', 'Etios Cross', 'Verito Vibe',\n",
       "       'Urban Cross', 'Glanza', 'Avventura', 'Jazz', 'Compass Trailhawk',\n",
       "       'Mu-X', 'Alturas G4', 'Tiguan', 'Cr-V', 'Superb Sportline', 'A3',\n",
       "       'Mercedes-Benz B-Class', 'Mercedes-Benz Cla-Class', 'Kodiaq',\n",
       "       'Avanti', 'Q3', 'Cooper 5 Door', 'Convertible', 'Xc40', 'Clubman',\n",
       "       'A4', 'John Cooper Works', 'Xe', 'Xf', 'A3 Cabriolet', 'A6', 'X3',\n",
       "       'Discovery Sport', 'S90', 'S5', 'X5', 'Mustang', 'Grand Cherokee',\n",
       "       'Mercedes-Benz E-Class Cabriolet', 'M2 Competition', '718',\n",
       "       'Mercedes-Benz Gls', 'Land Cruiser Prado', 'Rx 450H', 'Rs5',\n",
       "       '7-Series', 'Q8', 'Mercedes-Benz S-Class', 'Levante',\n",
       "       'Mercedes-Benz G-Class', 'A8 L', 'Granturismo', 'Quattroporte',\n",
       "       'Lc 500H', 'Mercedes-Benz Maybach', 'Panamera', 'Lx 450D',\n",
       "       'Mercedes-Benz S-Class Cabriolet', 'R8', 'Urus', 'Continental Gt',\n",
       "       'Portofino', 'Bentayga', 'Db 11', '458 Speciale',\n",
       "       'Rolls-Royce Ghost Series Ii', 'Rolls-Royce Wraith', 'Mulsanne',\n",
       "       'Rolls-Royce Cullinan', 'Rolls-Royce Phantom Coupe', 'Chiron',\n",
       "       'Qute (Re60)', 'Alto', 'S-Presso', 'Celerio', 'Grand I10 Prime',\n",
       "       'Kuv100 Nxt', 'Swift', 'Altroz', 'Extreme', 'Tigor', 'Zest',\n",
       "       'Amaze', 'Gypsy', 'Venue', 'Nexon', 'Linea', 'Bolero Power Plus',\n",
       "       'Vitara Brezza', 'I20 Active', 'Ecosport', 'Duster', 'Verna',\n",
       "       'Xuv300', 'Lodgy', 'Vento', 'E2O Plus', 'Tigor Ev', 'Brv', 'Thar',\n",
       "       'Gurkha', 'Xl6', 'Abarth Avventura', 'Tuv300 Plus', 'Marazzo',\n",
       "       'Scorpio', 'Monte Carlo', 'Xuv500', 'E Verito', 'Hexa',\n",
       "       'Innova Crysta', 'Compass', 'Corolla Altis', 'Civic', 'Zs Ev',\n",
       "       'Carnival', 'Superb', 'V40', 'Fortuner', 'Endeavour',\n",
       "       'Cooper 3 Door', 'Kodiaq Scout', 'X1', 'S60', '3-Series',\n",
       "       'S60 Cross Country', 'Q5', 'Range Evoque', 'Mercedes-Benz E-Class',\n",
       "       'Xc60', 'X4', 'Wrangler', 'Mercedes-Benz C-Class Cabriolet',\n",
       "       'Z4 Roadster', 'Mercedes-Benz V-Class', 'Q7',\n",
       "       'Range Evoque Convertible', 'Range Velar',\n",
       "       'Mercedes-Benz E-Class All Terrain', 'Xc90', 'Range Sport', 'Xj',\n",
       "       'Cayenne', 'Ghibli', 'Land Cruiser', 'Rs7', 'Range Rover',\n",
       "       'Grancabrio', 'Mercedes-Benz Amg-Gt',\n",
       "       'Mercedes-Benz Amg Gt 4-Door Coupe', 'Huracan', '488 Gtb',\n",
       "       'Gtc4 Lusso', 'Aventador', 'Rolls-Royce Dawn',\n",
       "       'Rolls-Royce Drophead Coupe', 'Omni', 'Go+', 'Punto Evo Pure',\n",
       "       'Figo', 'Baleno', 'Grand I10', 'Linea Classic', 'Sunny', 'Ertiga',\n",
       "       'Baleno Rs', 'Wr-V', 'Tuv300', 'S-Cross', 'Captur', 'Xylo',\n",
       "       'Seltos', 'Terrano', 'Safari Storme', 'Hector', 'Nexon Ev',\n",
       "       'Elantra', 'Tucson', 'Passat', 'Mercedes-Benz A-Class',\n",
       "       'V40 Cross Country', 'Countryman', 'Mercedes-Benz C-Class',\n",
       "       'Prius', 'Es', 'Nx 300H', 'F-Pace', 'V90 Cross Country',\n",
       "       'A5 Cabriolet', 'Mercedes-Benz Gle', 'Mercedes-Benz Cls', 'X7',\n",
       "       'M4', '911', 'Gtr', 'Vantage', 'Rapide', '812 Superfast',\n",
       "       'Alto 800 Tour', 'Grand I10 Nios', 'Xcent', 'Micra', 'Bolero',\n",
       "       'Ciaz', 'Rapid', 'Abarth Punto', 'Creta', 'Harrier',\n",
       "       'Dmax V-Cross', 'Outlander', 'Mercedes-Benz Gla-Class',\n",
       "       'Accord Hybrid', '5-Series', '6-Series', 'Macan', 'F-Type', 'M5',\n",
       "       'Lx 570', '458 Spider', 'Wagon R', 'Tiago Nrg', 'Nuvosport',\n",
       "       'Kicks', 'Winger', 'Kona Electric', 'Camry', 'A5', 'Discovery',\n",
       "       'Ls 500H', 'Rolls-Royce Phantom', 'Punto Evo', 'Yaris', 'Octavia',\n",
       "       'Mercedes-Benz Glc', 'Cayenne Coupe', 'Verito', 'Pajero Sport',\n",
       "       'Flying Spur', 'City', 'Montero'], dtype=object)"
      ]
     },
     "execution_count": 214,
     "metadata": {},
     "output_type": "execute_result"
    }
   ],
   "source": [
    "df_obj[\"Model\"].unique()"
   ]
  },
  {
   "cell_type": "code",
   "execution_count": 215,
   "id": "f4538780",
   "metadata": {},
   "outputs": [],
   "source": [
    "nulli=df_obj[df_obj[\"Make\"].isnull()][[\"Make\",\"Model\"]]\n"
   ]
  },
  {
   "cell_type": "code",
   "execution_count": 216,
   "id": "c4fe4dfa",
   "metadata": {},
   "outputs": [],
   "source": [
    "#df_obj[\"Make\"]=null.combine_first(df_obj[\"Make\"])"
   ]
  },
  {
   "cell_type": "code",
   "execution_count": 217,
   "id": "92459827",
   "metadata": {},
   "outputs": [
    {
     "data": {
      "text/plain": [
       "Index(['Make', 'Model', 'Variant', 'Ex-Showroom_Price', 'Displacement',\n",
       "       'Drivetrain', 'Emission_Norm', 'Keyless_Entry', 'Power', 'Torque',\n",
       "       'Odometer', 'Speedometer', 'Tachometer', 'Tripmeter', 'Fuel_Type',\n",
       "       'ARAI_Certified_Mileage', 'Front_Suspension', 'Rear_Suspension',\n",
       "       'Ground_Clearance', 'Boot_Space', 'Audiosystem', 'Third_Row_AC_Vents',\n",
       "       'Ventilation_System', 'Auto-Dimming_Rear-View_Mirror', 'Hill_Assist',\n",
       "       'Gear_Indicator', 'ABS_(Anti-lock_Braking_System)',\n",
       "       'EBD_(Electronic_Brake-force_Distribution)', 'Gear_Shift_Reminder',\n",
       "       'Adjustable_Steering_Column', 'Parking_Assistance', 'Key_Off_Reminder',\n",
       "       'USB_Compatibility', 'EBA_(Electronic_Brake_Assist)',\n",
       "       'Seat_Height_Adjustment', 'Navigation_System', 'Second_Row_AC_Vents',\n",
       "       'Rear_Center_Armrest', 'ESP_(Electronic_Stability_Program)',\n",
       "       'Cooled_Glove_Box', 'Turbocharger', 'Rain_Sensing_Wipers',\n",
       "       'Automatic_Headlamps', 'ASR_/_Traction_Control', 'Cruise_Control'],\n",
       "      dtype='object')"
      ]
     },
     "execution_count": 217,
     "metadata": {},
     "output_type": "execute_result"
    }
   ],
   "source": [
    "df_obj.columns"
   ]
  },
  {
   "cell_type": "code",
   "execution_count": 218,
   "id": "ff9c8f73",
   "metadata": {},
   "outputs": [
    {
     "name": "stderr",
     "output_type": "stream",
     "text": [
      "C:\\Users\\md kaif\\AppData\\Local\\Temp\\ipykernel_5312\\3087651668.py:1: FutureWarning: The default value of regex will change from True to False in a future version.\n",
      "  df_obj[\"Ex-Showroom_Price\"]=df_obj[\"Ex-Showroom_Price\"].str.replace(\"Rs. \",\"\").str.replace(\",\",\"\")\n"
     ]
    }
   ],
   "source": [
    "df_obj[\"Ex-Showroom_Price\"]=df_obj[\"Ex-Showroom_Price\"].str.replace(\"Rs. \",\"\").str.replace(\",\",\"\")"
   ]
  },
  {
   "cell_type": "code",
   "execution_count": 219,
   "id": "34c018e4",
   "metadata": {},
   "outputs": [
    {
     "data": {
      "text/plain": [
       "array(['292667', '236447', '296661', ..., '1431000', '1201000', '6862560'],\n",
       "      dtype=object)"
      ]
     },
     "execution_count": 219,
     "metadata": {},
     "output_type": "execute_result"
    }
   ],
   "source": [
    "df_obj[\"Ex-Showroom_Price\"].unique()"
   ]
  },
  {
   "cell_type": "code",
   "execution_count": 220,
   "id": "b33a8df1",
   "metadata": {},
   "outputs": [
    {
     "data": {
      "text/plain": [
       "array(['51Nm@4000rpm', '72Nm@4386rpm', '91Nm@4250RPM', '101Nm@3000rpm',\n",
       "       '85Nm@3000rpm', '90Nm@3500rpm', '78Nm@3500rpm', '104Nm@4000rpm',\n",
       "       '99.04nm@4500RPM', '10.1kgm@4500RPM', '8.3KGM@4500rpm',\n",
       "       '114NM@3300rpm', '113Nm@4200RPM', '96Nm@3500rpm',\n",
       "       '103.9Nm@3500-4250rpm', '152Nm@2500RPM', '152Nm@2250RPM',\n",
       "       '183Nm@1800-2400rpm', '104Nm@3100rpm', '170Nm@1800-2400rpm',\n",
       "       '190Nm@1750-3000rpm', '140Nm@1500-4000rpm', '114Nm@6000rpm',\n",
       "       '190Nm@2000rpm', '115Nm@4000rpm', '220Nm@1500rpm', '114Nm@4000rpm',\n",
       "       '220Nm@1500-2750rpm', '95Nm@4000rpm', '172Nm@1500-4000rpm',\n",
       "       '190NM@1750-2250RPM', '95Nm@3000-4300rpm', '230Nm@1500-2500rpm',\n",
       "       '175Nm@1500-4100rpm', '250Nm@1500-2500rpm', '215Nm@1750-3000RPM',\n",
       "       '120Nm@4250rpm', '132Nm@3000rpm', '160Nm@2000rpm', '209Nm@2000rpm',\n",
       "       '210Nm@2000-4000RPM', '113Nm@4400 rpm', '113Nm@4200 rpm',\n",
       "       '110Nm@4800rpm', '200Nm@1750rpm', '110 Nm@4800rpm',\n",
       "       '350Nm@1750-2500rpm', '380Nm@1800-2800rpm', '420Nm@1600-2600rpm',\n",
       "       '420Nm @1600-2600', '340Nm@1750-2750rpm', '189NM@4300rpm',\n",
       "       '300NM@2000rpm', '250NM@1250-5000rpm', '350Nm@1500-3500rpm',\n",
       "       '320Nm@1750-3000rpm', '200Nm@1250-4000rpm', '300Nm@1600-3000rpm',\n",
       "       '300Nm@1200-4000rpm', '340Nm@1500-3500rpm', '340NM@2750-5000rpm',\n",
       "       '380Nm@1750-2500rpm', '250Nm@1750-2500rpm', '270Nm@1750-2250rpm',\n",
       "       '280NM@1250-4600rpm', '400Nm', '300Nm@1750rpm', '280NM@1250rpm',\n",
       "       '250Nm@1500-3500', '320 Nm@1450-4800rpm', '365Nm@1500-4000rpm',\n",
       "       '430NM@1750-2500rpm', '340Nm@1750-2000RPM', '430Nm@1750-2000rpm',\n",
       "       '250 Nm @ 1250 RPM', '370Nm@1600-4500rpm', '400Nm@1750-2500rpm',\n",
       "       '350 Nm @ 1450 rpm', '430NM@1750rpm', '400NM@1750rpm',\n",
       "       '500Nm@1370-4500rpm', '620Nm@1500-2500rpm', '450Nm@1500-5200rpm',\n",
       "       '515Nm@4250-4300RPM', '570Nm@2000rpm', '624 Nm @ 4100 rpm',\n",
       "       '347Nm@4300rpm', '480Nm@1600-4000RPM', '550Nm@2350-5230rpm',\n",
       "       '380Nm@1950-4500RPM', '619Nm@1600-2400RPM', '760Nm@5250RPM',\n",
       "       '480Nm@5250rpm', '410Nm@1600-2800rpm', '335Nm@4600rpm',\n",
       "       '600Nm@1900-5000rpm', '620Nm@2000-2500RPM', '450Nm@1380-5000RPM',\n",
       "       '850Nm@1550-5000RPM', '500Nm@1370rpm', '620Nm@1600-2400rpm',\n",
       "       '900Nm@2750-4500rpm', '600Nm@2000-2600rpm', '500Nm@4500-5000rpm',\n",
       "       '580Nm@4500-5000rpm', '850Nm@2500-3500rpm', '600Nm@2500rpm',\n",
       "       '520NM@4750rpm', '350Nm@5100rpm', '1000Nm@2300-4300rpm',\n",
       "       '700Nm@1800-3500RPM', '770Nm@1960 - 4500rpm', '650Nm@1600-2600rpm',\n",
       "       '560Nm@6500rpm', '850Nm@2250-4500rpm', '720Nm@1800rpm',\n",
       "       '755NM@4750rpm', '900Nm@1350rpm', '770Nm@1350rpm', '700Nm@1500rpm',\n",
       "       '540Nm@6000rpm', '780Nm@1700rpm', '780 Nm @ 1500-5000 rpm',\n",
       "       '800Nm@1500-5500rpm', '1020Nm@1750rpm', '850 Nm@1600rpm',\n",
       "       '720Nm@3500rpm', '1600Nm@2000-6000rpm', '1479bhp@6700rpm',\n",
       "       '18.9Nm@4000rpm', '16.1Nm@4000rpm', '69Nm@3500rpm',\n",
       "       '16.3Nm@1500-2750RPM', '115NM@3500-3600RPM', '113Nm@3300rpm',\n",
       "       '200Nm@1250-3000rpm', '240Nm@2000-2500RPM', '270Nm@2500RPM',\n",
       "       '140Nm@1750-3000rpm', '200NM@1750-3000rpm', '160Nm@1750rpm',\n",
       "       '103Nm@4500RPM', '112.7Nm@4000rpm', '172Nm@4000rpm',\n",
       "       '1712Nm@1500-4000rpm', '22.4', '170Nm@1500-2750rpm',\n",
       "       '260Nm@1500-2750rpm', '207Nm@4500rpm', '207Nm@2200rpm',\n",
       "       '195Nm@1400-2200rpm', nan, '195Nm@1440-2200RPM', '150Nm@4500rpm',\n",
       "       '205Nm@1750-3250rpm', '142Nm@4000rpm', '245Nm@1750rpm',\n",
       "       '151Nm@4850rpm', '260Nm@1500-3000rpm', '155Nm@4850rpm',\n",
       "       '133Nm@4000rpm', '200Nm@2000rpm', '300Nm@1500rpm', '200Nm@1900rpm',\n",
       "       '153Nm@3800rpm', '70Nm@1000rpm', '105Nm@2500RPM', '145Nm@4600rpm',\n",
       "       '247Nm@1800-2000rpm', '230Nm@1400-2400rpm', '321 Nm @ 1600 rpm',\n",
       "       '138Nm@4400rpm', '280Nm@1800-2800rpm', '300Nm@1750-2500rpm',\n",
       "       '200Nm@1400-2200rpm', '320Nm@1500-2800rpm', '153Nm@3750-3800rpm',\n",
       "       '320Nm@2000 - 3000rpm', '330Nm@1750-2800rpm', '360Nm@1750-2800rpm',\n",
       "       '91Nm@3000rpm', '400Nm@1700-2700rpm', '320Nm@1700-2700rpm',\n",
       "       '343Nm@1400-2800rpm', '245Nm@4000rpm', '245Nm@1200-3400RPM',\n",
       "       '245 Nm @ 4000 rpm', '360Nm@1200-3400rpm', '250Nm@2500-4000rpm',\n",
       "       '173Nm@4000rpm', '205Nm@1800-2800rpm', '174Nm@4300rpm',\n",
       "       '300Nm@2000', '353Nm@5000rpm', '440Nm@1750-2750rpm',\n",
       "       '320Nm@1450-3900rpm', '350Nm@1500-2750rpm', '450Nm@1600-2400rpm',\n",
       "       '420Nm@1600-2400rpm', '470Nm@1750-2500rpm', '385Nm@1600-2500rpm',\n",
       "       '340 Nm @ 1750 rpm', '280Nm@1350-4600rpm', '470Nm@2100-4800rpm',\n",
       "       '400 Nm @ 1750 RPM', '400NM@1550rpm', '420Nm@1500-3000rpm',\n",
       "       '370 Nm @ 1600-4500 rpm', '365Nm@1500-4500rpm', '620Nm@1600rpm',\n",
       "       '720Nm@1750-5250RPM', '480Nm@1750rpm', '350Nm@1450rpm',\n",
       "       '400Nm@4300rpm', '370Nm@1800-4000rpm', '320hp@1450-2000rpm',\n",
       "       '500@1600-4500rpm', '380Nm@1400-2400rpm', '380Nm@2400rpm',\n",
       "       '600Nm@1500-3000rpm', '340NM@1500rpm', '365Nm@1500rpm',\n",
       "       '400Nm@1600-2800RPM', '470Nm@1740RPM', '640Nm@2200rpm', '240Nm',\n",
       "       '480 Nm @ 1750 rpm', '700Nm@3500-4000rpm', '400Nm@1500-4000rpm',\n",
       "       '450Nm@3500-5000RPM', '625Nm@2500-5500rpm',\n",
       "       '600Nm @ 1750-2250 rpm', '740Nm@2250rpm', '600Nm@3500rpm',\n",
       "       '689Nm@1800rpm', '450Nm@5300RPM', '770Nm@4500RPM',\n",
       "       '450Nm@1340 - 5300rpm', '570Nm@2000-2600rpm', '600Nm@2000rpm',\n",
       "       '700Nm@1750-5500rpm', '700Nm@3500-5000rpm', '600Nm@1750-2250rpm',\n",
       "       '740Nm@1750-2250rpm', '510Nm@4750rpm', '650Nm@1750-4750rpm',\n",
       "       '700Nm@1900-5500rpm', '630Nm@1700-5000rpm', '700Nm@1900 rpm',\n",
       "       '540Nm@6500rpm', '600Nm@6500rpm', '540 Nm @ 6500 rpm',\n",
       "       '760NM@3000rpm', '697Nm@5250RPM', '690Nm@5500rpm', '690Nm@5506RPM',\n",
       "       '780Nm@1500-5000RPM', '59Nm@2500rpm', '96Nm@2500RPM',\n",
       "       '197 Nm @ 1750 RPM', '115 Nm@4000rpm', '197Nm@1750RPM',\n",
       "       '115Nm@4500RPM', '134Nm@4000rpm', '130Nm@4400rpm', '180Nm@4400rpm',\n",
       "       '225Nm@1750rpm', '150Nm@1700-4500RPM', '240Nm@1600-2800rpm',\n",
       "       '240Nm@1500-2250rpm', '240Nm@1750rpm', '218Nm@1400-2600rpm',\n",
       "       '280Nm@2400-2800rpm', '144Nm@4500 rpm', '250Nm@1500-2750rpm',\n",
       "       '242Nm@1500-3200rpm', '248Nm@2250rpm', '145Nm@3750rpm', '250NM',\n",
       "       '350NM', '245Nm', '196Nm@4000rpm', '192NM@4000rpm',\n",
       "       '240Nm@1600-500rpm', '280Nm@1350rpm', '400Nm@1600rpm',\n",
       "       '500Nm@1600rpm', '700Nm@1750RPM', '280Nm@1600rpm', '142Nm@3600rpm',\n",
       "       '221Nm@3600-5200rpm', '210Nm@4200-4400rpm', '369Nm@1300-4000rpm',\n",
       "       '480Nm@1740RPM', '400Nm @1750-3000rpm', '700Nm@1200-3200rpm',\n",
       "       '500Nm@1600-2400RPM', '450 Nm @ 1500 rpm', '620 Nm @ 1500 rpm',\n",
       "       '550Nm@1850-5500rpm', '530Nm@5000rpm', '637Nm@3200rpm',\n",
       "       '685Nm@2000-5000rpm', '630Nm@5500rpm', '718 Nm @ 7000 rpm',\n",
       "       '180Nm@1750rpm', '104Nm@4400rpm', '225Nm@1500-2250rpm',\n",
       "       '212Nm@2000-4000rpm', '260Nm@1900-2750rpm', '320NM@1800-2800RPM',\n",
       "       '350Nm@1800-2800rpm', '222Nm@4100RPM', '300Nm@1200-1400rpm',\n",
       "       '450Nm@2250-5000rpm', '350Nm@1400-3400rpm', '475Nm@2250-5000rpm',\n",
       "       '175Nm@4000rpm', '560Nm@1500-3000rpm', '350Nm@1450-4800rpm',\n",
       "       '480Nm@1360rpm', '370Nm@1600rpm', '680Nm@2500RPM', '700Nm@3500rpm',\n",
       "       '400 Nm @ 1500 rpm', '750Nm@1800-5860rpm', '546Nm@1600-2600rpm',\n",
       "       '1130Nm@4200rpm', '114NM@3500rpm', '140Nm@1800-3000rpm',\n",
       "       '190Nm@1250-3500rpm', '395 Nm', '140Nm@4200rpm',\n",
       "       '250Nm@1500-3500rpm', '320Nm@1650-4000rpm', '450Nm@1340-5300',\n",
       "       '770Nm@2000-4500', '400Nm@2000rpm', '350Nm@1800-3500rpm',\n",
       "       '400Nm@2000-2500rpm', '660NM@1700rpm', '800Nm@1600-6100rpm',\n",
       "       '441Nm@2000rpm'], dtype=object)"
      ]
     },
     "execution_count": 220,
     "metadata": {},
     "output_type": "execute_result"
    }
   ],
   "source": [
    "df_obj[\"Torque\"].unique()"
   ]
  },
  {
   "cell_type": "code",
   "execution_count": 221,
   "id": "0405c00d",
   "metadata": {},
   "outputs": [],
   "source": [
    "#dispacement power torque arai ceritified mileage boot space mileage "
   ]
  },
  {
   "cell_type": "code",
   "execution_count": 222,
   "id": "639a86c6",
   "metadata": {},
   "outputs": [],
   "source": [
    "for i in df_obj.columns:\n",
    "    if df_obj[i].isnull().sum()>0:\n",
    "        if \"Yes\" in df_obj[i].unique():\n",
    "            df_obj[i].fillna(\"not-defined\",inplace=True)\n",
    "        elif i in [\"Torque\",\"ARAI_Certified_Mileage\",\"Boot_Space\",\"Ground_Clearance\",\"Displacement\"]:\n",
    "            df_obj[i].fillna(\"undefined\",inplace=True)\n",
    "        else:\n",
    "            df_obj[i].fillna(df_obj[i].mode()[0],inplace=True)\n"
   ]
  },
  {
   "cell_type": "code",
   "execution_count": 223,
   "id": "3dcd0c1b",
   "metadata": {},
   "outputs": [
    {
     "data": {
      "text/plain": [
       "0"
      ]
     },
     "execution_count": 223,
     "metadata": {},
     "output_type": "execute_result"
    }
   ],
   "source": [
    "df_obj.isnull().sum().sum()"
   ]
  },
  {
   "cell_type": "code",
   "execution_count": 224,
   "id": "486e874d",
   "metadata": {},
   "outputs": [],
   "source": [
    "df_obj.rename(columns={\"Ex-Showroom_Price\":\"Price\"},inplace=True)"
   ]
  },
  {
   "cell_type": "code",
   "execution_count": 225,
   "id": "294f5e90",
   "metadata": {},
   "outputs": [
    {
     "data": {
      "text/plain": [
       "Index(['Make', 'Model', 'Variant', 'Price', 'Displacement', 'Drivetrain',\n",
       "       'Emission_Norm', 'Keyless_Entry', 'Power', 'Torque', 'Odometer',\n",
       "       'Speedometer', 'Tachometer', 'Tripmeter', 'Fuel_Type',\n",
       "       'ARAI_Certified_Mileage', 'Front_Suspension', 'Rear_Suspension',\n",
       "       'Ground_Clearance', 'Boot_Space', 'Audiosystem', 'Third_Row_AC_Vents',\n",
       "       'Ventilation_System', 'Auto-Dimming_Rear-View_Mirror', 'Hill_Assist',\n",
       "       'Gear_Indicator', 'ABS_(Anti-lock_Braking_System)',\n",
       "       'EBD_(Electronic_Brake-force_Distribution)', 'Gear_Shift_Reminder',\n",
       "       'Adjustable_Steering_Column', 'Parking_Assistance', 'Key_Off_Reminder',\n",
       "       'USB_Compatibility', 'EBA_(Electronic_Brake_Assist)',\n",
       "       'Seat_Height_Adjustment', 'Navigation_System', 'Second_Row_AC_Vents',\n",
       "       'Rear_Center_Armrest', 'ESP_(Electronic_Stability_Program)',\n",
       "       'Cooled_Glove_Box', 'Turbocharger', 'Rain_Sensing_Wipers',\n",
       "       'Automatic_Headlamps', 'ASR_/_Traction_Control', 'Cruise_Control'],\n",
       "      dtype='object')"
      ]
     },
     "execution_count": 225,
     "metadata": {},
     "output_type": "execute_result"
    }
   ],
   "source": [
    "df_obj.columns"
   ]
  },
  {
   "cell_type": "code",
   "execution_count": 226,
   "id": "fe3c9db2",
   "metadata": {},
   "outputs": [
    {
     "data": {
      "text/plain": [
       "Make                                         0\n",
       "Model                                        0\n",
       "Variant                                      0\n",
       "Price                                        0\n",
       "Displacement                                 0\n",
       "Drivetrain                                   0\n",
       "Emission_Norm                                0\n",
       "Keyless_Entry                                0\n",
       "Power                                        0\n",
       "Torque                                       0\n",
       "Odometer                                     0\n",
       "Speedometer                                  0\n",
       "Tachometer                                   0\n",
       "Tripmeter                                    0\n",
       "Fuel_Type                                    0\n",
       "ARAI_Certified_Mileage                       0\n",
       "Front_Suspension                             0\n",
       "Rear_Suspension                              0\n",
       "Ground_Clearance                             0\n",
       "Boot_Space                                   0\n",
       "Audiosystem                                  0\n",
       "Third_Row_AC_Vents                           0\n",
       "Ventilation_System                           0\n",
       "Auto-Dimming_Rear-View_Mirror                0\n",
       "Hill_Assist                                  0\n",
       "Gear_Indicator                               0\n",
       "ABS_(Anti-lock_Braking_System)               0\n",
       "EBD_(Electronic_Brake-force_Distribution)    0\n",
       "Gear_Shift_Reminder                          0\n",
       "Adjustable_Steering_Column                   0\n",
       "Parking_Assistance                           0\n",
       "Key_Off_Reminder                             0\n",
       "USB_Compatibility                            0\n",
       "EBA_(Electronic_Brake_Assist)                0\n",
       "Seat_Height_Adjustment                       0\n",
       "Navigation_System                            0\n",
       "Second_Row_AC_Vents                          0\n",
       "Rear_Center_Armrest                          0\n",
       "ESP_(Electronic_Stability_Program)           0\n",
       "Cooled_Glove_Box                             0\n",
       "Turbocharger                                 0\n",
       "Rain_Sensing_Wipers                          0\n",
       "Automatic_Headlamps                          0\n",
       "ASR_/_Traction_Control                       0\n",
       "Cruise_Control                               0\n",
       "dtype: int64"
      ]
     },
     "execution_count": 226,
     "metadata": {},
     "output_type": "execute_result"
    }
   ],
   "source": [
    "df_obj.isnull().sum()"
   ]
  },
  {
   "cell_type": "code",
   "execution_count": 227,
   "id": "8444cc4d",
   "metadata": {},
   "outputs": [],
   "source": [
    "df_obj[\"Displacement\"]=df_obj[\"Displacement\"].str.replace(\" cc\",\"\")"
   ]
  },
  {
   "cell_type": "code",
   "execution_count": 228,
   "id": "054fd262",
   "metadata": {},
   "outputs": [
    {
     "data": {
      "text/plain": [
       "array(['624', '799', '999', '1196', '998', '1198', '1086', '1199', '1197',\n",
       "       '1173', '1489', '1248', '1364', '1193', '1396', '1186', '1498',\n",
       "       '1194', '1496', '1461', '1368', '1956', '2999', '2157', '1968',\n",
       "       '1997', '1597', '1798', '1395', '1595', '2143', '1991', '2000',\n",
       "       '1998', '1969', '1999', '1984', '1995', '2995', '2993', '2998',\n",
       "       '4951', '2987', '6417', '3604', '2996', '2979', '1988', '5461',\n",
       "       '2982', '3456', '2894', '6592', '3982', '2925', '4691', '5980',\n",
       "       '4663', '3996', '4461', '5204', '5998', '3855', '5950', '5198',\n",
       "       '4497', '6593', '6752', '6750', '6749', '7993', '216', '796',\n",
       "       '1120', '1497', '1994', '1298', '1397', '1493', '2523', '1591',\n",
       "       '1582', '1598', 'undefined', '2498', '2596', '2149', '1462',\n",
       "       '2179', '72', '2393', '2694', '2755', '1799', '2199', '3198',\n",
       "       '2198', '2400', '1950', '2967', '4999', '4367', '3993', '3902',\n",
       "       '3900', '6262', '6498', '6598', '1172', '2489', '1353', '1500',\n",
       "       '1596', '2487', '2494', '2981', '3799', '5935', '6496', '2499',\n",
       "       '1898', '2360', '1993', '4395', '5000', '5700', '1047', '2200',\n",
       "       '2477', '3200'], dtype=object)"
      ]
     },
     "execution_count": 228,
     "metadata": {},
     "output_type": "execute_result"
    }
   ],
   "source": [
    "df_obj[\"Displacement\"].unique()"
   ]
  },
  {
   "cell_type": "code",
   "execution_count": 229,
   "id": "2d16d83f",
   "metadata": {},
   "outputs": [
    {
     "data": {
      "text/plain": [
       "0"
      ]
     },
     "execution_count": 229,
     "metadata": {},
     "output_type": "execute_result"
    }
   ],
   "source": [
    "df_obj.isnull().sum().sum()"
   ]
  },
  {
   "cell_type": "code",
   "execution_count": 230,
   "id": "a9b518ec",
   "metadata": {},
   "outputs": [],
   "source": [
    "df_obj[\"Displacement\"]=df_obj[\"Displacement\"].str.replace(\" cc\",\"\")"
   ]
  },
  {
   "cell_type": "code",
   "execution_count": 231,
   "id": "da0ed95b",
   "metadata": {},
   "outputs": [
    {
     "data": {
      "text/plain": [
       "array(['38P', '54P', '68P', '73P', '74P', '62P', '59P', '78P', '59b',\n",
       "       '69P', '86P', '83P', '72P', '76.', '64P', '80P', '75P', '90P',\n",
       "       '81.', '70b', '71P', '69b', '84P', '100', '76P', '105', '110',\n",
       "       '84.', '96P', '65P', '93P', '140', '89P', '82P', '89 ', '173',\n",
       "       '177', '178', '141', '154', '120', '180', '143', '150', '122',\n",
       "       '136', '183', '148', '250', '116', '192', '190', '231', '247',\n",
       "       '245', '248', '179', '333', '265', '340', '401', '240', '468',\n",
       "       '286', '334', '410', '300', '258', '557', '262', '450', '609',\n",
       "       '275', '350', '430', '585', '289', '460', '299', '630', '453',\n",
       "       '550', '261', '455', '610', '650', '590', '560', '608', '605',\n",
       "       '563', '570', '625', '512', '147', '160', '13b', '12b', '48P',\n",
       "       '47h', '67P', '77P', '101', '82h', '117', '89h', '118', '114',\n",
       "       '70p', '70 ', '63P', '63.', '123', '106', '85P', '128', '109',\n",
       "       '115', '25.', '41.', '119', '104', '121', '155', '41P', '156',\n",
       "       '166', '164', '174', '162', '163', '88.', '142', '200', '187',\n",
       "       '372', '181', '184', '268', '549', '233', '188', '197', '249',\n",
       "       '252', '194', '225', '407', '320', '235', '567', '296', '335',\n",
       "       '518', '254', '274', '302', '558', '510', '476', '639', '580',\n",
       "       '571', '602', '631', '670', '681', '700', '740', '34.', '75 ',\n",
       "       '83 ', '82b', '99P', '103', '95B', '102', '95P', '168', '129',\n",
       "       '152', '185', '241', '503', '98P', '176', '330', '431', '505',\n",
       "       '789', '89B', '94B', '145', '126', '134', '167', '360', '170',\n",
       "       '375', '349', '495', '297', '380', '669', '70P', '73.', '394',\n",
       "       '107', '507', '616', '202'], dtype=object)"
      ]
     },
     "execution_count": 231,
     "metadata": {},
     "output_type": "execute_result"
    }
   ],
   "source": [
    "df_obj[\"Power\"]=df_obj[\"Power\"].apply(lambda x:x[0:3])\n",
    "df_obj[\"Power\"].unique()"
   ]
  },
  {
   "cell_type": "code",
   "execution_count": 232,
   "id": "ac108f39",
   "metadata": {},
   "outputs": [
    {
     "name": "stderr",
     "output_type": "stream",
     "text": [
      "C:\\Users\\md kaif\\AppData\\Local\\Temp\\ipykernel_5312\\4163476668.py:1: FutureWarning: The default value of regex will change from True to False in a future version. In addition, single character regular expressions will *not* be treated as literal strings when regex=True.\n",
      "  df_obj[\"Power\"]=df_obj[\"Power\"].str.replace(\"P\",\"\").str.replace(\".\",\"\").str.replace(\"B\",\"\").str.replace(\"b\",\"\").str.replace(\"h\",\"\").str.replace(\" \",\"\").str.replace(\"p\",\"\")\n"
     ]
    }
   ],
   "source": [
    "df_obj[\"Power\"]=df_obj[\"Power\"].str.replace(\"P\",\"\").str.replace(\".\",\"\").str.replace(\"B\",\"\").str.replace(\"b\",\"\").str.replace(\"h\",\"\").str.replace(\" \",\"\").str.replace(\"p\",\"\")"
   ]
  },
  {
   "cell_type": "code",
   "execution_count": 233,
   "id": "5b1c5ae6",
   "metadata": {},
   "outputs": [
    {
     "data": {
      "text/plain": [
       "array(['38', '54', '68', '73', '74', '62', '59', '78', '69', '86', '83',\n",
       "       '72', '76', '64', '80', '75', '90', '81', '70', '71', '84', '100',\n",
       "       '105', '110', '96', '65', '93', '140', '89', '82', '173', '177',\n",
       "       '178', '141', '154', '120', '180', '143', '150', '122', '136',\n",
       "       '183', '148', '250', '116', '192', '190', '231', '247', '245',\n",
       "       '248', '179', '333', '265', '340', '401', '240', '468', '286',\n",
       "       '334', '410', '300', '258', '557', '262', '450', '609', '275',\n",
       "       '350', '430', '585', '289', '460', '299', '630', '453', '550',\n",
       "       '261', '455', '610', '650', '590', '560', '608', '605', '563',\n",
       "       '570', '625', '512', '147', '160', '13', '12', '48', '47', '67',\n",
       "       '77', '101', '117', '118', '114', '63', '123', '106', '85', '128',\n",
       "       '109', '115', '25', '41', '119', '104', '121', '155', '156', '166',\n",
       "       '164', '174', '162', '163', '88', '142', '200', '187', '372',\n",
       "       '181', '184', '268', '549', '233', '188', '197', '249', '252',\n",
       "       '194', '225', '407', '320', '235', '567', '296', '335', '518',\n",
       "       '254', '274', '302', '558', '510', '476', '639', '580', '571',\n",
       "       '602', '631', '670', '681', '700', '740', '34', '99', '103', '95',\n",
       "       '102', '168', '129', '152', '185', '241', '503', '98', '176',\n",
       "       '330', '431', '505', '789', '94', '145', '126', '134', '167',\n",
       "       '360', '170', '375', '349', '495', '297', '380', '669', '394',\n",
       "       '107', '507', '616', '202'], dtype=object)"
      ]
     },
     "execution_count": 233,
     "metadata": {},
     "output_type": "execute_result"
    }
   ],
   "source": [
    "df_obj[\"Power\"].unique()"
   ]
  },
  {
   "cell_type": "code",
   "execution_count": 234,
   "id": "a068faad",
   "metadata": {},
   "outputs": [
    {
     "data": {
      "text/plain": [
       "array(['23.6 km/litre', 'undefined', '21.9 km/litre', '25.17 km/litre',\n",
       "       '22.5 km/litre', '23 km/litre', '23.01 km/litre', '24.04 km/litre',\n",
       "       '15 km/litre', '24.07 km/litre', '20.1 km/litre', '23.1 km/litre',\n",
       "       '20.3 km/litre', '24 km/litre', '20.89 km/litre', '20.5 km/litre',\n",
       "       '16 km/litre', '23.7 km/litre', '18.16 km/litre', '23.59 km/litre',\n",
       "       '18.97 km/litre', '19.49 km/litre', '22.95 km/litre',\n",
       "       '17.57 km/litre', '15.7 km/litre', '20.14 km/litre', '20 km/litre',\n",
       "       '28.4 km/litre', '22 km/litre', '18.6 km/litre', '22.54 km/litre',\n",
       "       '18.15 km/litre', '25.35 km/litre', '20.4 km/litre',\n",
       "       '25.4 km/litre', '18.78 km/litre', '17.21 km/litre',\n",
       "       '19.91 km/litre', '24.4 km/litre', '19 km/litre', '21.66 km/litre',\n",
       "       '21.73 km/litre', '26.1 km/litre', '19.4 km/litre',\n",
       "       '16.78 km/litre', '17.71 km/litre', '20.08 km/litre',\n",
       "       '17.1 km/litre', '23.87 km/litre', '21.01 km/litre',\n",
       "       '19.56 km/litre', '18.2 km/litre', '27.3 km/litre',\n",
       "       '16.3 km/litre', '13.8 km/litre', '12.35 km/litre',\n",
       "       '12.05 km/litre', '17.06 km/litre', '14.4 km/litre',\n",
       "       '19.5 km/litre', '18.3 km/litre', '13.7 km/litre',\n",
       "       '18.19 km/litre', '20.38 km/litre', '19.2 km/litre',\n",
       "       '14.81 km/litre', '15.04 km/litre', '17.9 km/litre', '10 km/litre',\n",
       "       '15.73 km/litre', '16.9 km/litre', '21.15 km/litre',\n",
       "       '14.59 km/litre', '16.47 km/litre', '11 km/litre',\n",
       "       '13.12 km/litre', '19.33 km/litre', '14.11 km/litre',\n",
       "       '18.56 km/litre', '13.57 km/litre', '13.38 km/litre',\n",
       "       '11.24 km/litre', '13 km/litre', '12.8 km/litre', '8.61 km/litre',\n",
       "       '9.8-10.0 km/litre', '7.4 km/litre', '11.6 km/litre',\n",
       "       '12 km/litre', '11.13 km/litre', '18 km/litre', '10.8 km/litre',\n",
       "       '17.66 km/litre', '11.86 km/litre', '7.96 km/litre',\n",
       "       '13.5 km/litre', '7.8 km/litre', '14 km/litre', '7.9 km/litre',\n",
       "       '10.63 km/litre', '6.71 km/litre', '8.6 km/litre', '9 km/litre',\n",
       "       '8.77 km/litre', '17.3 km/litre', '7.29 km/litre', '10.2 km/litre',\n",
       "       '9.5 km/litre', '22.4-21.9 km/litre', '22.8 km/litre',\n",
       "       '5.95 km/litre', '35 km/litre', '22.05 km/litre', '21.4 km/litre',\n",
       "       '21.7 km/litre', '19.77 km/litre', '25.32 km/litre',\n",
       "       '25.2 km/litre', '25 km/litre', '11.12 km/litre', '17.6 km/litre',\n",
       "       '20.65 km/litre', '27.4 km/litre', '23.8 km/litre',\n",
       "       '11.9 km/litre', '17.52 km/litre', '18.27 km/litre',\n",
       "       '23.97 km/litre', '16.5 km/litre', '15.96 km/litre',\n",
       "       '24.3 km/litre', '17.19 km/litre', '21.19 km/litre', '17 km/litre',\n",
       "       '14.8 km/litre', '13.87 km/litre', '19.6 km/litre',\n",
       "       '17.7 km/litre', '23.9 km/litre', '23.5 km/litre', '19.1 km/litre',\n",
       "       '21.04 km/litre', '19.98 km/litre', '16.09 km/litre',\n",
       "       '20.64 km/litre', '21.5 km/litre', '15.4 km/litre',\n",
       "       '19.01 km/litre', '17.01 km/litre', '18.49 km/litre',\n",
       "       '10.22 km/litre', '21.72 km/litre', '14.84 km/litre',\n",
       "       '21.13 km/litre', '15.41 km/litre', '13.85 km/litre',\n",
       "       '15.1 km/litre', '10.83 km/litre', '10.75 km/litre',\n",
       "       '11.25 km/litre', '14.1 km/litre', '16.7 km/litre', '21 km/litre',\n",
       "       '16.8 km/litre', '26.8 km/litre', '14.12 km/litre',\n",
       "       '14.67 km/litre', '16.81 km/litre', '12.9 km/litre',\n",
       "       '14.24 km/litre', '10.26 km/litre', '10.01 km/litre',\n",
       "       '10.91 km/litre', '12.62 km/litre', '15.75 km/litre',\n",
       "       '16.25 km/litre', '20.68 km/litre', '17.05 km/litre',\n",
       "       '19.62 km/litre', '16.13 km/litre', '12.44 km/litre',\n",
       "       '15.6 km/litre', '142 km/litre', '8.5 km/litre', '18.8 km/litre',\n",
       "       '16.4 km/litre', '13.32 km/litre', '8.4 km/litre', '7.6 km/litre',\n",
       "       '14.75 km/litre', '11.68 km/litre', '12.63 km/litre',\n",
       "       '12.06 km/litre', '17.2 km/litre', '11.5 km/litre', '3.4 km/litre',\n",
       "       '16.2 km/litre', '9.8 km/litre', '9.6 km/litre', '10kmpl km/litre',\n",
       "       '10.6 km/litre', '8 km/litre', '5.5 km/litre', '5 km/litre',\n",
       "       '8.8 km/litre', '20.6 km/litre', '25.5 km/litre', '27.39 km/litre',\n",
       "       '18.9 km/litre', '17.49 km/litre', '14.9 km/litre',\n",
       "       '16.95 km/litre', '22.71 km/litre', '17.97 km/litre',\n",
       "       '19.34 km/litre', '18.69 km/litre', '24.2 km/litre',\n",
       "       '17.5 km/litre', '23.65 km/litre', '13.86 km/litre',\n",
       "       '20.37 km/litre', '13.9 km/litre', '14.02 km/litre',\n",
       "       '16.1 km/litre', '20.45 km/litre', '13.24 km/litre',\n",
       "       '17.41 km/litre', '14.6 km/litre', '18.42 km/litre',\n",
       "       '13.03 km/litre', '16.38 km/litre', '12.95 km/litre',\n",
       "       '17.42 km/litre', '15.5 km/litre', '14.41 km/litre',\n",
       "       '19.19 km/litre', '16.05 km/litre', '1449 km/litre',\n",
       "       '17.8 km/litre', '21.27 km/litre', '8.9 km/litre', '9.1 km/litre',\n",
       "       '24.7 km/litre', '20.7 km/litre', '17.36 km/litre',\n",
       "       '23.08 km/litre', '28.09 km/litre', '21.56 km/litre',\n",
       "       '20.28 km/litre', '26.82 km/litre', '26.32 km/litre',\n",
       "       '21.38 km/litre', '15.29 km/litre', '19.67 km/litre',\n",
       "       '10.3 km/litre', '9.62 km/litre', '18.12 km/litre',\n",
       "       '14.69 km/litre', '15.01 km/litre', '16.46 km/litre',\n",
       "       '7.94 km/litre', '21.76 km/litre', '14.3 km/litre',\n",
       "       '15.3 km/litre', '10.7 km/litre', '10.85 km/litre',\n",
       "       '23.84 km/litre', '27.28 km/litre', '16.21 km/litre',\n",
       "       '14.23 km/litre', '23.2 km/litre', '9.17 km/litre',\n",
       "       '21.2 km/litre', '13.51 km/litre', '18.18 km/litre',\n",
       "       '10.77 km/litre', '4 km/litre', '17.4 km/litre', '25.6 km/litre',\n",
       "       '25.1 km/litre', '22.6 km/litre', '11.56 km/litre'], dtype=object)"
      ]
     },
     "execution_count": 234,
     "metadata": {},
     "output_type": "execute_result"
    }
   ],
   "source": [
    "df_obj[\"ARAI_Certified_Mileage\"].unique()"
   ]
  },
  {
   "cell_type": "code",
   "execution_count": 235,
   "id": "838a19b7",
   "metadata": {},
   "outputs": [],
   "source": [
    "df_obj[\"ARAI_Certified_Mileage\"]=df_obj[\"ARAI_Certified_Mileage\"].apply(lambda x:x[0:4])"
   ]
  },
  {
   "cell_type": "code",
   "execution_count": 236,
   "id": "0097bc1e",
   "metadata": {},
   "outputs": [
    {
     "data": {
      "text/plain": [
       "array(['23.6', 'unde', '21.9', '25.1', '22.5', '23 k', '23.0', '24.0',\n",
       "       '15 k', '20.1', '23.1', '20.3', '24 k', '20.8', '20.5', '16 k',\n",
       "       '23.7', '18.1', '23.5', '18.9', '19.4', '22.9', '17.5', '15.7',\n",
       "       '20 k', '28.4', '22 k', '18.6', '25.3', '20.4', '25.4', '18.7',\n",
       "       '17.2', '19.9', '24.4', '19 k', '21.6', '21.7', '26.1', '16.7',\n",
       "       '17.7', '20.0', '17.1', '23.8', '21.0', '19.5', '18.2', '27.3',\n",
       "       '16.3', '13.8', '12.3', '12.0', '17.0', '14.4', '18.3', '13.7',\n",
       "       '19.2', '14.8', '15.0', '17.9', '10 k', '16.9', '21.1', '14.5',\n",
       "       '16.4', '11 k', '13.1', '19.3', '14.1', '18.5', '13.5', '13.3',\n",
       "       '11.2', '13 k', '12.8', '8.61', '9.8-', '7.4 ', '11.6', '12 k',\n",
       "       '11.1', '18 k', '10.8', '17.6', '11.8', '7.96', '7.8 ', '14 k',\n",
       "       '7.9 ', '10.6', '6.71', '8.6 ', '9 km', '8.77', '17.3', '7.29',\n",
       "       '10.2', '9.5 ', '22.4', '22.8', '5.95', '35 k', '22.0', '21.4',\n",
       "       '19.7', '25.2', '25 k', '20.6', '27.4', '11.9', '23.9', '16.5',\n",
       "       '15.9', '24.3', '17 k', '19.6', '19.1', '16.0', '21.5', '15.4',\n",
       "       '19.0', '18.4', '15.1', '10.7', '21 k', '16.8', '26.8', '14.6',\n",
       "       '12.9', '14.2', '10.0', '10.9', '12.6', '16.2', '16.1', '12.4',\n",
       "       '15.6', '142 ', '8.5 ', '18.8', '8.4 ', '7.6 ', '14.7', '11.5',\n",
       "       '3.4 ', '9.8 ', '9.6 ', '10km', '8 km', '5.5 ', '5 km', '8.8 ',\n",
       "       '25.5', '17.4', '14.9', '22.7', '24.2', '13.9', '14.0', '13.2',\n",
       "       '13.0', '15.5', '1449', '17.8', '21.2', '8.9 ', '9.1 ', '24.7',\n",
       "       '20.7', '28.0', '20.2', '26.3', '21.3', '15.2', '10.3', '9.62',\n",
       "       '7.94', '14.3', '15.3', '27.2', '23.2', '9.17', '4 km', '25.6',\n",
       "       '22.6'], dtype=object)"
      ]
     },
     "execution_count": 236,
     "metadata": {},
     "output_type": "execute_result"
    }
   ],
   "source": [
    "df_obj[\"ARAI_Certified_Mileage\"].unique()"
   ]
  },
  {
   "cell_type": "code",
   "execution_count": 237,
   "id": "f6586fe4",
   "metadata": {},
   "outputs": [],
   "source": [
    "df_obj[\"ARAI_Certified_Mileage\"]=df_obj[\"ARAI_Certified_Mileage\"].str.replace(\"km\",\"\").str.replace(\" km\",\"\").str.replace(\" k\",\"\").str.replace(\" \",\"\")"
   ]
  },
  {
   "cell_type": "code",
   "execution_count": null,
   "id": "47ad93c6",
   "metadata": {},
   "outputs": [],
   "source": []
  },
  {
   "cell_type": "code",
   "execution_count": 238,
   "id": "3f659a9e",
   "metadata": {},
   "outputs": [
    {
     "data": {
      "text/plain": [
       "array(['23.6', 'unde', '21.9', '25.1', '22.5', '23', '23.0', '24.0', '15',\n",
       "       '20.1', '23.1', '20.3', '24', '20.8', '20.5', '16', '23.7', '18.1',\n",
       "       '23.5', '18.9', '19.4', '22.9', '17.5', '15.7', '20', '28.4', '22',\n",
       "       '18.6', '25.3', '20.4', '25.4', '18.7', '17.2', '19.9', '24.4',\n",
       "       '19', '21.6', '21.7', '26.1', '16.7', '17.7', '20.0', '17.1',\n",
       "       '23.8', '21.0', '19.5', '18.2', '27.3', '16.3', '13.8', '12.3',\n",
       "       '12.0', '17.0', '14.4', '18.3', '13.7', '19.2', '14.8', '15.0',\n",
       "       '17.9', '10', '16.9', '21.1', '14.5', '16.4', '11', '13.1', '19.3',\n",
       "       '14.1', '18.5', '13.5', '13.3', '11.2', '13', '12.8', '8.61',\n",
       "       '9.8-', '7.4', '11.6', '12', '11.1', '18', '10.8', '17.6', '11.8',\n",
       "       '7.96', '7.8', '14', '7.9', '10.6', '6.71', '8.6', '9', '8.77',\n",
       "       '17.3', '7.29', '10.2', '9.5', '22.4', '22.8', '5.95', '35',\n",
       "       '22.0', '21.4', '19.7', '25.2', '25', '20.6', '27.4', '11.9',\n",
       "       '23.9', '16.5', '15.9', '24.3', '17', '19.6', '19.1', '16.0',\n",
       "       '21.5', '15.4', '19.0', '18.4', '15.1', '10.7', '21', '16.8',\n",
       "       '26.8', '14.6', '12.9', '14.2', '10.0', '10.9', '12.6', '16.2',\n",
       "       '16.1', '12.4', '15.6', '142', '8.5', '18.8', '8.4', '7.6', '14.7',\n",
       "       '11.5', '3.4', '9.8', '9.6', '8', '5.5', '5', '8.8', '25.5',\n",
       "       '17.4', '14.9', '22.7', '24.2', '13.9', '14.0', '13.2', '13.0',\n",
       "       '15.5', '1449', '17.8', '21.2', '8.9', '9.1', '24.7', '20.7',\n",
       "       '28.0', '20.2', '26.3', '21.3', '15.2', '10.3', '9.62', '7.94',\n",
       "       '14.3', '15.3', '27.2', '23.2', '9.17', '4', '25.6', '22.6'],\n",
       "      dtype=object)"
      ]
     },
     "execution_count": 238,
     "metadata": {},
     "output_type": "execute_result"
    }
   ],
   "source": [
    "df_obj[\"ARAI_Certified_Mileage\"].unique()"
   ]
  },
  {
   "cell_type": "code",
   "execution_count": 240,
   "id": "4e9dd451",
   "metadata": {},
   "outputs": [
    {
     "data": {
      "text/html": [
       "<div>\n",
       "<style scoped>\n",
       "    .dataframe tbody tr th:only-of-type {\n",
       "        vertical-align: middle;\n",
       "    }\n",
       "\n",
       "    .dataframe tbody tr th {\n",
       "        vertical-align: top;\n",
       "    }\n",
       "\n",
       "    .dataframe thead th {\n",
       "        text-align: right;\n",
       "    }\n",
       "</style>\n",
       "<table border=\"1\" class=\"dataframe\">\n",
       "  <thead>\n",
       "    <tr style=\"text-align: right;\">\n",
       "      <th></th>\n",
       "      <th>Make</th>\n",
       "      <th>Model</th>\n",
       "      <th>Variant</th>\n",
       "      <th>Price</th>\n",
       "      <th>Displacement</th>\n",
       "      <th>Drivetrain</th>\n",
       "      <th>Emission_Norm</th>\n",
       "      <th>Keyless_Entry</th>\n",
       "      <th>Power</th>\n",
       "      <th>Torque</th>\n",
       "      <th>...</th>\n",
       "      <th>Navigation_System</th>\n",
       "      <th>Second_Row_AC_Vents</th>\n",
       "      <th>Rear_Center_Armrest</th>\n",
       "      <th>ESP_(Electronic_Stability_Program)</th>\n",
       "      <th>Cooled_Glove_Box</th>\n",
       "      <th>Turbocharger</th>\n",
       "      <th>Rain_Sensing_Wipers</th>\n",
       "      <th>Automatic_Headlamps</th>\n",
       "      <th>ASR_/_Traction_Control</th>\n",
       "      <th>Cruise_Control</th>\n",
       "    </tr>\n",
       "  </thead>\n",
       "  <tbody>\n",
       "    <tr>\n",
       "      <th>1036</th>\n",
       "      <td>Maruti Suzuki</td>\n",
       "      <td>Mercedes-Benz C-Class</td>\n",
       "      <td>C 43 Amg</td>\n",
       "      <td>7500000</td>\n",
       "      <td>3982</td>\n",
       "      <td>RWD (Rear Wheel Drive)</td>\n",
       "      <td>BS 6</td>\n",
       "      <td>Smart Key</td>\n",
       "      <td>503</td>\n",
       "      <td>700Nm@1750RPM</td>\n",
       "      <td>...</td>\n",
       "      <td>Yes</td>\n",
       "      <td>Yes</td>\n",
       "      <td>Cup Holders</td>\n",
       "      <td>Yes</td>\n",
       "      <td>Yes</td>\n",
       "      <td>Yes</td>\n",
       "      <td>Yes</td>\n",
       "      <td>Yes</td>\n",
       "      <td>Yes</td>\n",
       "      <td>Yes</td>\n",
       "    </tr>\n",
       "  </tbody>\n",
       "</table>\n",
       "<p>1 rows × 45 columns</p>\n",
       "</div>"
      ],
      "text/plain": [
       "               Make                  Model   Variant    Price Displacement  \\\n",
       "1036  Maruti Suzuki  Mercedes-Benz C-Class  C 43 Amg  7500000         3982   \n",
       "\n",
       "                  Drivetrain Emission_Norm Keyless_Entry Power         Torque  \\\n",
       "1036  RWD (Rear Wheel Drive)          BS 6     Smart Key   503  700Nm@1750RPM   \n",
       "\n",
       "      ... Navigation_System Second_Row_AC_Vents Rear_Center_Armrest  \\\n",
       "1036  ...               Yes                 Yes         Cup Holders   \n",
       "\n",
       "     ESP_(Electronic_Stability_Program) Cooled_Glove_Box Turbocharger  \\\n",
       "1036                                Yes              Yes          Yes   \n",
       "\n",
       "     Rain_Sensing_Wipers Automatic_Headlamps ASR_/_Traction_Control  \\\n",
       "1036                 Yes                 Yes                    Yes   \n",
       "\n",
       "     Cruise_Control  \n",
       "1036            Yes  \n",
       "\n",
       "[1 rows x 45 columns]"
      ]
     },
     "execution_count": 240,
     "metadata": {},
     "output_type": "execute_result"
    }
   ],
   "source": [
    "df_obj[df_obj[\"ARAI_Certified_Mileage\"]==\"1449\"]"
   ]
  },
  {
   "cell_type": "code",
   "execution_count": 241,
   "id": "91099ea5",
   "metadata": {},
   "outputs": [],
   "source": [
    "df_obj.loc[1036,\"ARAI_Certified_Mileage\"]=14.49"
   ]
  },
  {
   "cell_type": "code",
   "execution_count": 242,
   "id": "ac148058",
   "metadata": {},
   "outputs": [
    {
     "data": {
      "text/plain": [
       "array(['23.6', 'unde', '21.9', '25.1', '22.5', '23', '23.0', '24.0', '15',\n",
       "       '20.1', '23.1', '20.3', '24', '20.8', '20.5', '16', '23.7', '18.1',\n",
       "       '23.5', '18.9', '19.4', '22.9', '17.5', '15.7', '20', '28.4', '22',\n",
       "       '18.6', '25.3', '20.4', '25.4', '18.7', '17.2', '19.9', '24.4',\n",
       "       '19', '21.6', '21.7', '26.1', '16.7', '17.7', '20.0', '17.1',\n",
       "       '23.8', '21.0', '19.5', '18.2', '27.3', '16.3', '13.8', '12.3',\n",
       "       '12.0', '17.0', '14.4', '18.3', '13.7', '19.2', '14.8', '15.0',\n",
       "       '17.9', '10', '16.9', '21.1', '14.5', '16.4', '11', '13.1', '19.3',\n",
       "       '14.1', '18.5', '13.5', '13.3', '11.2', '13', '12.8', '8.61',\n",
       "       '9.8-', '7.4', '11.6', '12', '11.1', '18', '10.8', '17.6', '11.8',\n",
       "       '7.96', '7.8', '14', '7.9', '10.6', '6.71', '8.6', '9', '8.77',\n",
       "       '17.3', '7.29', '10.2', '9.5', '22.4', '22.8', '5.95', '35',\n",
       "       '22.0', '21.4', '19.7', '25.2', '25', '20.6', '27.4', '11.9',\n",
       "       '23.9', '16.5', '15.9', '24.3', '17', '19.6', '19.1', '16.0',\n",
       "       '21.5', '15.4', '19.0', '18.4', '15.1', '10.7', '21', '16.8',\n",
       "       '26.8', '14.6', '12.9', '14.2', '10.0', '10.9', '12.6', '16.2',\n",
       "       '16.1', '12.4', '15.6', '142', '8.5', '18.8', '8.4', '7.6', '14.7',\n",
       "       '11.5', '3.4', '9.8', '9.6', '8', '5.5', '5', '8.8', '25.5',\n",
       "       '17.4', '14.9', '22.7', '24.2', '13.9', '14.0', '13.2', '13.0',\n",
       "       '15.5', 14.49, '17.8', '21.2', '8.9', '9.1', '24.7', '20.7',\n",
       "       '28.0', '20.2', '26.3', '21.3', '15.2', '10.3', '9.62', '7.94',\n",
       "       '14.3', '15.3', '27.2', '23.2', '9.17', '4', '25.6', '22.6'],\n",
       "      dtype=object)"
      ]
     },
     "execution_count": 242,
     "metadata": {},
     "output_type": "execute_result"
    }
   ],
   "source": [
    "df_obj[\"ARAI_Certified_Mileage\"].unique()"
   ]
  },
  {
   "cell_type": "code",
   "execution_count": 243,
   "id": "63b04ecd",
   "metadata": {},
   "outputs": [
    {
     "data": {
      "text/plain": [
       "array(['180 mm', '185 mm', '184 mm', '160 mm', '165 mm', 'undefined',\n",
       "       '170 mm', '182 mm', '200 mm', '154 mm', '163 mm', '190 mm',\n",
       "       '174 mm', '172 mm', '205 mm', '220 mm', '149 mm', '198 mm',\n",
       "       '208 mm', '164 mm', '161 mm', '211 mm', '146 mm', '125 mm',\n",
       "       '100 mm', '212 mm', '167 mm', '152 mm', '137 mm', '206 mm',\n",
       "       '210 mm', '307 mm', '140 mm', '109 mm', '241 mm', '215 mm',\n",
       "       '110 mm', '142 mm', '119 mm', '130 mm', '113 mm', '150 mm',\n",
       "       '175 mm', '209 mm', '195 mm', '133 mm', '225 mm', '188 mm',\n",
       "       '179 mm', '136 mm', '157 mm', '201 mm', '155 mm', '498 mm',\n",
       "       '218 mm', '238 mm', '295.5 mm', '227 mm', '295 mm', '128 mm',\n",
       "       '135 mm', '186 mm', '192 mm', '132 mm', '112 mm', '213 mm',\n",
       "       '121 mm', '122 mm', '108 mm', '183 mm', '158 mm', '124 mm',\n",
       "       '138 mm', '235 mm'], dtype=object)"
      ]
     },
     "execution_count": 243,
     "metadata": {},
     "output_type": "execute_result"
    }
   ],
   "source": [
    "df_obj[\"Ground_Clearance\"].unique()"
   ]
  },
  {
   "cell_type": "code",
   "execution_count": 244,
   "id": "4b71e204",
   "metadata": {},
   "outputs": [],
   "source": [
    "df_obj[\"Ground_Clearance\"]=df_obj[\"Ground_Clearance\"].str.replace(\" mm\",\"\")"
   ]
  },
  {
   "cell_type": "code",
   "execution_count": 245,
   "id": "1ca01e80",
   "metadata": {},
   "outputs": [
    {
     "data": {
      "text/plain": [
       "array(['180', '185', '184', '160', '165', 'undefined', '170', '182',\n",
       "       '200', '154', '163', '190', '174', '172', '205', '220', '149',\n",
       "       '198', '208', '164', '161', '211', '146', '125', '100', '212',\n",
       "       '167', '152', '137', '206', '210', '307', '140', '109', '241',\n",
       "       '215', '110', '142', '119', '130', '113', '150', '175', '209',\n",
       "       '195', '133', '225', '188', '179', '136', '157', '201', '155',\n",
       "       '498', '218', '238', '295.5', '227', '295', '128', '135', '186',\n",
       "       '192', '132', '112', '213', '121', '122', '108', '183', '158',\n",
       "       '124', '138', '235'], dtype=object)"
      ]
     },
     "execution_count": 245,
     "metadata": {},
     "output_type": "execute_result"
    }
   ],
   "source": [
    "df_obj[\"Ground_Clearance\"].unique()"
   ]
  },
  {
   "cell_type": "code",
   "execution_count": 51,
   "id": "078ad559",
   "metadata": {},
   "outputs": [
    {
     "data": {
      "text/plain": [
       "array(['110 litres', '94 litres', '222 litres', '300 litres',\n",
       "       '400 litres', '250 litres', '177 litres', '265 litres',\n",
       "       '235 litres', 'undefined', '242 litres', '240 litres',\n",
       "       '260 litres', '625 litres', '454 litres', '251 litres',\n",
       "       '210 litres', '407 litres', '320 litres', '316 litres',\n",
       "       '285 litres', '280 litres', '378 litres', '257 litres',\n",
       "       '330 litres', '592 litres', '339 litres', '354 litres',\n",
       "       '438 litres', '615 litres', '522 litres', '150 litres',\n",
       "       '425 litres', '488 litres', '470 litres', '460 litres',\n",
       "       '278 litres', '215 litres', '432 litres', '360 litres',\n",
       "       '480 litres', '455 litres', '505 litres', '520 litres',\n",
       "       '560 litres', '550 litres', '650 litres', '1025 litres',\n",
       "       '540 litres', '465 litres', '515 litres', '500 litres',\n",
       "       '605 litres', '530 litres', '510 litres', '580 litres',\n",
       "       '261 litres', '133 litres', '616 litres', '358 litres',\n",
       "       '430 litres', '230 litres', '490 litres', '443 litres',\n",
       "       '395 litres', '20 litres', '256 litres', '243 litres',\n",
       "       '268 litres', '345 litres', '419 litres', '390 litres',\n",
       "       '420 litres', '350 litres', '1702 litres', '328 litres',\n",
       "       '352 litres', '475 litres', '259 litres', '207 litres',\n",
       "       '759 litres', '494 litres', '135 litres', '255 litres',\n",
       "       '223 litres', '600 litres', '209 litres', '384 litres',\n",
       "       '96 litres', '128 litres', '448 litres', '324 litres',\n",
       "       '296 litres', '211 litres', '270 litres', '380 litres',\n",
       "       '495 litres', '1400 litres', '281 litres', '295 litres',\n",
       "       '909 litres', '1761 litres', '478 litres', '645 litres',\n",
       "       '745 litres', '770 litres', '621 litres', '535 litres',\n",
       "       '173 litres', '165 litres', '70 litres', '450 litres',\n",
       "       '525 litres', '347 litres',\n",
       "       '209(All3RowsUp).550(3rdRowFolded)&803(2ndRowand3rdRowFolded) litres',\n",
       "       '363 litres', '375 litres', '392 litres', '433 litres',\n",
       "       '981 litres', '586 litres', '341 litres', '435 litres',\n",
       "       '825 litres', '326 litres', '368 litres', '132 litres',\n",
       "       '249 litres', '421 litres', '610 litres', '200.5 litres',\n",
       "       '310 litres', '412 litres', '54 litres', '258 litres',\n",
       "       '476 litres', '590 litres', '598 litres', '1050 litres'],\n",
       "      dtype=object)"
      ]
     },
     "execution_count": 51,
     "metadata": {},
     "output_type": "execute_result"
    }
   ],
   "source": [
    "df_obj[\"Boot_Space\"].unique()"
   ]
  },
  {
   "cell_type": "code",
   "execution_count": 246,
   "id": "bfab63cd",
   "metadata": {},
   "outputs": [],
   "source": [
    "df_obj[\"Boot_Space\"]=df_obj[\"Boot_Space\"].apply(lambda x:x[0:4])"
   ]
  },
  {
   "cell_type": "code",
   "execution_count": 247,
   "id": "9bf9e06f",
   "metadata": {},
   "outputs": [
    {
     "data": {
      "text/plain": [
       "array(['110 ', '94 l', '222 ', '300 ', '400 ', '250 ', '177 ', '265 ',\n",
       "       '235 ', 'unde', '242 ', '240 ', '260 ', '625 ', '454 ', '251 ',\n",
       "       '210 ', '407 ', '320 ', '316 ', '285 ', '280 ', '378 ', '257 ',\n",
       "       '330 ', '592 ', '339 ', '354 ', '438 ', '615 ', '522 ', '150 ',\n",
       "       '425 ', '488 ', '470 ', '460 ', '278 ', '215 ', '432 ', '360 ',\n",
       "       '480 ', '455 ', '505 ', '520 ', '560 ', '550 ', '650 ', '1025',\n",
       "       '540 ', '465 ', '515 ', '500 ', '605 ', '530 ', '510 ', '580 ',\n",
       "       '261 ', '133 ', '616 ', '358 ', '430 ', '230 ', '490 ', '443 ',\n",
       "       '395 ', '20 l', '256 ', '243 ', '268 ', '345 ', '419 ', '390 ',\n",
       "       '420 ', '350 ', '1702', '328 ', '352 ', '475 ', '259 ', '207 ',\n",
       "       '759 ', '494 ', '135 ', '255 ', '223 ', '600 ', '209 ', '384 ',\n",
       "       '96 l', '128 ', '448 ', '324 ', '296 ', '211 ', '270 ', '380 ',\n",
       "       '495 ', '1400', '281 ', '295 ', '909 ', '1761', '478 ', '645 ',\n",
       "       '745 ', '770 ', '621 ', '535 ', '173 ', '165 ', '70 l', '450 ',\n",
       "       '525 ', '347 ', '209(', '363 ', '375 ', '392 ', '433 ', '981 ',\n",
       "       '586 ', '341 ', '435 ', '825 ', '326 ', '368 ', '132 ', '249 ',\n",
       "       '421 ', '610 ', '200.', '310 ', '412 ', '54 l', '258 ', '476 ',\n",
       "       '590 ', '598 ', '1050'], dtype=object)"
      ]
     },
     "execution_count": 247,
     "metadata": {},
     "output_type": "execute_result"
    }
   ],
   "source": [
    "df_obj[\"Boot_Space\"].unique()"
   ]
  },
  {
   "cell_type": "code",
   "execution_count": 248,
   "id": "f833d2f6",
   "metadata": {},
   "outputs": [
    {
     "name": "stderr",
     "output_type": "stream",
     "text": [
      "C:\\Users\\md kaif\\AppData\\Local\\Temp\\ipykernel_5312\\1361690880.py:1: FutureWarning: The default value of regex will change from True to False in a future version. In addition, single character regular expressions will *not* be treated as literal strings when regex=True.\n",
      "  df_obj[\"Boot_Space\"]=df_obj[\"Boot_Space\"].str.replace(\" l\",\"\").str.replace(\" \",\"\").str.replace(\"(\",\"\")\n"
     ]
    }
   ],
   "source": [
    "df_obj[\"Boot_Space\"]=df_obj[\"Boot_Space\"].str.replace(\" l\",\"\").str.replace(\" \",\"\").str.replace(\"(\",\"\")"
   ]
  },
  {
   "cell_type": "code",
   "execution_count": 249,
   "id": "17f1b880",
   "metadata": {},
   "outputs": [
    {
     "data": {
      "text/plain": [
       "array(['110', '94', '222', '300', '400', '250', '177', '265', '235',\n",
       "       'unde', '242', '240', '260', '625', '454', '251', '210', '407',\n",
       "       '320', '316', '285', '280', '378', '257', '330', '592', '339',\n",
       "       '354', '438', '615', '522', '150', '425', '488', '470', '460',\n",
       "       '278', '215', '432', '360', '480', '455', '505', '520', '560',\n",
       "       '550', '650', '1025', '540', '465', '515', '500', '605', '530',\n",
       "       '510', '580', '261', '133', '616', '358', '430', '230', '490',\n",
       "       '443', '395', '20', '256', '243', '268', '345', '419', '390',\n",
       "       '420', '350', '1702', '328', '352', '475', '259', '207', '759',\n",
       "       '494', '135', '255', '223', '600', '209', '384', '96', '128',\n",
       "       '448', '324', '296', '211', '270', '380', '495', '1400', '281',\n",
       "       '295', '909', '1761', '478', '645', '745', '770', '621', '535',\n",
       "       '173', '165', '70', '450', '525', '347', '363', '375', '392',\n",
       "       '433', '981', '586', '341', '435', '825', '326', '368', '132',\n",
       "       '249', '421', '610', '200.', '310', '412', '54', '258', '476',\n",
       "       '590', '598', '1050'], dtype=object)"
      ]
     },
     "execution_count": 249,
     "metadata": {},
     "output_type": "execute_result"
    }
   ],
   "source": [
    "df_obj[\"Boot_Space\"].unique()"
   ]
  },
  {
   "cell_type": "code",
   "execution_count": 251,
   "id": "03fab69f",
   "metadata": {},
   "outputs": [],
   "source": [
    "df_obj[\"Torque\"]=df_obj[\"Torque\"].apply(lambda x:x[:4])"
   ]
  },
  {
   "cell_type": "code",
   "execution_count": 252,
   "id": "64c5263b",
   "metadata": {},
   "outputs": [
    {
     "data": {
      "text/plain": [
       "array(['51Nm', '72Nm', '91Nm', '101N', '85Nm', '90Nm', '78Nm', '104N',\n",
       "       '99.0', '10.1', '8.3K', '114N', '113N', '96Nm', '103.', '152N',\n",
       "       '183N', '170N', '190N', '140N', '115N', '220N', '95Nm', '172N',\n",
       "       '230N', '175N', '250N', '215N', '120N', '132N', '160N', '209N',\n",
       "       '210N', '110N', '200N', '110 ', '350N', '380N', '420N', '340N',\n",
       "       '189N', '300N', '320N', '270N', '280N', '400N', '320 ', '365N',\n",
       "       '430N', '250 ', '370N', '350 ', '500N', '620N', '450N', '515N',\n",
       "       '570N', '624 ', '347N', '480N', '550N', '619N', '760N', '410N',\n",
       "       '335N', '600N', '850N', '900N', '580N', '520N', '1000', '700N',\n",
       "       '770N', '650N', '560N', '720N', '755N', '540N', '780N', '780 ',\n",
       "       '800N', '1020', '850 ', '1600', '1479', '18.9', '16.1', '69Nm',\n",
       "       '16.3', '240N', '103N', '112.', '1712', '22.4', '260N', '207N',\n",
       "       '195N', 'unde', '150N', '205N', '142N', '245N', '151N', '155N',\n",
       "       '133N', '153N', '70Nm', '105N', '145N', '247N', '321 ', '138N',\n",
       "       '330N', '360N', '343N', '245 ', '173N', '174N', '353N', '440N',\n",
       "       '470N', '385N', '340 ', '400 ', '370 ', '320h', '500@', '640N',\n",
       "       '480 ', '625N', '740N', '689N', '510N', '630N', '540 ', '697N',\n",
       "       '690N', '59Nm', '197 ', '115 ', '197N', '134N', '130N', '180N',\n",
       "       '225N', '218N', '144N', '242N', '248N', '196N', '192N', '221N',\n",
       "       '369N', '450 ', '620 ', '530N', '637N', '685N', '718 ', '212N',\n",
       "       '222N', '475N', '680N', '750N', '546N', '1130', '395 ', '660N',\n",
       "       '441N'], dtype=object)"
      ]
     },
     "execution_count": 252,
     "metadata": {},
     "output_type": "execute_result"
    }
   ],
   "source": [
    "df_obj[\"Torque\"].unique()"
   ]
  },
  {
   "cell_type": "code",
   "execution_count": 253,
   "id": "0c985f74",
   "metadata": {},
   "outputs": [
    {
     "name": "stderr",
     "output_type": "stream",
     "text": [
      "C:\\Users\\md kaif\\AppData\\Local\\Temp\\ipykernel_5312\\4046821860.py:1: FutureWarning: The default value of regex will change from True to False in a future version. In addition, single character regular expressions will *not* be treated as literal strings when regex=True.\n",
      "  df_obj[\"Torque\"]=df_obj[\"Torque\"].str.replace(\"N\",\"\").str.replace(\".\",\"\")\n"
     ]
    }
   ],
   "source": [
    "df_obj[\"Torque\"]=df_obj[\"Torque\"].str.replace(\"N\",\"\").str.replace(\".\",\"\")"
   ]
  },
  {
   "cell_type": "code",
   "execution_count": 254,
   "id": "4cf60c85",
   "metadata": {},
   "outputs": [
    {
     "data": {
      "text/plain": [
       "array(['51m', '72m', '91m', '101', '85m', '90m', '78m', '104', '990',\n",
       "       '83K', '114', '113', '96m', '103', '152', '183', '170', '190',\n",
       "       '140', '115', '220', '95m', '172', '230', '175', '250', '215',\n",
       "       '120', '132', '160', '209', '210', '110', '200', '110 ', '350',\n",
       "       '380', '420', '340', '189', '300', '320', '270', '280', '400',\n",
       "       '320 ', '365', '430', '250 ', '370', '350 ', '500', '620', '450',\n",
       "       '515', '570', '624 ', '347', '480', '550', '619', '760', '410',\n",
       "       '335', '600', '850', '900', '580', '520', '1000', '700', '770',\n",
       "       '650', '560', '720', '755', '540', '780', '780 ', '800', '1020',\n",
       "       '850 ', '1600', '1479', '161', '69m', '163', '240', '112', '1712',\n",
       "       '224', '260', '207', '195', 'unde', '150', '205', '142', '245',\n",
       "       '151', '155', '133', '153', '70m', '105', '145', '247', '321 ',\n",
       "       '138', '330', '360', '343', '245 ', '173', '174', '353', '440',\n",
       "       '470', '385', '340 ', '400 ', '370 ', '320h', '500@', '640',\n",
       "       '480 ', '625', '740', '689', '510', '630', '540 ', '697', '690',\n",
       "       '59m', '197 ', '115 ', '197', '134', '130', '180', '225', '218',\n",
       "       '144', '242', '248', '196', '192', '221', '369', '450 ', '620 ',\n",
       "       '530', '637', '685', '718 ', '212', '222', '475', '680', '750',\n",
       "       '546', '1130', '395 ', '660', '441'], dtype=object)"
      ]
     },
     "execution_count": 254,
     "metadata": {},
     "output_type": "execute_result"
    }
   ],
   "source": [
    "df_obj[\"Torque\"].unique()"
   ]
  },
  {
   "cell_type": "code",
   "execution_count": 255,
   "id": "7073a6d0",
   "metadata": {},
   "outputs": [],
   "source": [
    "df_obj[\"Torque\"]=df_obj[\"Torque\"].str.replace(\"@\",\"\").str.replace(\"h\",\"\").str.replace(\"K\",\"\").str.replace(\" \",\"\")"
   ]
  },
  {
   "cell_type": "code",
   "execution_count": 256,
   "id": "050e3dfe",
   "metadata": {},
   "outputs": [],
   "source": [
    "l=[\"ARAI_Certified_Mileage\",\"Boot_Space\",\"Torque\"]\n",
    "for i in l:\n",
    "    df_obj[i]=df_obj[i].replace(\"unde\",np.nan)"
   ]
  },
  {
   "cell_type": "code",
   "execution_count": 257,
   "id": "0b444261",
   "metadata": {},
   "outputs": [],
   "source": [
    "l=[\"Displacement\",\"Ground_Clearance\"]\n",
    "for i in l:\n",
    "    df_obj[i]=df_obj[i].replace(\"undefined\",np.nan)"
   ]
  },
  {
   "cell_type": "code",
   "execution_count": 258,
   "id": "3d425487",
   "metadata": {},
   "outputs": [
    {
     "data": {
      "text/plain": [
       "Make                                           0\n",
       "Model                                          0\n",
       "Variant                                        0\n",
       "Price                                          0\n",
       "Displacement                                  12\n",
       "Drivetrain                                     0\n",
       "Emission_Norm                                  0\n",
       "Keyless_Entry                                  0\n",
       "Power                                          0\n",
       "Torque                                         2\n",
       "Odometer                                       0\n",
       "Speedometer                                    0\n",
       "Tachometer                                     0\n",
       "Tripmeter                                      0\n",
       "Fuel_Type                                      0\n",
       "ARAI_Certified_Mileage                       114\n",
       "Front_Suspension                               0\n",
       "Rear_Suspension                                0\n",
       "Ground_Clearance                             289\n",
       "Boot_Space                                   249\n",
       "Audiosystem                                    0\n",
       "Third_Row_AC_Vents                             0\n",
       "Ventilation_System                             0\n",
       "Auto-Dimming_Rear-View_Mirror                  0\n",
       "Hill_Assist                                    0\n",
       "Gear_Indicator                                 0\n",
       "ABS_(Anti-lock_Braking_System)                 0\n",
       "EBD_(Electronic_Brake-force_Distribution)      0\n",
       "Gear_Shift_Reminder                            0\n",
       "Adjustable_Steering_Column                     0\n",
       "Parking_Assistance                             0\n",
       "Key_Off_Reminder                               0\n",
       "USB_Compatibility                              0\n",
       "EBA_(Electronic_Brake_Assist)                  0\n",
       "Seat_Height_Adjustment                         0\n",
       "Navigation_System                              0\n",
       "Second_Row_AC_Vents                            0\n",
       "Rear_Center_Armrest                            0\n",
       "ESP_(Electronic_Stability_Program)             0\n",
       "Cooled_Glove_Box                               0\n",
       "Turbocharger                                   0\n",
       "Rain_Sensing_Wipers                            0\n",
       "Automatic_Headlamps                            0\n",
       "ASR_/_Traction_Control                         0\n",
       "Cruise_Control                                 0\n",
       "dtype: int64"
      ]
     },
     "execution_count": 258,
     "metadata": {},
     "output_type": "execute_result"
    }
   ],
   "source": [
    "df_obj.isnull().sum()"
   ]
  },
  {
   "cell_type": "code",
   "execution_count": null,
   "id": "64ac23e7",
   "metadata": {},
   "outputs": [],
   "source": [
    "\n",
    "\n",
    "\n"
   ]
  },
  {
   "cell_type": "code",
   "execution_count": null,
   "id": "38a0fa25",
   "metadata": {},
   "outputs": [],
   "source": []
  },
  {
   "cell_type": "code",
   "execution_count": null,
   "id": "47f93a53",
   "metadata": {},
   "outputs": [],
   "source": [
    "\n"
   ]
  }
 ],
 "metadata": {
  "kernelspec": {
   "display_name": "Python 3 (ipykernel)",
   "language": "python",
   "name": "python3"
  },
  "language_info": {
   "codemirror_mode": {
    "name": "ipython",
    "version": 3
   },
   "file_extension": ".py",
   "mimetype": "text/x-python",
   "name": "python",
   "nbconvert_exporter": "python",
   "pygments_lexer": "ipython3",
   "version": "3.9.16"
  }
 },
 "nbformat": 4,
 "nbformat_minor": 5
}
